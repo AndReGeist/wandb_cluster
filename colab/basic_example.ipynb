{
  "cells": [
    {
      "cell_type": "markdown",
      "source": [
        "[![Open In Colab](https://colab.research.google.com/assets/colab-badge.svg)](https://colab.research.google.com/github/AndReGeist/wandb_cluster_neuralode/blob/main/colab/basic_example.ipynb#scrollTo=qXAp1blGadTl)"
      ],
      "metadata": {
        "collapsed": false,
        "id": "qo-_OdmRadTg"
      }
    },
    {
      "cell_type": "markdown",
      "source": [
        "# Basic example: Use \"Weights and biases\" with JAX\n",
        "\n",
        "In this notebook, we track the training process of a neural ODE regression using [weight and biases](https://wandb.ai/site).\n",
        "\n",
        "⚠️ The NeuralODE code below is copied and then altered from the example provided in the [Diffrax  git repo](https://docs.kidger.site/diffrax/examples/neural_ode/). If you happen to use Diffrax in your academic research kindly consider [citing the library](https://docs.kidger.site/diffrax/).\n",
        "\n",
        "The code below got inspired by the blogposts:\n",
        "- [Weights and biases: Quickstart](https://docs.wandb.ai/quickstart)\n",
        "- [A complete Weights and Biases tutorial](https://theaisummer.com/weights-and-biases-tutorial/)\n",
        "- [Writing a training loop in JAX and Flax](https://wandb.ai/jax-series/simple-training-loop/reports/Writing-a-Training-Loop-in-JAX-and-Flax--VmlldzoyMzA4ODEy)"
      ],
      "metadata": {
        "collapsed": false,
        "id": "hbYVVUpiadTh"
      }
    },
    {
      "cell_type": "code",
      "source": [
        "!pip install -q equinox diffrax optax"
      ],
      "metadata": {
        "id": "v9uYsWzIcB67"
      },
      "execution_count": 206,
      "outputs": []
    },
    {
      "cell_type": "code",
      "execution_count": 207,
      "outputs": [],
      "source": [
        "import time\n",
        "\n",
        "import diffrax  # https://docs.kidger.site/diffrax/\n",
        "import equinox as eqx  # https://github.com/patrick-kidger/equinox\n",
        "import jax\n",
        "import jax.nn as jnn\n",
        "import jax.numpy as jnp\n",
        "import jax.random as jrandom\n",
        "import matplotlib.pyplot as plt\n",
        "import optax  # https://github.com/deepmind/optax"
      ],
      "metadata": {
        "id": "PDQkuHpGadTi"
      }
    },
    {
      "cell_type": "markdown",
      "source": [
        "We use...\n",
        "- JAX, providing linear algebra with automatic differentiation and GPU acceleration\n",
        "- Equinox to build neural networks\n",
        "- Optax for optimisers\n",
        "- Diffrax for ODE solvers\n",
        "\n",
        "Define a NN that models an ODE..."
      ],
      "metadata": {
        "collapsed": false,
        "id": "3jUACpI0adTi"
      }
    },
    {
      "cell_type": "code",
      "execution_count": 208,
      "outputs": [],
      "source": [
        "class Func(eqx.Module):\n",
        "    mlp: eqx.nn.MLP\n",
        "\n",
        "    def __init__(self, data_size, width_size, depth, *, key, **kwargs):\n",
        "        super().__init__(**kwargs)\n",
        "        self.mlp = eqx.nn.MLP(\n",
        "            in_size=data_size,\n",
        "            out_size=data_size,\n",
        "            width_size=width_size,\n",
        "            depth=depth,\n",
        "            activation=jnn.softplus,\n",
        "            key=key,\n",
        "        )\n",
        "\n",
        "    def __call__(self, t, y, args):\n",
        "        return self.mlp(y)"
      ],
      "metadata": {
        "id": "4zhQcAxtadTj"
      }
    },
    {
      "cell_type": "markdown",
      "source": [
        "Wrap the ODE solver into a model..."
      ],
      "metadata": {
        "collapsed": false,
        "id": "8jJ4zKyVadTj"
      }
    },
    {
      "cell_type": "code",
      "execution_count": 209,
      "outputs": [],
      "source": [
        "class NeuralODE(eqx.Module):\n",
        "    func: Func\n",
        "\n",
        "    def __init__(self, data_size, width_size, depth, *, key, **kwargs):\n",
        "        super().__init__(**kwargs)\n",
        "        self.func = Func(data_size, width_size, depth, key=key)\n",
        "\n",
        "    def __call__(self, ts, y0):\n",
        "        solution = diffrax.diffeqsolve(\n",
        "            diffrax.ODETerm(self.func),\n",
        "            diffrax.Tsit5(),\n",
        "            t0=ts[0],\n",
        "            t1=ts[-1],\n",
        "            dt0=ts[1] - ts[0],\n",
        "            y0=y0,\n",
        "            stepsize_controller=diffrax.PIDController(rtol=1e-3, atol=1e-6),\n",
        "            saveat=diffrax.SaveAt(ts=ts),\n",
        "        )\n",
        "        return solution.ys"
      ],
      "metadata": {
        "id": "lSJUapiDadTj"
      }
    },
    {
      "cell_type": "markdown",
      "source": [
        "Toy dataset of nonlinear oscillators. Sample paths look like deformed sines and cosines."
      ],
      "metadata": {
        "collapsed": false,
        "id": "9jMqjeh9adTj"
      }
    },
    {
      "cell_type": "code",
      "execution_count": 210,
      "outputs": [],
      "source": [
        "def _get_data(ts, *, key):\n",
        "    y0 = jrandom.uniform(key, (2,), minval=-0.6, maxval=1)\n",
        "\n",
        "    def f(t, y, args):\n",
        "        x = y / (1 + y)\n",
        "        return jnp.stack([x[1], -x[0]], axis=-1)\n",
        "\n",
        "    solver = diffrax.Tsit5()\n",
        "    dt0 = 0.1\n",
        "    saveat = diffrax.SaveAt(ts=ts)\n",
        "    sol = diffrax.diffeqsolve(\n",
        "        diffrax.ODETerm(f), solver, ts[0], ts[-1], dt0, y0, saveat=saveat\n",
        "    )\n",
        "    ys = sol.ys\n",
        "    return ys\n",
        "\n",
        "\n",
        "def get_data(dataset_size, *, key):\n",
        "    ts = jnp.linspace(0, 10, 100)\n",
        "    key = jrandom.split(key, dataset_size)\n",
        "    ys = jax.vmap(lambda key: _get_data(ts, key=key))(key)\n",
        "    return ts, ys"
      ],
      "metadata": {
        "id": "-LBT97rqadTk"
      }
    },
    {
      "cell_type": "code",
      "execution_count": 211,
      "outputs": [],
      "source": [
        "def dataloader(arrays, batch_size, *, key):\n",
        "    dataset_size = arrays[0].shape[0]\n",
        "    assert all(array.shape[0] == dataset_size for array in arrays)\n",
        "    indices = jnp.arange(dataset_size)\n",
        "    while True:\n",
        "        perm = jrandom.permutation(key, indices)\n",
        "        (key,) = jrandom.split(key, 1)\n",
        "        start = 0\n",
        "        end = batch_size\n",
        "        while end < dataset_size:\n",
        "            batch_perm = perm[start:end]\n",
        "            yield tuple(array[batch_perm] for array in arrays)\n",
        "            start = end\n",
        "            end = start + batch_size"
      ],
      "metadata": {
        "id": "rFjVlwUjadTk"
      }
    },
    {
      "cell_type": "markdown",
      "source": [
        "Before we setup data set creation and the main training loop, we install the weights and biases library and login with our account...\n",
        "\n"
      ],
      "metadata": {
        "collapsed": false,
        "id": "EP0tmRsIadTl"
      }
    },
    {
      "cell_type": "code",
      "source": [
        "!pip install -q wandb\n",
        "!wandb login"
      ],
      "metadata": {
        "colab": {
          "base_uri": "https://localhost:8080/"
        },
        "id": "TRP6-qAZgPO-",
        "outputId": "6bcbf277-10fd-4586-9ed5-ca3985ba611b"
      },
      "execution_count": 212,
      "outputs": [
        {
          "output_type": "stream",
          "name": "stdout",
          "text": [
            "\u001b[34m\u001b[1mwandb\u001b[0m: Currently logged in as: \u001b[33mrene-geist\u001b[0m. Use \u001b[1m`wandb login --relogin`\u001b[0m to force relogin\n"
          ]
        }
      ]
    },
    {
      "cell_type": "code",
      "source": [
        "import wandb\n",
        "import pickle\n",
        "import os"
      ],
      "metadata": {
        "id": "Q2qLOaiLfqmx"
      },
      "execution_count": 213,
      "outputs": []
    },
    {
      "cell_type": "markdown",
      "source": [
        "Data sets (as well as models) can be stored in wandb as \"artifacs\". An [artifact](https://docs.wandb.ai/guides/data-and-model-versioning) is simply a folder with files on the wandb server. Wandb checksums the artifact to identify changes and track new versions."
      ],
      "metadata": {
        "id": "_gFZul6Sd-07"
      }
    },
    {
      "cell_type": "code",
      "source": [
        "def create_dataset(seed=42, dataset_size=256):\n",
        "\n",
        "    # Initialize a new W&B run to track this job\n",
        "    run = wandb.init(project=\"basic_example\", job_type=\"dataset-creation\")\n",
        "\n",
        "    key = jrandom.PRNGKey(seed)\n",
        "    ts, ys = get_data(dataset_size, key=key)\n",
        "    _, length_size, data_size = ys.shape\n",
        "\n",
        "    data = {\"ts\": ts, \n",
        "            \"ys\": ys, \n",
        "            \"length_size\": length_size, \n",
        "            \"data_size\": data_size}\n",
        "\n",
        "    with open('data.pickle', 'wb') as handle:\n",
        "        pickle.dump(data, handle, protocol=pickle.HIGHEST_PROTOCOL)\n",
        "\n",
        "    dataset = wandb.Artifact('my-dataset', type='dataset')\n",
        "    dataset.add_file(\"data.pickle\")\n",
        "    run.log_artifact(dataset)\n",
        "\n",
        "    # ============= wandb - finish session ============= #\n",
        "    wandb.finish()"
      ],
      "metadata": {
        "id": "_olkojeGd_Eb"
      },
      "execution_count": 214,
      "outputs": []
    },
    {
      "cell_type": "markdown",
      "source": [
        "In the **main training loop**, we use wandb to...\n",
        "\n",
        "1. Load the dataset   \n",
        "2. log the optimization configurations\n",
        "3.   log optimization data\n",
        "4.   log model gradients"
      ],
      "metadata": {
        "id": "Xtr7R9XdoYRb"
      }
    },
    {
      "cell_type": "code",
      "execution_count": 215,
      "outputs": [],
      "source": [
        "def main(        \n",
        "        batch_size=32,\n",
        "        lr_strategy=(3e-3, 3e-3),\n",
        "        steps_strategy=(500, 500),\n",
        "        length_strategy=(0.1, 1),\n",
        "        width_size=64,\n",
        "        depth=2,\n",
        "        seed=5678,\n",
        "        plot=True,\n",
        "        print_every=100\n",
        "):\n",
        "\n",
        "    # ============= wandb - log optimization configurations ============= #\n",
        "    # Define a config dictionary object\n",
        "    config = {\n",
        "      \"dataset_size\": dataset_size,\n",
        "      \"batch_size\": batch_size,\n",
        "      \"lr_strategy\": lr_strategy,\n",
        "      \"steps_strategy\": steps_strategy,\n",
        "      \"length_strategy\": length_strategy,\n",
        "      \"width_size\": width_size,\n",
        "      \"depth\": depth,\n",
        "      \"seed\": seed,\n",
        "      \"print_every\": print_every,\n",
        "      \"load_data_from_wandb\": load_data_from_wandb,\n",
        "      \"data_artifact_path\": data_artifact_path\n",
        "    }\n",
        "\n",
        "    run = wandb.init(\n",
        "              project=\"wandb_cluster_neuralode\",\n",
        "              job_type=\"basic_example\",\n",
        "              config=config\n",
        "    ) \n",
        "    # You can explicitly state to which team wandb will save data by adding the option entity='<Team name>'\n",
        "\n",
        "    key = jrandom.PRNGKey(seed)\n",
        "    model_key, loader_key = jrandom.split(key, 2)\n",
        "\n",
        "    # ============= wandb - store/load data set \"artifact\" ============= #\n",
        "    artifact = run.use_artifact(data_artifact_path, type='dataset')\n",
        "    artifact_dir = artifact.download()\n",
        "    \n",
        "    data_path = os.path.join(artifact_dir, 'my-dataset.pickle')\n",
        "    with open(data_path, 'rb') as handle:\n",
        "      data = pickle.load(handle)\n",
        "      \n",
        "      for key,val in data.items():\n",
        "        exec(key + '=val')\n",
        "\n",
        "    model = NeuralODE(data_size, width_size, depth, key=model_key)\n",
        "\n",
        "\n",
        "    # ============= Training loop ============= #\n",
        "    # Until step 500 we train on only the first 10% of each time series.\n",
        "    # This is a standard trick to avoid getting caught in a local minimum.\n",
        "\n",
        "    @eqx.filter_value_and_grad\n",
        "    def grad_loss(model, ti, yi):\n",
        "        y_pred = jax.vmap(model, in_axes=(None, 0))(ti, yi[:, 0])\n",
        "        return jnp.mean((yi - y_pred) ** 2)\n",
        "\n",
        "    @eqx.filter_jit\n",
        "    def make_step(ti, yi, model, opt_state):\n",
        "        loss, grads = grad_loss(model, ti, yi)\n",
        "        updates, opt_state = optim.update(grads, opt_state)\n",
        "        model = eqx.apply_updates(model, updates)\n",
        "        return loss, model, opt_state\n",
        "\n",
        "    for lr, steps, length in zip(lr_strategy, steps_strategy, length_strategy):\n",
        "        optim = optax.adabelief(lr)\n",
        "        opt_state = optim.init(eqx.filter(model, eqx.is_inexact_array))\n",
        "        _ts = ts[: int(length_size * length)]\n",
        "        _ys = ys[:, : int(length_size * length)]\n",
        "        for step, (yi,) in zip(\n",
        "                range(steps), dataloader((_ys,), batch_size, key=loader_key)\n",
        "        ):\n",
        "            start = time.time()\n",
        "            loss, model, opt_state = make_step(_ts, yi, model, opt_state)\n",
        "            end = time.time()\n",
        "\n",
        "            if (step % print_every) == 0 or step == steps - 1:\n",
        "                print(f\"Step: {step}, Loss: {loss}, Computation time: {end - start}\")\n",
        "\n",
        "                # ============= wandb - log optimization data ============= #\n",
        "                wandb.log({\n",
        "                  'step': step, \n",
        "                  'loss': loss, \n",
        "                  'computation time': end - start\n",
        "                })\n",
        "\n",
        "    if plot:\n",
        "        plt.plot(ts, ys[0, :, 0], c=\"dodgerblue\", label=\"Real\")\n",
        "        plt.plot(ts, ys[0, :, 1], c=\"dodgerblue\")\n",
        "        model_y = model(ts, ys[0, 0])\n",
        "        plt.plot(ts, model_y[:, 0], c=\"crimson\", label=\"Model\")\n",
        "        plt.plot(ts, model_y[:, 1], c=\"crimson\")\n",
        "        plt.legend()\n",
        "        plt.tight_layout()\n",
        "        plt.savefig(\"neural_ode.png\")\n",
        "        plt.show()\n",
        "\n",
        "    # ============= wandb - finish session ============= #\n",
        "    wandb.finish()\n",
        "\n",
        "    return ts, ys, model"
      ],
      "metadata": {
        "id": "qXAp1blGadTl"
      }
    },
    {
      "cell_type": "code",
      "execution_count": 216,
      "outputs": [
        {
          "output_type": "display_data",
          "data": {
            "text/plain": [
              "VBox(children=(Label(value='Waiting for wandb.init()...\\r'), FloatProgress(value=0.01666893116665354, max=1.0)…"
            ],
            "application/vnd.jupyter.widget-view+json": {
              "version_major": 2,
              "version_minor": 0,
              "model_id": "c784ecd7834b4a01a213c25e74599f97"
            }
          },
          "metadata": {}
        },
        {
          "output_type": "stream",
          "name": "stdout",
          "text": [
            "Problem at: <ipython-input-214-0700f9833e43> 4 create_dataset\n"
          ]
        },
        {
          "output_type": "stream",
          "name": "stderr",
          "text": [
            "Traceback (most recent call last):\n",
            "  File \"/usr/local/lib/python3.9/dist-packages/wandb/sdk/wandb_init.py\", line 1144, in init\n",
            "    run = wi.init()\n",
            "  File \"/usr/local/lib/python3.9/dist-packages/wandb/sdk/wandb_init.py\", line 773, in init\n",
            "    raise error\n",
            "wandb.errors.CommError: Error communicating with wandb process, exiting...\n",
            "For more info see: https://docs.wandb.ai/guides/track/tracking-faq#initstarterror-error-communicating-with-wandb-process-\n",
            "\u001b[34m\u001b[1mwandb\u001b[0m: \u001b[32m\u001b[41mERROR\u001b[0m Abnormal program exit\n"
          ]
        },
        {
          "output_type": "error",
          "ename": "Exception",
          "evalue": "ignored",
          "traceback": [
            "\u001b[0;31m---------------------------------------------------------------------------\u001b[0m",
            "\u001b[0;31mCommError\u001b[0m                                 Traceback (most recent call last)",
            "\u001b[0;32m/usr/local/lib/python3.9/dist-packages/wandb/sdk/wandb_init.py\u001b[0m in \u001b[0;36minit\u001b[0;34m(job_type, dir, config, project, entity, reinit, tags, group, name, notes, magic, config_exclude_keys, config_include_keys, anonymous, mode, allow_val_change, resume, force, tensorboard, sync_tensorboard, monitor_gym, save_code, id, settings)\u001b[0m\n\u001b[1;32m   1143\u001b[0m         \u001b[0;32mtry\u001b[0m\u001b[0;34m:\u001b[0m\u001b[0;34m\u001b[0m\u001b[0;34m\u001b[0m\u001b[0m\n\u001b[0;32m-> 1144\u001b[0;31m             \u001b[0mrun\u001b[0m \u001b[0;34m=\u001b[0m \u001b[0mwi\u001b[0m\u001b[0;34m.\u001b[0m\u001b[0minit\u001b[0m\u001b[0;34m(\u001b[0m\u001b[0;34m)\u001b[0m\u001b[0;34m\u001b[0m\u001b[0;34m\u001b[0m\u001b[0m\n\u001b[0m\u001b[1;32m   1145\u001b[0m             \u001b[0mexcept_exit\u001b[0m \u001b[0;34m=\u001b[0m \u001b[0mwi\u001b[0m\u001b[0;34m.\u001b[0m\u001b[0msettings\u001b[0m\u001b[0;34m.\u001b[0m\u001b[0m_except_exit\u001b[0m\u001b[0;34m\u001b[0m\u001b[0;34m\u001b[0m\u001b[0m\n",
            "\u001b[0;32m/usr/local/lib/python3.9/dist-packages/wandb/sdk/wandb_init.py\u001b[0m in \u001b[0;36minit\u001b[0;34m(self)\u001b[0m\n\u001b[1;32m    772\u001b[0m                     \u001b[0mself\u001b[0m\u001b[0;34m.\u001b[0m\u001b[0mteardown\u001b[0m\u001b[0;34m(\u001b[0m\u001b[0;34m)\u001b[0m\u001b[0;34m\u001b[0m\u001b[0;34m\u001b[0m\u001b[0m\n\u001b[0;32m--> 773\u001b[0;31m                 \u001b[0;32mraise\u001b[0m \u001b[0merror\u001b[0m\u001b[0;34m\u001b[0m\u001b[0;34m\u001b[0m\u001b[0m\n\u001b[0m\u001b[1;32m    774\u001b[0m \u001b[0;34m\u001b[0m\u001b[0m\n",
            "\u001b[0;31mCommError\u001b[0m: Error communicating with wandb process, exiting...\nFor more info see: https://docs.wandb.ai/guides/track/tracking-faq#initstarterror-error-communicating-with-wandb-process-",
            "\nThe above exception was the direct cause of the following exception:\n",
            "\u001b[0;31mException\u001b[0m                                 Traceback (most recent call last)",
            "\u001b[0;32m<ipython-input-216-3dbd42800127>\u001b[0m in \u001b[0;36m<module>\u001b[0;34m\u001b[0m\n\u001b[0;32m----> 1\u001b[0;31m \u001b[0mcreate_dataset\u001b[0m\u001b[0;34m(\u001b[0m\u001b[0;34m)\u001b[0m\u001b[0;34m\u001b[0m\u001b[0;34m\u001b[0m\u001b[0m\n\u001b[0m\u001b[1;32m      2\u001b[0m \u001b[0;31m#ts, ys, model = main(seed=42)\u001b[0m\u001b[0;34m\u001b[0m\u001b[0;34m\u001b[0m\u001b[0m\n",
            "\u001b[0;32m<ipython-input-214-0700f9833e43>\u001b[0m in \u001b[0;36mcreate_dataset\u001b[0;34m(seed, dataset_size)\u001b[0m\n\u001b[1;32m      2\u001b[0m \u001b[0;34m\u001b[0m\u001b[0m\n\u001b[1;32m      3\u001b[0m       \u001b[0;31m# Initialize a new W&B run to track this job\u001b[0m\u001b[0;34m\u001b[0m\u001b[0;34m\u001b[0m\u001b[0m\n\u001b[0;32m----> 4\u001b[0;31m       \u001b[0mrun\u001b[0m \u001b[0;34m=\u001b[0m \u001b[0mwandb\u001b[0m\u001b[0;34m.\u001b[0m\u001b[0minit\u001b[0m\u001b[0;34m(\u001b[0m\u001b[0mproject\u001b[0m\u001b[0;34m=\u001b[0m\u001b[0;34m\"basic_example\"\u001b[0m\u001b[0;34m,\u001b[0m \u001b[0mjob_type\u001b[0m\u001b[0;34m=\u001b[0m\u001b[0;34m\"dataset-creation\"\u001b[0m\u001b[0;34m)\u001b[0m\u001b[0;34m\u001b[0m\u001b[0;34m\u001b[0m\u001b[0m\n\u001b[0m\u001b[1;32m      5\u001b[0m \u001b[0;34m\u001b[0m\u001b[0m\n\u001b[1;32m      6\u001b[0m       \u001b[0mkey\u001b[0m \u001b[0;34m=\u001b[0m \u001b[0mjrandom\u001b[0m\u001b[0;34m.\u001b[0m\u001b[0mPRNGKey\u001b[0m\u001b[0;34m(\u001b[0m\u001b[0mseed\u001b[0m\u001b[0;34m)\u001b[0m\u001b[0;34m\u001b[0m\u001b[0;34m\u001b[0m\u001b[0m\n",
            "\u001b[0;32m/usr/local/lib/python3.9/dist-packages/wandb/sdk/wandb_init.py\u001b[0m in \u001b[0;36minit\u001b[0;34m(job_type, dir, config, project, entity, reinit, tags, group, name, notes, magic, config_exclude_keys, config_include_keys, anonymous, mode, allow_val_change, resume, force, tensorboard, sync_tensorboard, monitor_gym, save_code, id, settings)\u001b[0m\n\u001b[1;32m   1179\u001b[0m             \u001b[0;32mif\u001b[0m \u001b[0mexcept_exit\u001b[0m\u001b[0;34m:\u001b[0m\u001b[0;34m\u001b[0m\u001b[0;34m\u001b[0m\u001b[0m\n\u001b[1;32m   1180\u001b[0m                 \u001b[0mos\u001b[0m\u001b[0;34m.\u001b[0m\u001b[0m_exit\u001b[0m\u001b[0;34m(\u001b[0m\u001b[0;36m1\u001b[0m\u001b[0;34m)\u001b[0m\u001b[0;34m\u001b[0m\u001b[0;34m\u001b[0m\u001b[0m\n\u001b[0;32m-> 1181\u001b[0;31m             \u001b[0;32mraise\u001b[0m \u001b[0mException\u001b[0m\u001b[0;34m(\u001b[0m\u001b[0;34m\"problem\"\u001b[0m\u001b[0;34m)\u001b[0m \u001b[0;32mfrom\u001b[0m \u001b[0merror_seen\u001b[0m\u001b[0;34m\u001b[0m\u001b[0;34m\u001b[0m\u001b[0m\n\u001b[0m\u001b[1;32m   1182\u001b[0m     \u001b[0;32mreturn\u001b[0m \u001b[0mrun\u001b[0m\u001b[0;34m\u001b[0m\u001b[0;34m\u001b[0m\u001b[0m\n",
            "\u001b[0;31mException\u001b[0m: problem"
          ]
        }
      ],
      "source": [
        "create_dataset()\n",
        "#ts, ys, model = main(seed=42)"
      ],
      "metadata": {
        "colab": {
          "base_uri": "https://localhost:8080/",
          "height": 755,
          "referenced_widgets": [
            "c784ecd7834b4a01a213c25e74599f97",
            "91a5c845067343ca9c026dc87505fe52",
            "db32d3894c91405aac15ddb34e4e2b83",
            "d4e9a51480094ef088487c8a1c07c992",
            "9dce8754e5fa4f1b8b8809ed31358e88",
            "d2dc4e3c336f4157b8f4518985098100",
            "39b439b5eb494d33af93a1853add5182",
            "9c6f3bc672524d538223f2e18f174e2e"
          ]
        },
        "id": "2unJEl9MadTm",
        "outputId": "113f7fa8-32c5-48f7-db0a-491c54fc70aa"
      }
    }
  ],
  "metadata": {
    "kernelspec": {
      "display_name": "Python 3",
      "language": "python",
      "name": "python3"
    },
    "language_info": {
      "codemirror_mode": {
        "name": "ipython",
        "version": 2
      },
      "file_extension": ".py",
      "mimetype": "text/x-python",
      "name": "python",
      "nbconvert_exporter": "python",
      "pygments_lexer": "ipython2",
      "version": "2.7.6"
    },
    "colab": {
      "provenance": []
    },
    "accelerator": "GPU",
    "gpuClass": "standard",
    "widgets": {
      "application/vnd.jupyter.widget-state+json": {
        "c784ecd7834b4a01a213c25e74599f97": {
          "model_module": "@jupyter-widgets/controls",
          "model_name": "VBoxModel",
          "model_module_version": "1.5.0",
          "state": {
            "_dom_classes": [],
            "_model_module": "@jupyter-widgets/controls",
            "_model_module_version": "1.5.0",
            "_model_name": "VBoxModel",
            "_view_count": null,
            "_view_module": "@jupyter-widgets/controls",
            "_view_module_version": "1.5.0",
            "_view_name": "VBoxView",
            "box_style": "",
            "children": [
              "IPY_MODEL_91a5c845067343ca9c026dc87505fe52",
              "IPY_MODEL_db32d3894c91405aac15ddb34e4e2b83"
            ],
            "layout": "IPY_MODEL_d4e9a51480094ef088487c8a1c07c992"
          }
        },
        "91a5c845067343ca9c026dc87505fe52": {
          "model_module": "@jupyter-widgets/controls",
          "model_name": "LabelModel",
          "model_module_version": "1.5.0",
          "state": {
            "_dom_classes": [],
            "_model_module": "@jupyter-widgets/controls",
            "_model_module_version": "1.5.0",
            "_model_name": "LabelModel",
            "_view_count": null,
            "_view_module": "@jupyter-widgets/controls",
            "_view_module_version": "1.5.0",
            "_view_name": "LabelView",
            "description": "",
            "description_tooltip": null,
            "layout": "IPY_MODEL_9dce8754e5fa4f1b8b8809ed31358e88",
            "placeholder": "​",
            "style": "IPY_MODEL_d2dc4e3c336f4157b8f4518985098100",
            "value": "Waiting for wandb.init()...\r"
          }
        },
        "db32d3894c91405aac15ddb34e4e2b83": {
          "model_module": "@jupyter-widgets/controls",
          "model_name": "FloatProgressModel",
          "model_module_version": "1.5.0",
          "state": {
            "_dom_classes": [],
            "_model_module": "@jupyter-widgets/controls",
            "_model_module_version": "1.5.0",
            "_model_name": "FloatProgressModel",
            "_view_count": null,
            "_view_module": "@jupyter-widgets/controls",
            "_view_module_version": "1.5.0",
            "_view_name": "ProgressView",
            "bar_style": "",
            "description": "",
            "description_tooltip": null,
            "layout": "IPY_MODEL_39b439b5eb494d33af93a1853add5182",
            "max": 1,
            "min": 0,
            "orientation": "horizontal",
            "style": "IPY_MODEL_9c6f3bc672524d538223f2e18f174e2e",
            "value": 0.9843130872499993
          }
        },
        "d4e9a51480094ef088487c8a1c07c992": {
          "model_module": "@jupyter-widgets/base",
          "model_name": "LayoutModel",
          "model_module_version": "1.2.0",
          "state": {
            "_model_module": "@jupyter-widgets/base",
            "_model_module_version": "1.2.0",
            "_model_name": "LayoutModel",
            "_view_count": null,
            "_view_module": "@jupyter-widgets/base",
            "_view_module_version": "1.2.0",
            "_view_name": "LayoutView",
            "align_content": null,
            "align_items": null,
            "align_self": null,
            "border": null,
            "bottom": null,
            "display": null,
            "flex": null,
            "flex_flow": null,
            "grid_area": null,
            "grid_auto_columns": null,
            "grid_auto_flow": null,
            "grid_auto_rows": null,
            "grid_column": null,
            "grid_gap": null,
            "grid_row": null,
            "grid_template_areas": null,
            "grid_template_columns": null,
            "grid_template_rows": null,
            "height": null,
            "justify_content": null,
            "justify_items": null,
            "left": null,
            "margin": null,
            "max_height": null,
            "max_width": null,
            "min_height": null,
            "min_width": null,
            "object_fit": null,
            "object_position": null,
            "order": null,
            "overflow": null,
            "overflow_x": null,
            "overflow_y": null,
            "padding": null,
            "right": null,
            "top": null,
            "visibility": null,
            "width": null
          }
        },
        "9dce8754e5fa4f1b8b8809ed31358e88": {
          "model_module": "@jupyter-widgets/base",
          "model_name": "LayoutModel",
          "model_module_version": "1.2.0",
          "state": {
            "_model_module": "@jupyter-widgets/base",
            "_model_module_version": "1.2.0",
            "_model_name": "LayoutModel",
            "_view_count": null,
            "_view_module": "@jupyter-widgets/base",
            "_view_module_version": "1.2.0",
            "_view_name": "LayoutView",
            "align_content": null,
            "align_items": null,
            "align_self": null,
            "border": null,
            "bottom": null,
            "display": null,
            "flex": null,
            "flex_flow": null,
            "grid_area": null,
            "grid_auto_columns": null,
            "grid_auto_flow": null,
            "grid_auto_rows": null,
            "grid_column": null,
            "grid_gap": null,
            "grid_row": null,
            "grid_template_areas": null,
            "grid_template_columns": null,
            "grid_template_rows": null,
            "height": null,
            "justify_content": null,
            "justify_items": null,
            "left": null,
            "margin": null,
            "max_height": null,
            "max_width": null,
            "min_height": null,
            "min_width": null,
            "object_fit": null,
            "object_position": null,
            "order": null,
            "overflow": null,
            "overflow_x": null,
            "overflow_y": null,
            "padding": null,
            "right": null,
            "top": null,
            "visibility": null,
            "width": null
          }
        },
        "d2dc4e3c336f4157b8f4518985098100": {
          "model_module": "@jupyter-widgets/controls",
          "model_name": "DescriptionStyleModel",
          "model_module_version": "1.5.0",
          "state": {
            "_model_module": "@jupyter-widgets/controls",
            "_model_module_version": "1.5.0",
            "_model_name": "DescriptionStyleModel",
            "_view_count": null,
            "_view_module": "@jupyter-widgets/base",
            "_view_module_version": "1.2.0",
            "_view_name": "StyleView",
            "description_width": ""
          }
        },
        "39b439b5eb494d33af93a1853add5182": {
          "model_module": "@jupyter-widgets/base",
          "model_name": "LayoutModel",
          "model_module_version": "1.2.0",
          "state": {
            "_model_module": "@jupyter-widgets/base",
            "_model_module_version": "1.2.0",
            "_model_name": "LayoutModel",
            "_view_count": null,
            "_view_module": "@jupyter-widgets/base",
            "_view_module_version": "1.2.0",
            "_view_name": "LayoutView",
            "align_content": null,
            "align_items": null,
            "align_self": null,
            "border": null,
            "bottom": null,
            "display": null,
            "flex": null,
            "flex_flow": null,
            "grid_area": null,
            "grid_auto_columns": null,
            "grid_auto_flow": null,
            "grid_auto_rows": null,
            "grid_column": null,
            "grid_gap": null,
            "grid_row": null,
            "grid_template_areas": null,
            "grid_template_columns": null,
            "grid_template_rows": null,
            "height": null,
            "justify_content": null,
            "justify_items": null,
            "left": null,
            "margin": null,
            "max_height": null,
            "max_width": null,
            "min_height": null,
            "min_width": null,
            "object_fit": null,
            "object_position": null,
            "order": null,
            "overflow": null,
            "overflow_x": null,
            "overflow_y": null,
            "padding": null,
            "right": null,
            "top": null,
            "visibility": null,
            "width": null
          }
        },
        "9c6f3bc672524d538223f2e18f174e2e": {
          "model_module": "@jupyter-widgets/controls",
          "model_name": "ProgressStyleModel",
          "model_module_version": "1.5.0",
          "state": {
            "_model_module": "@jupyter-widgets/controls",
            "_model_module_version": "1.5.0",
            "_model_name": "ProgressStyleModel",
            "_view_count": null,
            "_view_module": "@jupyter-widgets/base",
            "_view_module_version": "1.2.0",
            "_view_name": "StyleView",
            "bar_color": null,
            "description_width": ""
          }
        }
      }
    }
  },
  "nbformat": 4,
  "nbformat_minor": 0
}