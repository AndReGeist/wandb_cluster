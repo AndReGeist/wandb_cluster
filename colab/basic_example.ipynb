{
  "cells": [
    {
      "cell_type": "markdown",
      "source": [
        "[![Open In Colab](https://colab.research.google.com/assets/colab-badge.svg)](https://colab.research.google.com/github/AndReGeist/wandb_cluster_neuralode/blob/main/colab/basic_example.ipynb#scrollTo=qXAp1blGadTl)"
      ],
      "metadata": {
        "collapsed": false,
        "id": "qo-_OdmRadTg"
      }
    },
    {
      "cell_type": "markdown",
      "source": [
        "# Basic example: Use \"Weights and biases\" with JAX\n",
        "\n",
        "In this notebook, we track the training process of a neural ODE regression using [weight and biases](https://wandb.ai/site).\n",
        "\n",
        "⚠️ The NeuralODE code below is copied and then altered from the example provided in the [Diffrax  git repo](https://docs.kidger.site/diffrax/examples/neural_ode/). If you happen to use Diffrax in your academic research kindly [cite the library](https://docs.kidger.site/diffrax/)."
      ],
      "metadata": {
        "collapsed": false,
        "id": "hbYVVUpiadTh"
      }
    },
    {
      "cell_type": "code",
      "source": [
        "!pip install equinox\n",
        "!pip install diffrax\n",
        "!pip install optax"
      ],
      "metadata": {
        "id": "v9uYsWzIcB67",
        "outputId": "c3ec3b6d-5999-42ea-abfd-46a375515b57",
        "colab": {
          "base_uri": "https://localhost:8080/"
        }
      },
      "execution_count": 4,
      "outputs": [
        {
          "output_type": "stream",
          "name": "stdout",
          "text": [
            "Looking in indexes: https://pypi.org/simple, https://us-python.pkg.dev/colab-wheels/public/simple/\n",
            "Requirement already satisfied: equinox in /usr/local/lib/python3.9/dist-packages (0.10.1)\n",
            "Requirement already satisfied: jax>=0.4.3 in /usr/local/lib/python3.9/dist-packages (from equinox) (0.4.6)\n",
            "Requirement already satisfied: jaxtyping>=0.2.12 in /usr/local/lib/python3.9/dist-packages (from equinox) (0.2.14)\n",
            "Requirement already satisfied: opt-einsum in /usr/local/lib/python3.9/dist-packages (from jax>=0.4.3->equinox) (3.3.0)\n",
            "Requirement already satisfied: scipy>=1.5 in /usr/local/lib/python3.9/dist-packages (from jax>=0.4.3->equinox) (1.10.1)\n",
            "Requirement already satisfied: numpy>=1.20 in /usr/local/lib/python3.9/dist-packages (from jax>=0.4.3->equinox) (1.22.4)\n",
            "Requirement already satisfied: typeguard>=2.13.3 in /usr/local/lib/python3.9/dist-packages (from jaxtyping>=0.2.12->equinox) (3.0.1)\n",
            "Requirement already satisfied: typing-extensions>=3.7.4.1 in /usr/local/lib/python3.9/dist-packages (from jaxtyping>=0.2.12->equinox) (4.5.0)\n",
            "Requirement already satisfied: importlib-metadata>=3.6 in /usr/local/lib/python3.9/dist-packages (from typeguard>=2.13.3->jaxtyping>=0.2.12->equinox) (6.0.0)\n",
            "Requirement already satisfied: zipp>=0.5 in /usr/local/lib/python3.9/dist-packages (from importlib-metadata>=3.6->typeguard>=2.13.3->jaxtyping>=0.2.12->equinox) (3.15.0)\n",
            "Looking in indexes: https://pypi.org/simple, https://us-python.pkg.dev/colab-wheels/public/simple/\n",
            "Requirement already satisfied: diffrax in /usr/local/lib/python3.9/dist-packages (0.3.1)\n",
            "Requirement already satisfied: equinox>=0.10.0 in /usr/local/lib/python3.9/dist-packages (from diffrax) (0.10.1)\n",
            "Requirement already satisfied: jax>=0.4.3 in /usr/local/lib/python3.9/dist-packages (from diffrax) (0.4.6)\n",
            "Requirement already satisfied: jaxtyping>=0.2.12 in /usr/local/lib/python3.9/dist-packages (from equinox>=0.10.0->diffrax) (0.2.14)\n",
            "Requirement already satisfied: opt-einsum in /usr/local/lib/python3.9/dist-packages (from jax>=0.4.3->diffrax) (3.3.0)\n",
            "Requirement already satisfied: numpy>=1.20 in /usr/local/lib/python3.9/dist-packages (from jax>=0.4.3->diffrax) (1.22.4)\n",
            "Requirement already satisfied: scipy>=1.5 in /usr/local/lib/python3.9/dist-packages (from jax>=0.4.3->diffrax) (1.10.1)\n",
            "Requirement already satisfied: typeguard>=2.13.3 in /usr/local/lib/python3.9/dist-packages (from jaxtyping>=0.2.12->equinox>=0.10.0->diffrax) (3.0.1)\n",
            "Requirement already satisfied: typing-extensions>=3.7.4.1 in /usr/local/lib/python3.9/dist-packages (from jaxtyping>=0.2.12->equinox>=0.10.0->diffrax) (4.5.0)\n",
            "Requirement already satisfied: importlib-metadata>=3.6 in /usr/local/lib/python3.9/dist-packages (from typeguard>=2.13.3->jaxtyping>=0.2.12->equinox>=0.10.0->diffrax) (6.0.0)\n",
            "Requirement already satisfied: zipp>=0.5 in /usr/local/lib/python3.9/dist-packages (from importlib-metadata>=3.6->typeguard>=2.13.3->jaxtyping>=0.2.12->equinox>=0.10.0->diffrax) (3.15.0)\n",
            "Looking in indexes: https://pypi.org/simple, https://us-python.pkg.dev/colab-wheels/public/simple/\n",
            "Collecting optax\n",
            "  Downloading optax-0.1.4-py3-none-any.whl (154 kB)\n",
            "\u001b[2K     \u001b[90m━━━━━━━━━━━━━━━━━━━━━━━━━━━━━━━━━━━━━━━\u001b[0m \u001b[32m154.9/154.9 KB\u001b[0m \u001b[31m4.8 MB/s\u001b[0m eta \u001b[36m0:00:00\u001b[0m\n",
            "\u001b[?25hRequirement already satisfied: absl-py>=0.7.1 in /usr/local/lib/python3.9/dist-packages (from optax) (1.4.0)\n",
            "Collecting chex>=0.1.5\n",
            "  Downloading chex-0.1.6-py3-none-any.whl (87 kB)\n",
            "\u001b[2K     \u001b[90m━━━━━━━━━━━━━━━━━━━━━━━━━━━━━━━━━━━━━━━━\u001b[0m \u001b[32m87.9/87.9 KB\u001b[0m \u001b[31m10.9 MB/s\u001b[0m eta \u001b[36m0:00:00\u001b[0m\n",
            "\u001b[?25hRequirement already satisfied: typing-extensions>=3.10.0 in /usr/local/lib/python3.9/dist-packages (from optax) (4.5.0)\n",
            "Requirement already satisfied: jax>=0.1.55 in /usr/local/lib/python3.9/dist-packages (from optax) (0.4.6)\n",
            "Requirement already satisfied: numpy>=1.18.0 in /usr/local/lib/python3.9/dist-packages (from optax) (1.22.4)\n",
            "Requirement already satisfied: jaxlib>=0.1.37 in /usr/local/lib/python3.9/dist-packages (from optax) (0.4.6+cuda11.cudnn86)\n",
            "Requirement already satisfied: dm-tree>=0.1.5 in /usr/local/lib/python3.9/dist-packages (from chex>=0.1.5->optax) (0.1.8)\n",
            "Requirement already satisfied: toolz>=0.9.0 in /usr/local/lib/python3.9/dist-packages (from chex>=0.1.5->optax) (0.12.0)\n",
            "Requirement already satisfied: opt-einsum in /usr/local/lib/python3.9/dist-packages (from jax>=0.1.55->optax) (3.3.0)\n",
            "Requirement already satisfied: scipy>=1.5 in /usr/local/lib/python3.9/dist-packages (from jax>=0.1.55->optax) (1.10.1)\n",
            "Installing collected packages: chex, optax\n",
            "Successfully installed chex-0.1.6 optax-0.1.4\n"
          ]
        }
      ]
    },
    {
      "cell_type": "code",
      "execution_count": 5,
      "outputs": [],
      "source": [
        "import time\n",
        "\n",
        "import diffrax\n",
        "import equinox as eqx  # https://github.com/patrick-kidger/equinox\n",
        "import jax\n",
        "import jax.nn as jnn\n",
        "import jax.numpy as jnp\n",
        "import jax.random as jrandom\n",
        "import matplotlib.pyplot as plt\n",
        "import optax  # https://github.com/deepmind/optax"
      ],
      "metadata": {
        "id": "PDQkuHpGadTi"
      }
    },
    {
      "cell_type": "markdown",
      "source": [
        "We use...\n",
        "- JAX, providing linear algebra with automatic differentiation and GPU acceleration\n",
        "- Equinox to build neural networks\n",
        "- Optax for optimisers\n",
        "- Diffrax for ODE solvers\n",
        "\n",
        "Define a NN that models an ODE..."
      ],
      "metadata": {
        "collapsed": false,
        "id": "3jUACpI0adTi"
      }
    },
    {
      "cell_type": "code",
      "execution_count": 6,
      "outputs": [],
      "source": [
        "class Func(eqx.Module):\n",
        "    mlp: eqx.nn.MLP\n",
        "\n",
        "    def __init__(self, data_size, width_size, depth, *, key, **kwargs):\n",
        "        super().__init__(**kwargs)\n",
        "        self.mlp = eqx.nn.MLP(\n",
        "            in_size=data_size,\n",
        "            out_size=data_size,\n",
        "            width_size=width_size,\n",
        "            depth=depth,\n",
        "            activation=jnn.softplus,\n",
        "            key=key,\n",
        "        )\n",
        "\n",
        "    def __call__(self, t, y, args):\n",
        "        return self.mlp(y)"
      ],
      "metadata": {
        "id": "4zhQcAxtadTj"
      }
    },
    {
      "cell_type": "markdown",
      "source": [
        "Wrap the ODE solve into a model..."
      ],
      "metadata": {
        "collapsed": false,
        "id": "8jJ4zKyVadTj"
      }
    },
    {
      "cell_type": "code",
      "execution_count": 7,
      "outputs": [],
      "source": [
        "class NeuralODE(eqx.Module):\n",
        "    func: Func\n",
        "\n",
        "    def __init__(self, data_size, width_size, depth, *, key, **kwargs):\n",
        "        super().__init__(**kwargs)\n",
        "        self.func = Func(data_size, width_size, depth, key=key)\n",
        "\n",
        "    def __call__(self, ts, y0):\n",
        "        solution = diffrax.diffeqsolve(\n",
        "            diffrax.ODETerm(self.func),\n",
        "            diffrax.Tsit5(),\n",
        "            t0=ts[0],\n",
        "            t1=ts[-1],\n",
        "            dt0=ts[1] - ts[0],\n",
        "            y0=y0,\n",
        "            stepsize_controller=diffrax.PIDController(rtol=1e-3, atol=1e-6),\n",
        "            saveat=diffrax.SaveAt(ts=ts),\n",
        "        )\n",
        "        return solution.ys"
      ],
      "metadata": {
        "id": "lSJUapiDadTj"
      }
    },
    {
      "cell_type": "markdown",
      "source": [
        "Toy dataset of nonlinear oscillators. Sample paths look like deformed sines and cosines."
      ],
      "metadata": {
        "collapsed": false,
        "id": "9jMqjeh9adTj"
      }
    },
    {
      "cell_type": "code",
      "execution_count": 8,
      "outputs": [],
      "source": [
        "def _get_data(ts, *, key):\n",
        "    y0 = jrandom.uniform(key, (2,), minval=-0.6, maxval=1)\n",
        "\n",
        "    def f(t, y, args):\n",
        "        x = y / (1 + y)\n",
        "        return jnp.stack([x[1], -x[0]], axis=-1)\n",
        "\n",
        "    solver = diffrax.Tsit5()\n",
        "    dt0 = 0.1\n",
        "    saveat = diffrax.SaveAt(ts=ts)\n",
        "    sol = diffrax.diffeqsolve(\n",
        "        diffrax.ODETerm(f), solver, ts[0], ts[-1], dt0, y0, saveat=saveat\n",
        "    )\n",
        "    ys = sol.ys\n",
        "    return ys\n",
        "\n",
        "\n",
        "def get_data(dataset_size, *, key):\n",
        "    ts = jnp.linspace(0, 10, 100)\n",
        "    key = jrandom.split(key, dataset_size)\n",
        "    ys = jax.vmap(lambda key: _get_data(ts, key=key))(key)\n",
        "    return ts, ys"
      ],
      "metadata": {
        "id": "-LBT97rqadTk"
      }
    },
    {
      "cell_type": "code",
      "execution_count": 9,
      "outputs": [],
      "source": [
        "def dataloader(arrays, batch_size, *, key):\n",
        "    dataset_size = arrays[0].shape[0]\n",
        "    assert all(array.shape[0] == dataset_size for array in arrays)\n",
        "    indices = jnp.arange(dataset_size)\n",
        "    while True:\n",
        "        perm = jrandom.permutation(key, indices)\n",
        "        (key,) = jrandom.split(key, 1)\n",
        "        start = 0\n",
        "        end = batch_size\n",
        "        while end < dataset_size:\n",
        "            batch_perm = perm[start:end]\n",
        "            yield tuple(array[batch_perm] for array in arrays)\n",
        "            start = end\n",
        "            end = start + batch_size"
      ],
      "metadata": {
        "id": "rFjVlwUjadTk"
      }
    },
    {
      "cell_type": "markdown",
      "source": [
        "Main entry point. Try running main()."
      ],
      "metadata": {
        "collapsed": false,
        "id": "EP0tmRsIadTl"
      }
    },
    {
      "cell_type": "code",
      "execution_count": 10,
      "outputs": [],
      "source": [
        "def main(\n",
        "        dataset_size=256,\n",
        "        batch_size=32,\n",
        "        lr_strategy=(3e-3, 3e-3),\n",
        "        steps_strategy=(500, 500),\n",
        "        length_strategy=(0.1, 1),\n",
        "        width_size=64,\n",
        "        depth=2,\n",
        "        seed=5678,\n",
        "        plot=True,\n",
        "        print_every=100,\n",
        "):\n",
        "    key = jrandom.PRNGKey(seed)\n",
        "    data_key, model_key, loader_key = jrandom.split(key, 3)\n",
        "\n",
        "    ts, ys = get_data(dataset_size, key=data_key)\n",
        "    _, length_size, data_size = ys.shape\n",
        "\n",
        "    model = NeuralODE(data_size, width_size, depth, key=model_key)\n",
        "\n",
        "    # Standard training loop.\n",
        "    #\n",
        "    # Until step 500 we train on only the first 10% of each time series.\n",
        "    # This is a standard trick to avoid getting caught in a local minimum.\n",
        "\n",
        "    @eqx.filter_value_and_grad\n",
        "    def grad_loss(model, ti, yi):\n",
        "        y_pred = jax.vmap(model, in_axes=(None, 0))(ti, yi[:, 0])\n",
        "        return jnp.mean((yi - y_pred) ** 2)\n",
        "\n",
        "    @eqx.filter_jit\n",
        "    def make_step(ti, yi, model, opt_state):\n",
        "        loss, grads = grad_loss(model, ti, yi)\n",
        "        updates, opt_state = optim.update(grads, opt_state)\n",
        "        model = eqx.apply_updates(model, updates)\n",
        "        return loss, model, opt_state\n",
        "\n",
        "    for lr, steps, length in zip(lr_strategy, steps_strategy, length_strategy):\n",
        "        optim = optax.adabelief(lr)\n",
        "        opt_state = optim.init(eqx.filter(model, eqx.is_inexact_array))\n",
        "        _ts = ts[: int(length_size * length)]\n",
        "        _ys = ys[:, : int(length_size * length)]\n",
        "        for step, (yi,) in zip(\n",
        "                range(steps), dataloader((_ys,), batch_size, key=loader_key)\n",
        "        ):\n",
        "            start = time.time()\n",
        "            loss, model, opt_state = make_step(_ts, yi, model, opt_state)\n",
        "            end = time.time()\n",
        "            if (step % print_every) == 0 or step == steps - 1:\n",
        "                print(f\"Step: {step}, Loss: {loss}, Computation time: {end - start}\")\n",
        "\n",
        "    if plot:\n",
        "        plt.plot(ts, ys[0, :, 0], c=\"dodgerblue\", label=\"Real\")\n",
        "        plt.plot(ts, ys[0, :, 1], c=\"dodgerblue\")\n",
        "        model_y = model(ts, ys[0, 0])\n",
        "        plt.plot(ts, model_y[:, 0], c=\"crimson\", label=\"Model\")\n",
        "        plt.plot(ts, model_y[:, 1], c=\"crimson\")\n",
        "        plt.legend()\n",
        "        plt.tight_layout()\n",
        "        plt.savefig(\"neural_ode.png\")\n",
        "        plt.show()\n",
        "\n",
        "    return ts, ys, model"
      ],
      "metadata": {
        "id": "qXAp1blGadTl"
      }
    },
    {
      "cell_type": "code",
      "execution_count": 11,
      "outputs": [
        {
          "output_type": "stream",
          "name": "stdout",
          "text": [
            "Step: 0, Loss: 0.1665748655796051, Computation time: 15.402437925338745\n",
            "Step: 100, Loss: 0.011155794374644756, Computation time: 0.008581399917602539\n",
            "Step: 200, Loss: 0.006481546442955732, Computation time: 0.00843358039855957\n",
            "Step: 300, Loss: 0.0013819062151014805, Computation time: 0.010958671569824219\n",
            "Step: 400, Loss: 0.0010740924626588821, Computation time: 0.011319160461425781\n",
            "Step: 499, Loss: 0.0007997890352271497, Computation time: 0.016448259353637695\n",
            "Step: 0, Loss: 0.02826353907585144, Computation time: 13.408264636993408\n",
            "Step: 100, Loss: 0.0054482147097587585, Computation time: 0.10455846786499023\n",
            "Step: 200, Loss: 0.004350170027464628, Computation time: 0.11345386505126953\n",
            "Step: 300, Loss: 0.0017991142813116312, Computation time: 0.1162564754486084\n",
            "Step: 400, Loss: 0.0016900295158848166, Computation time: 0.1138145923614502\n",
            "Step: 499, Loss: 0.0011906421277672052, Computation time: 0.11631917953491211\n"
          ]
        },
        {
          "output_type": "display_data",
          "data": {
            "text/plain": [
              "<Figure size 432x288 with 1 Axes>"
            ],
            "image/png": "[encoded data removed]"
          },
          "metadata": {
            "needs_background": "light"
          }
        }
      ],
      "source": [
        "ts, ys, model = main()"
      ],
      "metadata": {
        "id": "2unJEl9MadTm",
        "outputId": "9fc4d331-3a98-4588-d753-db162bc19eed",
        "colab": {
          "base_uri": "https://localhost:8080/",
          "height": 517
        }
      }
    }
  ],
  "metadata": {
    "kernelspec": {
      "display_name": "Python 3",
      "language": "python",
      "name": "python3"
    },
    "language_info": {
      "codemirror_mode": {
        "name": "ipython",
        "version": 2
      },
      "file_extension": ".py",
      "mimetype": "text/x-python",
      "name": "python",
      "nbconvert_exporter": "python",
      "pygments_lexer": "ipython2",
      "version": "2.7.6"
    },
    "colab": {
      "provenance": []
    },
    "accelerator": "GPU",
    "gpuClass": "standard"
  },
  "nbformat": 4,
  "nbformat_minor": 0
}