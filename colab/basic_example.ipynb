{
 "cells": [
  {
   "cell_type": "markdown",
   "source": [
    "[![Open In Colab](https://colab.research.google.com/assets/colab-badge.svg)](https://colab.research.google.com/github/AndReGeist/wandb_cluster_neuralode/blob/main/colab/basic_example.ipynb#scrollTo=qXAp1blGadTl)"
   ],
   "metadata": {
    "collapsed": false,
    "id": "qo-_OdmRadTg"
   }
  },
  {
   "cell_type": "markdown",
   "source": [
    "# Basic example: Use \"Weights and biases\" with JAX\n",
    "\n",
    "In this notebook, we track the training process of a neural ODE regression using [weight and biases](https://wandb.ai/site).\n",
    "\n",
    "⚠️ The NeuralODE code below is copied and then altered from the example provided in the [Diffrax  git repo](https://docs.kidger.site/diffrax/examples/neural_ode/). If you happen to use Diffrax in your academic research kindly consider [citing the library](https://docs.kidger.site/diffrax/).\n",
    "\n",
    "The code below got inspired by the blogposts:\n",
    "- [Weights and biases: Quickstart](https://docs.wandb.ai/quickstart)\n",
    "- [A complete Weights and Biases tutorial](https://theaisummer.com/weights-and-biases-tutorial/)\n",
    "- [Writing a training loop in JAX and Flax](https://wandb.ai/jax-series/simple-training-loop/reports/Writing-a-Training-Loop-in-JAX-and-Flax--VmlldzoyMzA4ODEy)"
   ],
   "metadata": {
    "collapsed": false,
    "id": "hbYVVUpiadTh"
   }
  },
  {
   "cell_type": "code",
   "source": [
    "!pip install -q equinox diffrax optax"
   ],
   "metadata": {
    "id": "v9uYsWzIcB67"
   },
   "execution_count": 111,
   "outputs": []
  },
  {
   "cell_type": "code",
   "execution_count": 112,
   "outputs": [],
   "source": [
    "import time\n",
    "\n",
    "import diffrax  # https://docs.kidger.site/diffrax/\n",
    "import equinox as eqx  # https://github.com/patrick-kidger/equinox\n",
    "import jax\n",
    "import jax.nn as jnn\n",
    "import numpy as np\n",
    "import jax.numpy as jnp\n",
    "import jax.random as jrandom\n",
    "import matplotlib.pyplot as plt\n",
    "import optax  # https://github.com/deepmind/optax"
   ],
   "metadata": {
    "id": "PDQkuHpGadTi"
   }
  },
  {
   "cell_type": "markdown",
   "source": [
    "## Setting up dynamics and NeuralODE\n",
    "We use...\n",
    "- JAX, providing linear algebra with automatic differentiation and GPU acceleration\n",
    "- Equinox to build neural networks\n",
    "- Optax for optimisers\n",
    "- Diffrax for ODE solvers\n",
    "\n",
    "Define a NN that models an ODE..."
   ],
   "metadata": {
    "collapsed": false,
    "id": "3jUACpI0adTi"
   }
  },
  {
   "cell_type": "code",
   "execution_count": 113,
   "outputs": [],
   "source": [
    "class Func(eqx.Module):\n",
    "    mlp: eqx.nn.MLP\n",
    "\n",
    "    def __init__(self, data_size, width_size, depth, *, key, **kwargs):\n",
    "        super().__init__(**kwargs)\n",
    "        self.mlp = eqx.nn.MLP(\n",
    "            in_size=data_size,\n",
    "            out_size=data_size,\n",
    "            width_size=width_size,\n",
    "            depth=depth,\n",
    "            activation=jnn.softplus,\n",
    "            key=key,\n",
    "        )\n",
    "\n",
    "    def __call__(self, t, y, args):\n",
    "        return self.mlp(y)"
   ],
   "metadata": {
    "id": "4zhQcAxtadTj"
   }
  },
  {
   "cell_type": "markdown",
   "source": [
    "Wrap the ODE solver into a model..."
   ],
   "metadata": {
    "collapsed": false,
    "id": "8jJ4zKyVadTj"
   }
  },
  {
   "cell_type": "code",
   "execution_count": 114,
   "outputs": [],
   "source": [
    "class NeuralODE(eqx.Module):\n",
    "    func: Func\n",
    "\n",
    "    def __init__(self, data_size, width_size, depth, *, key, **kwargs):\n",
    "        super().__init__(**kwargs)\n",
    "        self.func = Func(data_size, width_size, depth, key=key)\n",
    "\n",
    "    def __call__(self, ts, y0):\n",
    "        solution = diffrax.diffeqsolve(\n",
    "            diffrax.ODETerm(self.func),\n",
    "            diffrax.Tsit5(),\n",
    "            t0=ts[0],\n",
    "            t1=ts[-1],\n",
    "            dt0=ts[1] - ts[0],\n",
    "            y0=y0,\n",
    "            stepsize_controller=diffrax.PIDController(rtol=1e-3, atol=1e-6),\n",
    "            saveat=diffrax.SaveAt(ts=ts),\n",
    "        )\n",
    "        return solution.ys"
   ],
   "metadata": {
    "id": "lSJUapiDadTj"
   }
  },
  {
   "cell_type": "markdown",
   "source": [
    "Toy dataset of nonlinear oscillators. Sample paths look like deformed sines and cosines."
   ],
   "metadata": {
    "collapsed": false,
    "id": "9jMqjeh9adTj"
   }
  },
  {
   "cell_type": "code",
   "execution_count": 115,
   "outputs": [],
   "source": [
    "def _get_data(ts, *, key):\n",
    "    y0 = jrandom.uniform(key, (2,), minval=-0.6, maxval=1)\n",
    "\n",
    "    def f(t, y, args):\n",
    "        x = y / (1 + y)\n",
    "        return jnp.stack([x[1], -x[0]], axis=-1)\n",
    "\n",
    "    solver = diffrax.Tsit5()\n",
    "    dt0 = 0.1\n",
    "    saveat = diffrax.SaveAt(ts=ts)\n",
    "    sol = diffrax.diffeqsolve(\n",
    "        diffrax.ODETerm(f), solver, ts[0], ts[-1], dt0, y0, saveat=saveat\n",
    "    )\n",
    "    ys = sol.ys\n",
    "    return ys\n",
    "\n",
    "\n",
    "def get_data(dataset_size, *, key):\n",
    "    ts = jnp.linspace(0, 10, 100)\n",
    "    key = jrandom.split(key, dataset_size)\n",
    "    ys = jax.vmap(lambda key: _get_data(ts, key=key))(key)\n",
    "    return ts, ys"
   ],
   "metadata": {
    "id": "-LBT97rqadTk"
   }
  },
  {
   "cell_type": "code",
   "execution_count": 116,
   "outputs": [],
   "source": [
    "def dataloader(arrays, batch_size, *, key):\n",
    "    dataset_size = arrays[0].shape[0]\n",
    "    assert all(array.shape[0] == dataset_size for array in arrays)\n",
    "    indices = jnp.arange(dataset_size)\n",
    "    while True:\n",
    "        perm = jrandom.permutation(key, indices)\n",
    "        (key,) = jrandom.split(key, 1)\n",
    "        start = 0\n",
    "        end = batch_size\n",
    "        while end < dataset_size:\n",
    "            batch_perm = perm[start:end]\n",
    "            yield tuple(array[batch_perm] for array in arrays)\n",
    "            start = end\n",
    "            end = start + batch_size"
   ],
   "metadata": {
    "id": "rFjVlwUjadTk"
   }
  },
  {
   "cell_type": "markdown",
   "source": [
    "## Setup wandb\n",
    "Before setting up the data set and training loop, we install the weights and biases library and login with our account...\n",
    "\n"
   ],
   "metadata": {
    "collapsed": false,
    "id": "EP0tmRsIadTl"
   }
  },
  {
   "cell_type": "code",
   "source": [
    "!pip install -q wandb\n",
    "!wandb login"
   ],
   "metadata": {
    "colab": {
     "base_uri": "https://localhost:8080/"
    },
    "id": "TRP6-qAZgPO-",
    "outputId": "8e400d1b-3431-4b3b-ef70-08b691e336b5"
   },
   "execution_count": 117,
   "outputs": [
    {
     "output_type": "stream",
     "name": "stdout",
     "text": [
      "\u001B[34m\u001B[1mwandb\u001B[0m: Currently logged in as: \u001B[33mrene-geist\u001B[0m. Use \u001B[1m`wandb login --relogin`\u001B[0m to force relogin\n"
     ]
    }
   ]
  },
  {
   "cell_type": "code",
   "source": [
    "import wandb\n",
    "import pickle\n",
    "import os"
   ],
   "metadata": {
    "id": "Q2qLOaiLfqmx"
   },
   "execution_count": 118,
   "outputs": []
  },
  {
   "cell_type": "markdown",
   "source": [
    "## Create data and log with wandb\n",
    "Data sets (as well as models) can be stored in wandb as [artifact](https://docs.wandb.ai/guides/data-and-model-versioning) being simply folders with files on the wandb server. This [Google Colab](https://colab.research.google.com/drive/1GM22vkt1BXm3JVpTX8QeG1E2Rwl7xr_0?usp=sharing) illustrates working with artifacts. Wandb checksums the artifact to identify changes and track new versions.\n",
    "\n",
    "Artifacts are useful for...\n",
    "- [data versioning](https://docs.wandb.ai/guides/data-and-model-versioning/dataset-versioning)\n",
    "- [model versioning](https://docs.wandb.ai/guides/data-and-model-versioning/model-versioning)"
   ],
   "metadata": {
    "id": "_gFZul6Sd-07"
   }
  },
  {
   "cell_type": "code",
   "source": [
    "def create_dataset(seed=42, dataset_size=256):\n",
    "\n",
    "    # ==== Initialize W&B run to track job ==== #\n",
    "    config = {\n",
    "        \"dataset_size\": dataset_size,\n",
    "        \"seed\": seed\n",
    "    }\n",
    "    run = wandb.init(project=\"wandb_cluster_neuralode\", job_type=\"dataset-creation\", config=config)\n",
    "\n",
    "    key = jrandom.PRNGKey(seed)\n",
    "    ts, ys = get_data(dataset_size, key=key)\n",
    "    _, length_size, data_size = ys.shape\n",
    "\n",
    "    data = {\"ts\": ts, \n",
    "            \"ys\": ys, \n",
    "            \"length_size\": length_size, \n",
    "            \"data_size\": data_size}\n",
    "\n",
    "    with open('data.pickle', 'wb') as handle:\n",
    "        pickle.dump(data, handle, protocol=pickle.HIGHEST_PROTOCOL)\n",
    "\n",
    "    dataset = wandb.Artifact('my-dataset', type='dataset')  # Create new artifact\n",
    "    dataset.add_file(\"data.pickle\")  # Add files to artifact\n",
    "    run.log_artifact(dataset)  # Log artifact to save it as an output of this run\n",
    "\n",
    "    wandb.finish()  # Finish session"
   ],
   "metadata": {
    "id": "_olkojeGd_Eb"
   },
   "execution_count": 119,
   "outputs": []
  },
  {
   "cell_type": "markdown",
   "source": [
    "## Training loop\n",
    "In the training loop, we use wandb to...\n",
    "\n",
    "1. Load the dataset   \n",
    "2. log the optimization configurations\n",
    "3. log optimization data\n",
    "4. log model gradients"
   ],
   "metadata": {
    "id": "Xtr7R9XdoYRb"
   }
  },
  {
   "cell_type": "code",
   "execution_count": 120,
   "outputs": [],
   "source": [
    "def main(        \n",
    "        batch_size=32,\n",
    "        lr_strategy=(3e-3, 3e-3),\n",
    "        steps_strategy=(500, 500),\n",
    "        length_strategy=(0.1, 1),\n",
    "        width_size=64,\n",
    "        depth=2,\n",
    "        seed=5678,\n",
    "        plot=True,\n",
    "        print_every=100,\n",
    "        watch_run = False\n",
    "):\n",
    "\n",
    "    # Define a config dictionary object\n",
    "    config = {\n",
    "      \"batch_size\": batch_size,\n",
    "      \"lr_strategy\": lr_strategy,\n",
    "      \"steps_strategy\": steps_strategy,\n",
    "      \"length_strategy\": length_strategy,\n",
    "      \"width_size\": width_size,\n",
    "      \"depth\": depth,\n",
    "      \"seed\": seed,\n",
    "      \"print_every\": print_every,\n",
    "    }\n",
    "\n",
    "    # ==== Initialize W&B run to track job ==== #\n",
    "    run = wandb.init(\n",
    "              project=\"wandb_cluster_neuralode\",\n",
    "              job_type=\"basic_example\",\n",
    "              config=config\n",
    "    ) \n",
    "    # You can explicitly state to which team wandb will save data by adding the option entity='<Team name>'\n",
    "\n",
    "\n",
    "\n",
    "    # ==== wandb - load data artifact ==== #\n",
    "    artifact = run.use_artifact('my-dataset' + ':latest')\n",
    "    artifact_dir = artifact.download()\n",
    "    \n",
    "    data_path = os.path.join(artifact_dir, 'data.pickle')\n",
    "    with open(data_path, 'rb') as handle:\n",
    "      data = pickle.load(handle)\n",
    "\n",
    "    # ==== JAX - init model ==== #\n",
    "    key = jrandom.PRNGKey(seed)\n",
    "    model_key, loader_key = jrandom.split(key, 2)\n",
    "    model = NeuralODE(data[\"data_size\"], width_size, depth, key=model_key)\n",
    "\n",
    "\n",
    "    # === Training loop === #\n",
    "    # Until step 500 we train on only the first 10% of each time series.\n",
    "    # This is a standard trick to avoid getting caught in a local minimum.\n",
    "\n",
    "    @eqx.filter_value_and_grad\n",
    "    def grad_loss(model, ti, yi):\n",
    "        y_pred = jax.vmap(model, in_axes=(None, 0))(ti, yi[:, 0])\n",
    "        return jnp.mean((yi - y_pred) ** 2)\n",
    "\n",
    "    @eqx.filter_jit\n",
    "    def make_step(ti, yi, model, opt_state):\n",
    "        loss, grads = grad_loss(model, ti, yi)\n",
    "        updates, opt_state = optim.update(grads, opt_state)\n",
    "        model = eqx.apply_updates(model, updates)\n",
    "        return loss, model, opt_state, grads, updates\n",
    "\n",
    "    def pytree_leaves_to_dict(pytree_obj, name='array', pick_ndarrays=True):\n",
    "      # wandb - To log the ndarrays of a JAX pytree, we need to extract the ndarrays, \n",
    "      # transform them to numpy arrays and save these in a dict.\n",
    "      # Rightnow, I did not figure out how to give these arrays an informative name\n",
    "      leaves = jax.tree_util.tree_leaves(pytree_obj)\n",
    "      for k, leaf in enumerate(leaves):\n",
    "          if isinstance(leaf, jax.numpy.ndarray):\n",
    "              key_name = name + str(k)\n",
    "              log_dict[key_name] = np.array(leaf)\n",
    "      return log_dict\n",
    "\n",
    "    for lr, steps, length in zip(lr_strategy, steps_strategy, length_strategy):\n",
    "        optim = optax.adabelief(lr)\n",
    "        opt_state = optim.init(eqx.filter(model, eqx.is_inexact_array))\n",
    "        _ts = data[\"ts\"][: int(data[\"length_size\"] * length)]\n",
    "        _ys = data[\"ys\"][:, : int(data[\"length_size\"] * length)]\n",
    "        for step, (yi,) in zip(\n",
    "                range(steps), dataloader((_ys,), batch_size, key=loader_key)\n",
    "        ):\n",
    "            start = time.time()\n",
    "            loss, model, opt_state, grads, updates = make_step(_ts, yi, model, opt_state)\n",
    "            end = time.time()\n",
    "\n",
    "            if (step % print_every) == 0 or step == steps - 1:\n",
    "                print(f\"Step: {step}, Loss: {loss}, Computation time: {end - start}\")\n",
    "\n",
    "                # <- HERE SHOULD BE A MODEL VALIDATION ROUTINE aka test your predictions\n",
    "\n",
    "                # === wandb - log optimization === #\n",
    "                log_dict = {\n",
    "                  'step': step, \n",
    "                  'loss': loss, \n",
    "                  'computation time': end - start,\n",
    "                }\n",
    "              \n",
    "                if watch_run:\n",
    "                    log_dict.update( pytree_leaves_to_dict(model, name='model_array') )\n",
    "                    #log_dict.update( pytree_leaves_to_dict(grads, name='grad_array') )\n",
    "                    log_dict.update( pytree_leaves_to_dict(updates, name='updates_array') )\n",
    "\n",
    "                wandb.log( log_dict )\n",
    "          \n",
    "    if plot:\n",
    "        plt.plot(data[\"ts\"], data[\"ys\"][0, :, 0], c=\"dodgerblue\", label=\"Real\")\n",
    "        plt.plot(data[\"ts\"], data[\"ys\"][0, :, 1], c=\"dodgerblue\")\n",
    "        model_y = model(data[\"ts\"], data[\"ys\"][0, 0])\n",
    "        plt.plot(data[\"ts\"], model_y[:, 0], c=\"crimson\", label=\"Model\")\n",
    "        plt.plot(data[\"ts\"], model_y[:, 1], c=\"crimson\")\n",
    "        plt.legend()\n",
    "        plt.tight_layout()\n",
    "        plt.savefig(\"neural_ode.png\")\n",
    "        plt.show()\n",
    "\n",
    "    wandb.finish()  # Finish wandb session"
   ],
   "metadata": {
    "id": "qXAp1blGadTl"
   }
  },
  {
   "cell_type": "code",
   "execution_count": 121,
   "outputs": [
    {
     "output_type": "display_data",
     "data": {
      "text/plain": [
       "<IPython.core.display.HTML object>"
      ],
      "text/html": [
       "Tracking run with wandb version 0.14.0"
      ]
     },
     "metadata": {}
    },
    {
     "output_type": "display_data",
     "data": {
      "text/plain": [
       "<IPython.core.display.HTML object>"
      ],
      "text/html": [
       "Run data is saved locally in <code>/content/wandb/run-20230322_123314-37ffmu9f</code>"
      ]
     },
     "metadata": {}
    },
    {
     "output_type": "display_data",
     "data": {
      "text/plain": [
       "<IPython.core.display.HTML object>"
      ],
      "text/html": [
       "Syncing run <strong><a href='https://wandb.ai/rene-geist/wandb_cluster_neuralode/runs/37ffmu9f' target=\"_blank\">summer-terrain-23</a></strong> to <a href='https://wandb.ai/rene-geist/wandb_cluster_neuralode' target=\"_blank\">Weights & Biases</a> (<a href='https://wandb.me/run' target=\"_blank\">docs</a>)<br/>"
      ]
     },
     "metadata": {}
    },
    {
     "output_type": "display_data",
     "data": {
      "text/plain": [
       "<IPython.core.display.HTML object>"
      ],
      "text/html": [
       " View project at <a href='https://wandb.ai/rene-geist/wandb_cluster_neuralode' target=\"_blank\">https://wandb.ai/rene-geist/wandb_cluster_neuralode</a>"
      ]
     },
     "metadata": {}
    },
    {
     "output_type": "display_data",
     "data": {
      "text/plain": [
       "<IPython.core.display.HTML object>"
      ],
      "text/html": [
       " View run at <a href='https://wandb.ai/rene-geist/wandb_cluster_neuralode/runs/37ffmu9f' target=\"_blank\">https://wandb.ai/rene-geist/wandb_cluster_neuralode/runs/37ffmu9f</a>"
      ]
     },
     "metadata": {}
    },
    {
     "output_type": "stream",
     "name": "stderr",
     "text": [
      "\u001B[34m\u001B[1mwandb\u001B[0m:   1 of 1 files downloaded.  \n"
     ]
    },
    {
     "output_type": "stream",
     "name": "stdout",
     "text": [
      "Step: 0, Loss: 0.07679356634616852, Computation time: 24.60745859146118\n",
      "Step: 100, Loss: 0.011253154836595058, Computation time: 0.009027242660522461\n",
      "Step: 200, Loss: 0.010329456999897957, Computation time: 0.0092620849609375\n",
      "Step: 300, Loss: 0.002484914381057024, Computation time: 0.00897216796875\n",
      "Step: 400, Loss: 0.004645552486181259, Computation time: 0.014063119888305664\n",
      "Step: 499, Loss: 0.0008826683624647558, Computation time: 0.017472028732299805\n",
      "Step: 0, Loss: 0.014146439731121063, Computation time: 20.863168478012085\n",
      "Step: 100, Loss: 0.011217160150408745, Computation time: 0.12042975425720215\n",
      "Step: 200, Loss: 0.012436139397323132, Computation time: 0.1159675121307373\n",
      "Step: 300, Loss: 0.0037698226515203714, Computation time: 0.11388754844665527\n",
      "Step: 400, Loss: 0.0065759941935539246, Computation time: 0.12050652503967285\n",
      "Step: 499, Loss: 0.0016154992626979947, Computation time: 0.453794002532959\n"
     ]
    },
    {
     "output_type": "display_data",
     "data": {
      "text/plain": [
       "<Figure size 432x288 with 1 Axes>"
      ],
      "image/png": "[encoded data removed]"
     },
     "metadata": {
      "needs_background": "light"
     }
    },
    {
     "output_type": "display_data",
     "data": {
      "text/plain": [
       "<IPython.core.display.HTML object>"
      ],
      "text/html": [
       "Waiting for W&B process to finish... <strong style=\"color:green\">(success).</strong>"
      ]
     },
     "metadata": {}
    },
    {
     "output_type": "display_data",
     "data": {
      "text/plain": [
       "<IPython.core.display.HTML object>"
      ],
      "text/html": [
       "<style>\n",
       "    table.wandb td:nth-child(1) { padding: 0 10px; text-align: left ; width: auto;} td:nth-child(2) {text-align: left ; width: 100%}\n",
       "    .wandb-row { display: flex; flex-direction: row; flex-wrap: wrap; justify-content: flex-start; width: 100% }\n",
       "    .wandb-col { display: flex; flex-direction: column; flex-basis: 100%; flex: 1; padding: 10px; }\n",
       "    </style>\n",
       "<div class=\"wandb-row\"><div class=\"wandb-col\"><h3>Run history:</h3><br/><table class=\"wandb\"><tr><td>computation time</td><td>█▁▁▁▁▁▇▁▁▁▁▁</td></tr><tr><td>loss</td><td>█▂▂▁▁▁▂▂▂▁▂▁</td></tr><tr><td>step</td><td>▁▂▄▅▇█▁▂▄▅▇█</td></tr></table><br/></div><div class=\"wandb-col\"><h3>Run summary:</h3><br/><table class=\"wandb\"><tr><td>computation time</td><td>0.45379</td></tr><tr><td>loss</td><td>0.00162</td></tr><tr><td>step</td><td>499</td></tr></table><br/></div></div>"
      ]
     },
     "metadata": {}
    },
    {
     "output_type": "display_data",
     "data": {
      "text/plain": [
       "<IPython.core.display.HTML object>"
      ],
      "text/html": [
       " View run <strong style=\"color:#cdcd00\">summer-terrain-23</strong> at: <a href='https://wandb.ai/rene-geist/wandb_cluster_neuralode/runs/37ffmu9f' target=\"_blank\">https://wandb.ai/rene-geist/wandb_cluster_neuralode/runs/37ffmu9f</a><br/>Synced 5 W&B file(s), 0 media file(s), 0 artifact file(s) and 0 other file(s)"
      ]
     },
     "metadata": {}
    },
    {
     "output_type": "display_data",
     "data": {
      "text/plain": [
       "<IPython.core.display.HTML object>"
      ],
      "text/html": [
       "Find logs at: <code>./wandb/run-20230322_123314-37ffmu9f/logs</code>"
      ]
     },
     "metadata": {}
    }
   ],
   "source": [
    "#create_dataset()\n",
    "main(seed=99, watch_run=True)"
   ],
   "metadata": {
    "colab": {
     "base_uri": "https://localhost:8080/",
     "height": 836
    },
    "id": "2unJEl9MadTm",
    "outputId": "1615de22-5028-48a6-8b04-5c5dc3b80be3"
   }
  }
 ],
 "metadata": {
  "kernelspec": {
   "display_name": "Python 3",
   "language": "python",
   "name": "python3"
  },
  "language_info": {
   "codemirror_mode": {
    "name": "ipython",
    "version": 2
   },
   "file_extension": ".py",
   "mimetype": "text/x-python",
   "name": "python",
   "nbconvert_exporter": "python",
   "pygments_lexer": "ipython2",
   "version": "2.7.6"
  },
  "colab": {
   "provenance": []
  },
  "accelerator": "GPU",
  "gpuClass": "standard"
 },
 "nbformat": 4,
 "nbformat_minor": 0
}
