{
  "cells": [
    {
      "cell_type": "markdown",
      "source": [
        "[![Open In Colab](https://colab.research.google.com/assets/colab-badge.svg)](https://colab.research.google.com/github/AndReGeist/wandb_cluster_neuralode/blob/main/colab/basic_example.ipynb#scrollTo=qXAp1blGadTl)"
      ],
      "metadata": {
        "collapsed": false,
        "id": "qo-_OdmRadTg"
      }
    },
    {
      "cell_type": "markdown",
      "source": [
        "# Basic example: Use 'Weights and biases' with JAX\n",
        "\n",
        "In this notebook, we track the training process of a neural ODE regression using [weight and biases](https://wandb.ai/site).\n",
        "\n",
        "⚠️ The NeuralODE code below is copied and then altered from the example provided in the [Diffrax  git repo](https://docs.kidger.site/diffrax/examples/neural_ode/). If you happen to use Diffrax in your academic research kindly consider [citing the library](https://docs.kidger.site/diffrax/).\n",
        "\n",
        "The code below got inspired by the blogposts:\n",
        "- [Weights and biases: Quickstart](https://docs.wandb.ai/quickstart)\n",
        "- [A complete Weights and Biases tutorial](https://theaisummer.com/weights-and-biases-tutorial/)\n",
        "- [Writing a training loop in JAX and Flax](https://wandb.ai/jax-series/simple-training-loop/reports/Writing-a-Training-Loop-in-JAX-and-Flax--VmlldzoyMzA4ODEy)"
      ],
      "metadata": {
        "collapsed": false,
        "id": "hbYVVUpiadTh"
      }
    },
    {
      "cell_type": "code",
      "source": [
        "!pip install -q equinox diffrax optax"
      ],
      "metadata": {
        "id": "v9uYsWzIcB67"
      },
      "execution_count": 79,
      "outputs": []
    },
    {
      "cell_type": "code",
      "execution_count": 80,
      "outputs": [],
      "source": [
        "import time\n",
        "\n",
        "import diffrax  # https://docs.kidger.site/diffrax/\n",
        "import equinox as eqx  # https://github.com/patrick-kidger/equinox\n",
        "import jax\n",
        "import jax.nn as jnn\n",
        "import numpy as np\n",
        "import jax.numpy as jnp\n",
        "import jax.random as jrandom\n",
        "import matplotlib.pyplot as plt\n",
        "import optax  # https://github.com/deepmind/optax"
      ],
      "metadata": {
        "id": "PDQkuHpGadTi"
      }
    },
    {
      "cell_type": "markdown",
      "source": [
        "## Setting up dynamics and NeuralODE\n",
        "We use...\n",
        "- JAX, providing linear algebra with automatic differentiation and GPU acceleration\n",
        "- Equinox to build neural networks\n",
        "- Optax for optimisers\n",
        "- Diffrax for ODE solvers\n",
        "\n",
        "Define a NN that models an ODE..."
      ],
      "metadata": {
        "collapsed": false,
        "id": "3jUACpI0adTi"
      }
    },
    {
      "cell_type": "code",
      "execution_count": 81,
      "outputs": [],
      "source": [
        "class Func(eqx.Module):\n",
        "    mlp: eqx.nn.MLP\n",
        "\n",
        "    def __init__(self, data_size, width_size, depth, *, key, **kwargs):\n",
        "        super().__init__(**kwargs)\n",
        "        self.mlp = eqx.nn.MLP(\n",
        "            in_size=data_size,\n",
        "            out_size=data_size,\n",
        "            width_size=width_size,\n",
        "            depth=depth,\n",
        "            activation=jnn.softplus,\n",
        "            key=key,\n",
        "        )\n",
        "\n",
        "    def __call__(self, t, y, args):\n",
        "        return self.mlp(y)"
      ],
      "metadata": {
        "id": "4zhQcAxtadTj"
      }
    },
    {
      "cell_type": "markdown",
      "source": [
        "Wrap the ODE solver into a model..."
      ],
      "metadata": {
        "collapsed": false,
        "id": "8jJ4zKyVadTj"
      }
    },
    {
      "cell_type": "code",
      "execution_count": 82,
      "outputs": [],
      "source": [
        "class NeuralODE(eqx.Module):\n",
        "    func: Func\n",
        "\n",
        "    def __init__(self, data_size, width_size, depth, *, key, **kwargs):\n",
        "        super().__init__(**kwargs)\n",
        "        self.func = Func(data_size, width_size, depth, key=key)\n",
        "\n",
        "    def __call__(self, ts, y0):\n",
        "        solution = diffrax.diffeqsolve(\n",
        "            diffrax.ODETerm(self.func),\n",
        "            diffrax.Tsit5(),\n",
        "            t0=ts[0],\n",
        "            t1=ts[-1],\n",
        "            dt0=ts[1] - ts[0],\n",
        "            y0=y0,\n",
        "            stepsize_controller=diffrax.PIDController(rtol=1e-3, atol=1e-6),\n",
        "            saveat=diffrax.SaveAt(ts=ts),\n",
        "        )\n",
        "        return solution.ys"
      ],
      "metadata": {
        "id": "lSJUapiDadTj"
      }
    },
    {
      "cell_type": "markdown",
      "source": [
        "Toy dataset of nonlinear oscillators. Sample paths look like deformed sines and cosines."
      ],
      "metadata": {
        "collapsed": false,
        "id": "9jMqjeh9adTj"
      }
    },
    {
      "cell_type": "code",
      "execution_count": 83,
      "outputs": [],
      "source": [
        "def _get_data(ts, *, key):\n",
        "    y0 = jrandom.uniform(key, (2,), minval=-0.6, maxval=1)\n",
        "\n",
        "    def f(t, y, args):\n",
        "        x = y / (1 + y)\n",
        "        return jnp.stack([x[1], -x[0]], axis=-1)\n",
        "\n",
        "    solver = diffrax.Tsit5()\n",
        "    dt0 = 0.1\n",
        "    saveat = diffrax.SaveAt(ts=ts)\n",
        "    sol = diffrax.diffeqsolve(\n",
        "        diffrax.ODETerm(f), solver, ts[0], ts[-1], dt0, y0, saveat=saveat\n",
        "    )\n",
        "    ys = sol.ys\n",
        "    return ys\n",
        "\n",
        "\n",
        "def get_data(dataset_size, *, key):\n",
        "    ts = jnp.linspace(0, 10, 100)\n",
        "    key = jrandom.split(key, dataset_size)\n",
        "    ys = jax.vmap(lambda key: _get_data(ts, key=key))(key)\n",
        "    return ts, ys"
      ],
      "metadata": {
        "id": "-LBT97rqadTk"
      }
    },
    {
      "cell_type": "code",
      "execution_count": 84,
      "outputs": [],
      "source": [
        "def dataloader(arrays, batch_size, *, key):\n",
        "    dataset_size = arrays[0].shape[0]\n",
        "    assert all(array.shape[0] == dataset_size for array in arrays)\n",
        "    indices = jnp.arange(dataset_size)\n",
        "    while True:\n",
        "        perm = jrandom.permutation(key, indices)\n",
        "        (key,) = jrandom.split(key, 1)\n",
        "        start = 0\n",
        "        end = batch_size\n",
        "        while end < dataset_size:\n",
        "            batch_perm = perm[start:end]\n",
        "            yield tuple(array[batch_perm] for array in arrays)\n",
        "            start = end\n",
        "            end = start + batch_size"
      ],
      "metadata": {
        "id": "rFjVlwUjadTk"
      }
    },
    {
      "cell_type": "markdown",
      "source": [
        "## Setup wandb\n",
        "Before setting up the data set and training loop, we install the weights and biases library and login with our account...\n",
        "\n"
      ],
      "metadata": {
        "collapsed": false,
        "id": "EP0tmRsIadTl"
      }
    },
    {
      "cell_type": "code",
      "source": [
        "!pip install -q wandb\n",
        "!wandb login"
      ],
      "metadata": {
        "colab": {
          "base_uri": "https://localhost:8080/"
        },
        "id": "TRP6-qAZgPO-",
        "outputId": "ba3ad1dd-db72-4e9b-9a6c-f1de5aa3b4df"
      },
      "execution_count": 85,
      "outputs": [
        {
          "output_type": "stream",
          "name": "stdout",
          "text": [
            "\u001b[34m\u001b[1mwandb\u001b[0m: Currently logged in as: \u001b[33mrene-geist\u001b[0m. Use \u001b[1m`wandb login --relogin`\u001b[0m to force relogin\n"
          ]
        }
      ]
    },
    {
      "cell_type": "code",
      "source": [
        "import wandb\n",
        "import pickle\n",
        "import os"
      ],
      "metadata": {
        "id": "Q2qLOaiLfqmx"
      },
      "execution_count": 86,
      "outputs": []
    },
    {
      "cell_type": "markdown",
      "source": [
        "## Create data and log with wandb\n",
        "Data sets (as well as models) can be stored in wandb as [artifact](https://docs.wandb.ai/guides/data-and-model-versioning) being simply folders with files on the wandb server. This [Google Colab](https://colab.research.google.com/drive/1GM22vkt1BXm3JVpTX8QeG1E2Rwl7xr_0?usp=sharing) illustrates working with artifacts. Wandb checksums the artifact to identify changes and track new versions.\n",
        "\n",
        "Artifacts are useful for...\n",
        "- [data versioning](https://docs.wandb.ai/guides/data-and-model-versioning/dataset-versioning)\n",
        "- [model versioning](https://docs.wandb.ai/guides/data-and-model-versioning/model-versioning)"
      ],
      "metadata": {
        "id": "_gFZul6Sd-07"
      }
    },
    {
      "cell_type": "code",
      "source": [
        "def create_dataset(seed=42, size_train=256, size_test=256):\n",
        "\n",
        "    # ==== Initialize W&B run to track job ==== #\n",
        "    config = {\n",
        "        'size_train': size_train,\n",
        "        'size_test': size_test,\n",
        "        'seed': seed\n",
        "    }\n",
        "    run = wandb.init(project='wandb_cluster_neuralode', job_type='dataset-creation', config=config)\n",
        "\n",
        "    key = jrandom.PRNGKey(seed)\n",
        "    key_train, key_test = jrandom.split(key, 2)\n",
        "    ts, ys = get_data(size_train, key=key_train)\n",
        "    ts_test, ys_test = get_data(size_test, key=key_test)\n",
        "    _, length_size, data_size = ys.shape\n",
        "\n",
        "    data = {'ts': ts, \n",
        "            'ys': ys, \n",
        "            'length_size': length_size, \n",
        "            'data_size': data_size,\n",
        "            'ts_test': ts_test, \n",
        "            'ys_test': ys_test}\n",
        "\n",
        "    with open('data.pickle', 'wb') as handle:\n",
        "        pickle.dump(data, handle, protocol=pickle.HIGHEST_PROTOCOL)\n",
        "\n",
        "    dataset = wandb.Artifact('my-dataset', type='dataset')  # Create new artifact\n",
        "    dataset.add_file('data.pickle')  # Add files to artifact\n",
        "    run.log_artifact(dataset)  # Log artifact to save it as an output of this run\n",
        "\n",
        "    wandb.finish()  # Finish session"
      ],
      "metadata": {
        "id": "_olkojeGd_Eb"
      },
      "execution_count": 87,
      "outputs": []
    },
    {
      "cell_type": "markdown",
      "source": [
        "## Training loop\n",
        "In the training loop, we use wandb to...\n",
        "\n",
        "1. Load the dataset   \n",
        "2. log the optimization configurations\n",
        "3. log optimization data\n",
        "4. log model gradients"
      ],
      "metadata": {
        "id": "Xtr7R9XdoYRb"
      }
    },
    {
      "cell_type": "code",
      "execution_count": 88,
      "outputs": [],
      "source": [
        "def main(        \n",
        "        batch_size=32,\n",
        "        lr_strategy=(3e-3, 3e-3),\n",
        "        steps_strategy=(500, 500),\n",
        "        length_strategy=(0.1, 1),\n",
        "        width_size=64,\n",
        "        depth=2,\n",
        "        seed=5678,\n",
        "        plot=False,\n",
        "        print_every=100,\n",
        "        watch_run = False\n",
        "):\n",
        "\n",
        "    # Define the config dictionary object\n",
        "    config = {\n",
        "        'batch_size': batch_size,\n",
        "        'lr_strategy': lr_strategy,\n",
        "        'steps_strategy': steps_strategy,\n",
        "        'length_strategy': length_strategy,\n",
        "        'width_size': width_size,\n",
        "        'depth': depth,\n",
        "        'seed': seed,\n",
        "        'print_every': print_every\n",
        "    }\n",
        "\n",
        "    # ==== Initialize W&B run to track job ==== #\n",
        "    run = wandb.init(\n",
        "              project='wandb_cluster_neuralode',\n",
        "              job_type='basic_example',\n",
        "              config=config\n",
        "    ) \n",
        "    # You can explicitly state to which team wandb will save data by adding the option entity='<Team name>'\n",
        "    \n",
        "    # When using sweep the default config gets overwritten\n",
        "    config = wandb.config \n",
        "\n",
        "\n",
        "    # ==== W&B - load data artifact ==== #\n",
        "    artifact = run.use_artifact('my-dataset' + ':latest')\n",
        "    artifact_dir = artifact.download()\n",
        "    \n",
        "    data_path = os.path.join(artifact_dir, 'data.pickle')\n",
        "    with open(data_path, 'rb') as handle:\n",
        "      data = pickle.load(handle)\n",
        "\n",
        "    # ==== JAX - init model ==== #\n",
        "    key = jrandom.PRNGKey(config.seed)\n",
        "    model_key, loader_key = jrandom.split(key, 2)\n",
        "    model = NeuralODE(data['data_size'], config.width_size, config.depth, key=model_key)\n",
        "\n",
        "\n",
        "    # === Training loop === #\n",
        "    # Until step 500 we train on only the first 10% of each time series.\n",
        "    # This is a standard trick to avoid getting caught in a local minimum.\n",
        "\n",
        "    @eqx.filter_value_and_grad\n",
        "    def grad_loss(model, ti, yi):\n",
        "        y_pred = jax.vmap(model, in_axes=(None, 0))(ti, yi[:, 0])\n",
        "        return jnp.mean((yi - y_pred) ** 2)\n",
        "\n",
        "    @eqx.filter_jit\n",
        "    def make_step(ti, yi, model, opt_state):\n",
        "        loss, grads = grad_loss(model, ti, yi)\n",
        "        updates, opt_state = optim.update(grads, opt_state)\n",
        "        model = eqx.apply_updates(model, updates)\n",
        "        return loss, model, opt_state, grads, updates\n",
        "\n",
        "    def pytree_leaves_to_dict(pytree_obj, name='array', pick_ndarrays=True):\n",
        "      # W&B - To log the ndarrays of a JAX pytree, we need to extract the ndarrays, \n",
        "      # transform them to numpy arrays and save these in a dict.\n",
        "      # Rightnow, I did not figure out how to give these arrays an informative name\n",
        "      leaves = jax.tree_util.tree_leaves(pytree_obj)\n",
        "      for k, leaf in enumerate(leaves):\n",
        "          if isinstance(leaf, jax.numpy.ndarray):\n",
        "              key_name = name + str(k)\n",
        "              log_dict[key_name] = np.array(leaf)\n",
        "      return log_dict\n",
        "\n",
        "    for lr, steps, length in zip(config.lr_strategy, config.steps_strategy, config.length_strategy):\n",
        "        optim = optax.adabelief(lr)\n",
        "        opt_state = optim.init(eqx.filter(model, eqx.is_inexact_array))\n",
        "        _ts = data['ts'][: int(data['length_size'] * length)]\n",
        "        _ys = data['ys'][:, : int(data['length_size'] * length)]\n",
        "        for step, (yi,) in zip(\n",
        "                range(steps), dataloader((_ys,), config.batch_size, key=loader_key)\n",
        "        ):\n",
        "            start = time.time()\n",
        "            loss_train, model, opt_state, grads, updates = make_step(_ts, yi, model, opt_state)\n",
        "            end = time.time()\n",
        "\n",
        "            if (step % print_every) == 0 or step == steps - 1:\n",
        "                print(f'Step: {step}, Loss: {loss_train}, Computation time: {end - start}')\n",
        "\n",
        "                # Test model\n",
        "                loss_test, _ = grad_loss(model, data['ts_test'], data['ys_test'])\n",
        "\n",
        "                # === W&B - log optimization === #\n",
        "                log_dict = {\n",
        "                  'step': step, \n",
        "                  'loss_train': loss_train,\n",
        "                  'loss_test': loss_test, \n",
        "                  'computation time': end - start\n",
        "                }\n",
        "              \n",
        "                if watch_run:\n",
        "                    log_dict.update( pytree_leaves_to_dict(model, name='model_array') )\n",
        "                    #log_dict.update( pytree_leaves_to_dict(grads, name='grad_array') )\n",
        "                    log_dict.update( pytree_leaves_to_dict(updates, name='updates_array') )\n",
        "\n",
        "                wandb.log( log_dict )\n",
        "          \n",
        "    if plot:\n",
        "        plt.plot(data['ts'], data['ys'][0, :, 0], c='dodgerblue', label='Real')\n",
        "        plt.plot(data['ts'], data['ys'][0, :, 1], c='dodgerblue')\n",
        "        model_y = model(data['ts'], data['ys'][0, 0])\n",
        "        plt.plot(data['ts'], model_y[:, 0], c='crimson', label='Model')\n",
        "        plt.plot(data['ts'], model_y[:, 1], c='crimson')\n",
        "        plt.legend()\n",
        "        plt.tight_layout()\n",
        "        plt.savefig('neural_ode.png')\n",
        "        plt.show()\n",
        "\n",
        "    wandb.finish()  # Finish W&B session"
      ],
      "metadata": {
        "id": "qXAp1blGadTl"
      }
    },
    {
      "cell_type": "code",
      "execution_count": 89,
      "outputs": [
        {
          "output_type": "display_data",
          "data": {
            "text/plain": [
              "<IPython.core.display.HTML object>"
            ],
            "text/html": [
              "Tracking run with wandb version 0.14.0"
            ]
          },
          "metadata": {}
        },
        {
          "output_type": "display_data",
          "data": {
            "text/plain": [
              "<IPython.core.display.HTML object>"
            ],
            "text/html": [
              "Run data is saved locally in <code>/content/wandb/run-20230322_163111-25d9koog</code>"
            ]
          },
          "metadata": {}
        },
        {
          "output_type": "display_data",
          "data": {
            "text/plain": [
              "<IPython.core.display.HTML object>"
            ],
            "text/html": [
              "Syncing run <strong><a href='https://wandb.ai/rene-geist/wandb_cluster_neuralode/runs/25d9koog' target=\"_blank\">distinctive-cosmos-34</a></strong> to <a href='https://wandb.ai/rene-geist/wandb_cluster_neuralode' target=\"_blank\">Weights & Biases</a> (<a href='https://wandb.me/run' target=\"_blank\">docs</a>)<br/>"
            ]
          },
          "metadata": {}
        },
        {
          "output_type": "display_data",
          "data": {
            "text/plain": [
              "<IPython.core.display.HTML object>"
            ],
            "text/html": [
              " View project at <a href='https://wandb.ai/rene-geist/wandb_cluster_neuralode' target=\"_blank\">https://wandb.ai/rene-geist/wandb_cluster_neuralode</a>"
            ]
          },
          "metadata": {}
        },
        {
          "output_type": "display_data",
          "data": {
            "text/plain": [
              "<IPython.core.display.HTML object>"
            ],
            "text/html": [
              " View run at <a href='https://wandb.ai/rene-geist/wandb_cluster_neuralode/runs/25d9koog' target=\"_blank\">https://wandb.ai/rene-geist/wandb_cluster_neuralode/runs/25d9koog</a>"
            ]
          },
          "metadata": {}
        },
        {
          "output_type": "display_data",
          "data": {
            "text/plain": [
              "<IPython.core.display.HTML object>"
            ],
            "text/html": [
              "Waiting for W&B process to finish... <strong style=\"color:green\">(success).</strong>"
            ]
          },
          "metadata": {}
        },
        {
          "output_type": "display_data",
          "data": {
            "text/plain": [
              "<IPython.core.display.HTML object>"
            ],
            "text/html": [
              " View run <strong style=\"color:#cdcd00\">distinctive-cosmos-34</strong> at: <a href='https://wandb.ai/rene-geist/wandb_cluster_neuralode/runs/25d9koog' target=\"_blank\">https://wandb.ai/rene-geist/wandb_cluster_neuralode/runs/25d9koog</a><br/>Synced 4 W&B file(s), 0 media file(s), 0 artifact file(s) and 0 other file(s)"
            ]
          },
          "metadata": {}
        },
        {
          "output_type": "display_data",
          "data": {
            "text/plain": [
              "<IPython.core.display.HTML object>"
            ],
            "text/html": [
              "Find logs at: <code>./wandb/run-20230322_163111-25d9koog/logs</code>"
            ]
          },
          "metadata": {}
        },
        {
          "output_type": "display_data",
          "data": {
            "text/plain": [
              "<IPython.core.display.HTML object>"
            ],
            "text/html": [
              "Tracking run with wandb version 0.14.0"
            ]
          },
          "metadata": {}
        },
        {
          "output_type": "display_data",
          "data": {
            "text/plain": [
              "<IPython.core.display.HTML object>"
            ],
            "text/html": [
              "Run data is saved locally in <code>/content/wandb/run-20230322_163121-k84zbzjq</code>"
            ]
          },
          "metadata": {}
        },
        {
          "output_type": "display_data",
          "data": {
            "text/plain": [
              "<IPython.core.display.HTML object>"
            ],
            "text/html": [
              "Syncing run <strong><a href='https://wandb.ai/rene-geist/wandb_cluster_neuralode/runs/k84zbzjq' target=\"_blank\">daily-hill-35</a></strong> to <a href='https://wandb.ai/rene-geist/wandb_cluster_neuralode' target=\"_blank\">Weights & Biases</a> (<a href='https://wandb.me/run' target=\"_blank\">docs</a>)<br/>"
            ]
          },
          "metadata": {}
        },
        {
          "output_type": "display_data",
          "data": {
            "text/plain": [
              "<IPython.core.display.HTML object>"
            ],
            "text/html": [
              " View project at <a href='https://wandb.ai/rene-geist/wandb_cluster_neuralode' target=\"_blank\">https://wandb.ai/rene-geist/wandb_cluster_neuralode</a>"
            ]
          },
          "metadata": {}
        },
        {
          "output_type": "display_data",
          "data": {
            "text/plain": [
              "<IPython.core.display.HTML object>"
            ],
            "text/html": [
              " View run at <a href='https://wandb.ai/rene-geist/wandb_cluster_neuralode/runs/k84zbzjq' target=\"_blank\">https://wandb.ai/rene-geist/wandb_cluster_neuralode/runs/k84zbzjq</a>"
            ]
          },
          "metadata": {}
        },
        {
          "output_type": "stream",
          "name": "stderr",
          "text": [
            "\u001b[34m\u001b[1mwandb\u001b[0m:   1 of 1 files downloaded.  \n"
          ]
        },
        {
          "output_type": "stream",
          "name": "stdout",
          "text": [
            "Step: 0, Loss: 0.11333475261926651, Computation time: 26.88011407852173\n",
            "Step: 100, Loss: 0.007018388248980045, Computation time: 0.004915952682495117\n",
            "Step: 200, Loss: 0.007753062527626753, Computation time: 0.004452705383300781\n",
            "Step: 300, Loss: 0.003183433087542653, Computation time: 0.006302833557128906\n",
            "Step: 400, Loss: 0.0008427510038018227, Computation time: 0.005587577819824219\n",
            "Step: 499, Loss: 0.0011529180919751525, Computation time: 0.005561113357543945\n",
            "Step: 0, Loss: 0.03783680498600006, Computation time: 17.338109493255615\n",
            "Step: 100, Loss: 0.007608955726027489, Computation time: 0.03306317329406738\n",
            "Step: 200, Loss: 0.008614838123321533, Computation time: 0.034104347229003906\n",
            "Step: 300, Loss: 0.0058342753909528255, Computation time: 0.03450608253479004\n",
            "Step: 400, Loss: 0.003502139588817954, Computation time: 0.03551506996154785\n",
            "Step: 499, Loss: 0.009178807027637959, Computation time: 0.036896705627441406\n"
          ]
        },
        {
          "output_type": "display_data",
          "data": {
            "text/plain": [
              "<IPython.core.display.HTML object>"
            ],
            "text/html": [
              "Waiting for W&B process to finish... <strong style=\"color:green\">(success).</strong>"
            ]
          },
          "metadata": {}
        },
        {
          "output_type": "display_data",
          "data": {
            "text/plain": [
              "<IPython.core.display.HTML object>"
            ],
            "text/html": [
              "<style>\n",
              "    table.wandb td:nth-child(1) { padding: 0 10px; text-align: left ; width: auto;} td:nth-child(2) {text-align: left ; width: 100%}\n",
              "    .wandb-row { display: flex; flex-direction: row; flex-wrap: wrap; justify-content: flex-start; width: 100% }\n",
              "    .wandb-col { display: flex; flex-direction: column; flex-basis: 100%; flex: 1; padding: 10px; }\n",
              "    </style>\n",
              "<div class=\"wandb-row\"><div class=\"wandb-col\"><h3>Run history:</h3><br/><table class=\"wandb\"><tr><td>computation time</td><td>█▁▁▁▁▁▆▁▁▁▁▁</td></tr><tr><td>loss_test</td><td>▁▁▁▁▁▁█▁▁▁▁▁</td></tr><tr><td>loss_train</td><td>█▁▁▁▁▁▃▁▁▁▁▂</td></tr><tr><td>step</td><td>▁▂▄▅▇█▁▂▄▅▇█</td></tr></table><br/></div><div class=\"wandb-col\"><h3>Run summary:</h3><br/><table class=\"wandb\"><tr><td>computation time</td><td>0.0369</td></tr><tr><td>loss_test</td><td>0.00371</td></tr><tr><td>loss_train</td><td>0.00918</td></tr><tr><td>step</td><td>499</td></tr></table><br/></div></div>"
            ]
          },
          "metadata": {}
        },
        {
          "output_type": "display_data",
          "data": {
            "text/plain": [
              "<IPython.core.display.HTML object>"
            ],
            "text/html": [
              " View run <strong style=\"color:#cdcd00\">daily-hill-35</strong> at: <a href='https://wandb.ai/rene-geist/wandb_cluster_neuralode/runs/k84zbzjq' target=\"_blank\">https://wandb.ai/rene-geist/wandb_cluster_neuralode/runs/k84zbzjq</a><br/>Synced 5 W&B file(s), 0 media file(s), 0 artifact file(s) and 0 other file(s)"
            ]
          },
          "metadata": {}
        },
        {
          "output_type": "display_data",
          "data": {
            "text/plain": [
              "<IPython.core.display.HTML object>"
            ],
            "text/html": [
              "Find logs at: <code>./wandb/run-20230322_163121-k84zbzjq/logs</code>"
            ]
          },
          "metadata": {}
        }
      ],
      "source": [
        "#create_dataset(seed=42)\n",
        "main(seed=99, watch_run=False)"
      ],
      "metadata": {
        "colab": {
          "base_uri": "https://localhost:8080/",
          "height": 736
        },
        "id": "2unJEl9MadTm",
        "outputId": "e0b1dcb3-cf64-4ad5-a3b6-44008297b4dd"
      }
    },
    {
      "cell_type": "markdown",
      "source": [
        "## Automize parameter search using weights & biases sweeps\n",
        "Use Weights & Biases [Sweeps](https://docs.wandb.ai/guides/sweeps) to automate hyperparameter search and explore the space of possible models. Pick from popular search methods such as Bayesian, grid search, and random to search the hyperparameter space. Scale and parallelize Sweep jobs across one or more machines.\n",
        "\n"
      ],
      "metadata": {
        "id": "dOsNRuPG9EcA"
      }
    },
    {
      "cell_type": "code",
      "source": [
        "# Define the search space\n",
        "# You can specify...\n",
        "# a range 'x': {'max': 0.1, 'min': 0.01},\n",
        "# or values 'y': {'values': [1, 3, 7]},\n",
        "sweep_configuration = {\n",
        "    'method': 'random',\n",
        "    'metric': {'goal': 'minimize', 'name': 'loss_test'},\n",
        "    'parameters': \n",
        "    {       \n",
        "        'batch_size': {'values': [32]}, # 32\n",
        "        'lr_strategy': {'values': [(3e-3, 3e-3)]}, # (3e-3, 3e-3)\n",
        "        'steps_strategy': {'values': [(500, 500)]}, # (500, 500)\n",
        "        'length_strategy': {'values': [(0.1, 1)]}, # (0.1, 1)\n",
        "        'width_size': {'values': [20, 64, 150]}, # 64\n",
        "        'depth': {'values': [1, 2, 3]}, # 2\n",
        "        'seed': {'values': [42]},\n",
        "        'print_every': {'values': [100]}  # 100\n",
        "     }\n",
        "}\n",
        "\n",
        "# Start the sweep\n",
        "sweep_id = wandb.sweep(sweep=sweep_configuration, project='wandb_cluster_neuralode')\n",
        "wandb.agent(sweep_id, function=main, count=10)"
      ],
      "metadata": {
        "colab": {
          "base_uri": "https://localhost:8080/",
          "height": 1000,
          "referenced_widgets": [
            "1fcf798c1cbf4d018faa06c575117b13",
            "c630da4488cb4ea9aebf49b77397983f",
            "827675d968ce49b1a44aa0e8844e5a55",
            "685a3d3f5fb04eaea201432fe2d157b4",
            "81befd49caff4859b1b65e73a09d1047",
            "b64ebca804a449b887a5e3930dd805b0",
            "882d109669f148faa0487876856b46fd",
            "55ce2d48a5ac4a13985921819e9413b5",
            "6036ff9bf8544e83a8f6d7380f05e9f1",
            "dd18c1fa140345688908d75710d37329",
            "ade76fac5c99403c965a363eae152c97",
            "9c120cb151d04db8a0112e9c491afb1e",
            "86cfe1178c504b1590c6d3cdbc4c06ff",
            "9c3c4c66b8324f07a5dd8fd547f3e41b",
            "bf775e6bf71c4e549273d4282f4777f0",
            "ed32d02d7a8c4fa897786766e6d13a0a",
            "6de5037a6daf4b748c44e28aa2f99c41",
            "1d57cc007a6347e3a11fc0a071d10c16",
            "13181d15759d47dc9817b4693bdc8daa",
            "f1c46a4c291a46eab5eae0338d59be9e",
            "b29baa15e97a4567ab30c95754bdfea7",
            "6b9f31d5a1644c81a571e15c4ea00a90",
            "15e4a40bb48944759e2b14b422e7c389",
            "357de92b0d564c1db36663f1d4683f76",
            "fde42049c1054335ad5db15b80e5cb91",
            "92eace6baa474ef1bc04543f2ee178e8",
            "9634eb1e18074798a7112eb841a5e394",
            "b2d01a8eeaca453d834de69810b9e071",
            "71a3bead98554879ac6a10a5f7c2fefa",
            "7a5f708985b7490fbf6af52664a26a07",
            "1fbef2a6cc994ef4986ad46c802a6964",
            "c59b2337834a490f861ecba9ea7bcb27"
          ]
        },
        "id": "eDaUv9lf9Ez4",
        "outputId": "9e9d0949-7cc6-492e-e381-7935430dd6c6"
      },
      "execution_count": 90,
      "outputs": [
        {
          "output_type": "stream",
          "name": "stdout",
          "text": [
            "Create sweep with ID: us3tn8wt\n",
            "Sweep URL: https://wandb.ai/rene-geist/wandb_cluster_neuralode/sweeps/us3tn8wt\n"
          ]
        },
        {
          "output_type": "stream",
          "name": "stderr",
          "text": [
            "\u001b[34m\u001b[1mwandb\u001b[0m: Agent Starting Run: z4tihwx3 with config:\n",
            "\u001b[34m\u001b[1mwandb\u001b[0m: \tbatch_size: 32\n",
            "\u001b[34m\u001b[1mwandb\u001b[0m: \tdepth: 3\n",
            "\u001b[34m\u001b[1mwandb\u001b[0m: \tlength_strategy: [0.1, 1]\n",
            "\u001b[34m\u001b[1mwandb\u001b[0m: \tlr_strategy: [0.003, 0.003]\n",
            "\u001b[34m\u001b[1mwandb\u001b[0m: \tprint_every: 100\n",
            "\u001b[34m\u001b[1mwandb\u001b[0m: \tseed: 42\n",
            "\u001b[34m\u001b[1mwandb\u001b[0m: \tsteps_strategy: [500, 500]\n",
            "\u001b[34m\u001b[1mwandb\u001b[0m: \twidth_size: 20\n",
            "\u001b[34m\u001b[1mwandb\u001b[0m: \u001b[33mWARNING\u001b[0m Ignored wandb.init() arg project when running a sweep.\n"
          ]
        },
        {
          "output_type": "display_data",
          "data": {
            "text/plain": [
              "<IPython.core.display.HTML object>"
            ],
            "text/html": [
              "Tracking run with wandb version 0.14.0"
            ]
          },
          "metadata": {}
        },
        {
          "output_type": "display_data",
          "data": {
            "text/plain": [
              "<IPython.core.display.HTML object>"
            ],
            "text/html": [
              "Run data is saved locally in <code>/content/wandb/run-20230322_163305-z4tihwx3</code>"
            ]
          },
          "metadata": {}
        },
        {
          "output_type": "display_data",
          "data": {
            "text/plain": [
              "<IPython.core.display.HTML object>"
            ],
            "text/html": [
              "Syncing run <strong><a href='https://wandb.ai/rene-geist/wandb_cluster_neuralode/runs/z4tihwx3' target=\"_blank\">ancient-sweep-1</a></strong> to <a href='https://wandb.ai/rene-geist/wandb_cluster_neuralode' target=\"_blank\">Weights & Biases</a> (<a href='https://wandb.me/run' target=\"_blank\">docs</a>)<br/>Sweep page: <a href='https://wandb.ai/rene-geist/wandb_cluster_neuralode/sweeps/us3tn8wt' target=\"_blank\">https://wandb.ai/rene-geist/wandb_cluster_neuralode/sweeps/us3tn8wt</a>"
            ]
          },
          "metadata": {}
        },
        {
          "output_type": "display_data",
          "data": {
            "text/plain": [
              "<IPython.core.display.HTML object>"
            ],
            "text/html": [
              " View project at <a href='https://wandb.ai/rene-geist/wandb_cluster_neuralode' target=\"_blank\">https://wandb.ai/rene-geist/wandb_cluster_neuralode</a>"
            ]
          },
          "metadata": {}
        },
        {
          "output_type": "display_data",
          "data": {
            "text/plain": [
              "<IPython.core.display.HTML object>"
            ],
            "text/html": [
              " View sweep at <a href='https://wandb.ai/rene-geist/wandb_cluster_neuralode/sweeps/us3tn8wt' target=\"_blank\">https://wandb.ai/rene-geist/wandb_cluster_neuralode/sweeps/us3tn8wt</a>"
            ]
          },
          "metadata": {}
        },
        {
          "output_type": "display_data",
          "data": {
            "text/plain": [
              "<IPython.core.display.HTML object>"
            ],
            "text/html": [
              " View run at <a href='https://wandb.ai/rene-geist/wandb_cluster_neuralode/runs/z4tihwx3' target=\"_blank\">https://wandb.ai/rene-geist/wandb_cluster_neuralode/runs/z4tihwx3</a>"
            ]
          },
          "metadata": {}
        },
        {
          "output_type": "stream",
          "name": "stderr",
          "text": [
            "\u001b[34m\u001b[1mwandb\u001b[0m:   1 of 1 files downloaded.  \n"
          ]
        },
        {
          "output_type": "stream",
          "name": "stdout",
          "text": [
            "Step: 0, Loss: 0.07296563684940338, Computation time: 27.024245500564575\n",
            "Step: 100, Loss: 0.013954832218587399, Computation time: 0.0031998157501220703\n",
            "Step: 200, Loss: 0.004157245624810457, Computation time: 0.005562782287597656\n",
            "Step: 300, Loss: 0.0006523383199237287, Computation time: 0.0037970542907714844\n",
            "Step: 400, Loss: 0.00020883390970993787, Computation time: 0.003793954849243164\n",
            "Step: 499, Loss: 0.0007606055005453527, Computation time: 0.0038187503814697266\n",
            "Step: 0, Loss: 0.019614944234490395, Computation time: 17.28099513053894\n",
            "Step: 100, Loss: 0.0057858191430568695, Computation time: 0.04332375526428223\n",
            "Step: 200, Loss: 0.0027169983368366957, Computation time: 0.02740001678466797\n",
            "Step: 300, Loss: 0.0010726527543738484, Computation time: 0.02580857276916504\n",
            "Step: 400, Loss: 0.0014723350759595633, Computation time: 0.02711629867553711\n",
            "Step: 499, Loss: 0.0006447380874305964, Computation time: 0.04514479637145996\n"
          ]
        },
        {
          "output_type": "display_data",
          "data": {
            "text/plain": [
              "<IPython.core.display.HTML object>"
            ],
            "text/html": [
              "Waiting for W&B process to finish... <strong style=\"color:green\">(success).</strong>"
            ]
          },
          "metadata": {}
        },
        {
          "output_type": "display_data",
          "data": {
            "text/plain": [
              "<IPython.core.display.HTML object>"
            ],
            "text/html": [
              "<style>\n",
              "    table.wandb td:nth-child(1) { padding: 0 10px; text-align: left ; width: auto;} td:nth-child(2) {text-align: left ; width: 100%}\n",
              "    .wandb-row { display: flex; flex-direction: row; flex-wrap: wrap; justify-content: flex-start; width: 100% }\n",
              "    .wandb-col { display: flex; flex-direction: column; flex-basis: 100%; flex: 1; padding: 10px; }\n",
              "    </style>\n",
              "<div class=\"wandb-row\"><div class=\"wandb-col\"><h3>Run history:</h3><br/><table class=\"wandb\"><tr><td>computation time</td><td>█▁▁▁▁▁▅▁▁▁▁▁</td></tr><tr><td>loss_test</td><td>█▂▁▁▁▁▄▁▁▁▁▁</td></tr><tr><td>loss_train</td><td>█▂▁▁▁▁▃▂▁▁▁▁</td></tr><tr><td>step</td><td>▁▂▄▅▇█▁▂▄▅▇█</td></tr></table><br/></div><div class=\"wandb-col\"><h3>Run summary:</h3><br/><table class=\"wandb\"><tr><td>computation time</td><td>0.04514</td></tr><tr><td>loss_test</td><td>0.00046</td></tr><tr><td>loss_train</td><td>0.00064</td></tr><tr><td>step</td><td>499</td></tr></table><br/></div></div>"
            ]
          },
          "metadata": {}
        },
        {
          "output_type": "display_data",
          "data": {
            "text/plain": [
              "<IPython.core.display.HTML object>"
            ],
            "text/html": [
              " View run <strong style=\"color:#cdcd00\">ancient-sweep-1</strong> at: <a href='https://wandb.ai/rene-geist/wandb_cluster_neuralode/runs/z4tihwx3' target=\"_blank\">https://wandb.ai/rene-geist/wandb_cluster_neuralode/runs/z4tihwx3</a><br/>Synced 5 W&B file(s), 0 media file(s), 0 artifact file(s) and 0 other file(s)"
            ]
          },
          "metadata": {}
        },
        {
          "output_type": "display_data",
          "data": {
            "text/plain": [
              "<IPython.core.display.HTML object>"
            ],
            "text/html": [
              "Find logs at: <code>./wandb/run-20230322_163305-z4tihwx3/logs</code>"
            ]
          },
          "metadata": {}
        },
        {
          "output_type": "stream",
          "name": "stderr",
          "text": [
            "\u001b[34m\u001b[1mwandb\u001b[0m: Agent Starting Run: kj6n9g99 with config:\n",
            "\u001b[34m\u001b[1mwandb\u001b[0m: \tbatch_size: 32\n",
            "\u001b[34m\u001b[1mwandb\u001b[0m: \tdepth: 2\n",
            "\u001b[34m\u001b[1mwandb\u001b[0m: \tlength_strategy: [0.1, 1]\n",
            "\u001b[34m\u001b[1mwandb\u001b[0m: \tlr_strategy: [0.003, 0.003]\n",
            "\u001b[34m\u001b[1mwandb\u001b[0m: \tprint_every: 100\n",
            "\u001b[34m\u001b[1mwandb\u001b[0m: \tseed: 42\n",
            "\u001b[34m\u001b[1mwandb\u001b[0m: \tsteps_strategy: [500, 500]\n",
            "\u001b[34m\u001b[1mwandb\u001b[0m: \twidth_size: 150\n",
            "\u001b[34m\u001b[1mwandb\u001b[0m: \u001b[33mWARNING\u001b[0m Ignored wandb.init() arg project when running a sweep.\n"
          ]
        },
        {
          "output_type": "display_data",
          "data": {
            "text/plain": [
              "<IPython.core.display.HTML object>"
            ],
            "text/html": [
              "Tracking run with wandb version 0.14.0"
            ]
          },
          "metadata": {}
        },
        {
          "output_type": "display_data",
          "data": {
            "text/plain": [
              "<IPython.core.display.HTML object>"
            ],
            "text/html": [
              "Run data is saved locally in <code>/content/wandb/run-20230322_163449-kj6n9g99</code>"
            ]
          },
          "metadata": {}
        },
        {
          "output_type": "display_data",
          "data": {
            "text/plain": [
              "<IPython.core.display.HTML object>"
            ],
            "text/html": [
              "Syncing run <strong><a href='https://wandb.ai/rene-geist/wandb_cluster_neuralode/runs/kj6n9g99' target=\"_blank\">hardy-sweep-2</a></strong> to <a href='https://wandb.ai/rene-geist/wandb_cluster_neuralode' target=\"_blank\">Weights & Biases</a> (<a href='https://wandb.me/run' target=\"_blank\">docs</a>)<br/>Sweep page: <a href='https://wandb.ai/rene-geist/wandb_cluster_neuralode/sweeps/us3tn8wt' target=\"_blank\">https://wandb.ai/rene-geist/wandb_cluster_neuralode/sweeps/us3tn8wt</a>"
            ]
          },
          "metadata": {}
        },
        {
          "output_type": "display_data",
          "data": {
            "text/plain": [
              "<IPython.core.display.HTML object>"
            ],
            "text/html": [
              " View project at <a href='https://wandb.ai/rene-geist/wandb_cluster_neuralode' target=\"_blank\">https://wandb.ai/rene-geist/wandb_cluster_neuralode</a>"
            ]
          },
          "metadata": {}
        },
        {
          "output_type": "display_data",
          "data": {
            "text/plain": [
              "<IPython.core.display.HTML object>"
            ],
            "text/html": [
              " View sweep at <a href='https://wandb.ai/rene-geist/wandb_cluster_neuralode/sweeps/us3tn8wt' target=\"_blank\">https://wandb.ai/rene-geist/wandb_cluster_neuralode/sweeps/us3tn8wt</a>"
            ]
          },
          "metadata": {}
        },
        {
          "output_type": "display_data",
          "data": {
            "text/plain": [
              "<IPython.core.display.HTML object>"
            ],
            "text/html": [
              " View run at <a href='https://wandb.ai/rene-geist/wandb_cluster_neuralode/runs/kj6n9g99' target=\"_blank\">https://wandb.ai/rene-geist/wandb_cluster_neuralode/runs/kj6n9g99</a>"
            ]
          },
          "metadata": {}
        },
        {
          "output_type": "stream",
          "name": "stderr",
          "text": [
            "\u001b[34m\u001b[1mwandb\u001b[0m:   1 of 1 files downloaded.  \n"
          ]
        },
        {
          "output_type": "stream",
          "name": "stdout",
          "text": [
            "Step: 0, Loss: 0.06524918228387833, Computation time: 18.394052982330322\n",
            "Step: 100, Loss: 0.011897136457264423, Computation time: 0.012916803359985352\n",
            "Step: 200, Loss: 0.006140392739325762, Computation time: 0.026012182235717773\n",
            "Step: 300, Loss: 0.0009008643100969493, Computation time: 0.0168759822845459\n",
            "Step: 400, Loss: 0.0006347507005557418, Computation time: 0.0164794921875\n",
            "Step: 499, Loss: 0.0005457533989101648, Computation time: 0.016537904739379883\n",
            "Step: 0, Loss: 0.025462059304118156, Computation time: 16.748396158218384\n",
            "Step: 100, Loss: 0.003907904494553804, Computation time: 0.09642481803894043\n",
            "Step: 200, Loss: 0.005904551595449448, Computation time: 0.10240936279296875\n",
            "Step: 300, Loss: 0.004640038590878248, Computation time: 0.10671496391296387\n",
            "Step: 400, Loss: 0.0004905553068965673, Computation time: 0.11063146591186523\n",
            "Step: 499, Loss: 0.0007294952520169318, Computation time: 0.11672329902648926\n"
          ]
        },
        {
          "output_type": "display_data",
          "data": {
            "text/plain": [
              "<IPython.core.display.HTML object>"
            ],
            "text/html": [
              "Waiting for W&B process to finish... <strong style=\"color:green\">(success).</strong>"
            ]
          },
          "metadata": {}
        },
        {
          "output_type": "display_data",
          "data": {
            "text/plain": [
              "VBox(children=(Label(value='0.001 MB of 0.001 MB uploaded (0.000 MB deduped)\\r'), FloatProgress(value=1.0, max…"
            ],
            "application/vnd.jupyter.widget-view+json": {
              "version_major": 2,
              "version_minor": 0,
              "model_id": "1fcf798c1cbf4d018faa06c575117b13"
            }
          },
          "metadata": {}
        },
        {
          "output_type": "display_data",
          "data": {
            "text/plain": [
              "<IPython.core.display.HTML object>"
            ],
            "text/html": [
              "<style>\n",
              "    table.wandb td:nth-child(1) { padding: 0 10px; text-align: left ; width: auto;} td:nth-child(2) {text-align: left ; width: 100%}\n",
              "    .wandb-row { display: flex; flex-direction: row; flex-wrap: wrap; justify-content: flex-start; width: 100% }\n",
              "    .wandb-col { display: flex; flex-direction: column; flex-basis: 100%; flex: 1; padding: 10px; }\n",
              "    </style>\n",
              "<div class=\"wandb-row\"><div class=\"wandb-col\"><h3>Run history:</h3><br/><table class=\"wandb\"><tr><td>computation time</td><td>█▁▁▁▁▁▇▁▁▁▁▁</td></tr><tr><td>loss_test</td><td>█▁▁▁▁▁▁▁▁▁▁▁</td></tr><tr><td>loss_train</td><td>█▂▂▁▁▁▄▁▂▁▁▁</td></tr><tr><td>step</td><td>▁▂▄▅▇█▁▂▄▅▇█</td></tr></table><br/></div><div class=\"wandb-col\"><h3>Run summary:</h3><br/><table class=\"wandb\"><tr><td>computation time</td><td>0.11672</td></tr><tr><td>loss_test</td><td>0.00118</td></tr><tr><td>loss_train</td><td>0.00073</td></tr><tr><td>step</td><td>499</td></tr></table><br/></div></div>"
            ]
          },
          "metadata": {}
        },
        {
          "output_type": "display_data",
          "data": {
            "text/plain": [
              "<IPython.core.display.HTML object>"
            ],
            "text/html": [
              " View run <strong style=\"color:#cdcd00\">hardy-sweep-2</strong> at: <a href='https://wandb.ai/rene-geist/wandb_cluster_neuralode/runs/kj6n9g99' target=\"_blank\">https://wandb.ai/rene-geist/wandb_cluster_neuralode/runs/kj6n9g99</a><br/>Synced 5 W&B file(s), 0 media file(s), 0 artifact file(s) and 0 other file(s)"
            ]
          },
          "metadata": {}
        },
        {
          "output_type": "display_data",
          "data": {
            "text/plain": [
              "<IPython.core.display.HTML object>"
            ],
            "text/html": [
              "Find logs at: <code>./wandb/run-20230322_163449-kj6n9g99/logs</code>"
            ]
          },
          "metadata": {}
        },
        {
          "output_type": "stream",
          "name": "stderr",
          "text": [
            "\u001b[34m\u001b[1mwandb\u001b[0m: Agent Starting Run: 384r7h32 with config:\n",
            "\u001b[34m\u001b[1mwandb\u001b[0m: \tbatch_size: 32\n",
            "\u001b[34m\u001b[1mwandb\u001b[0m: \tdepth: 2\n",
            "\u001b[34m\u001b[1mwandb\u001b[0m: \tlength_strategy: [0.1, 1]\n",
            "\u001b[34m\u001b[1mwandb\u001b[0m: \tlr_strategy: [0.003, 0.003]\n",
            "\u001b[34m\u001b[1mwandb\u001b[0m: \tprint_every: 100\n",
            "\u001b[34m\u001b[1mwandb\u001b[0m: \tseed: 42\n",
            "\u001b[34m\u001b[1mwandb\u001b[0m: \tsteps_strategy: [500, 500]\n",
            "\u001b[34m\u001b[1mwandb\u001b[0m: \twidth_size: 64\n",
            "\u001b[34m\u001b[1mwandb\u001b[0m: \u001b[33mWARNING\u001b[0m Ignored wandb.init() arg project when running a sweep.\n"
          ]
        },
        {
          "output_type": "display_data",
          "data": {
            "text/plain": [
              "<IPython.core.display.HTML object>"
            ],
            "text/html": [
              "Tracking run with wandb version 0.14.0"
            ]
          },
          "metadata": {}
        },
        {
          "output_type": "display_data",
          "data": {
            "text/plain": [
              "<IPython.core.display.HTML object>"
            ],
            "text/html": [
              "Run data is saved locally in <code>/content/wandb/run-20230322_163712-384r7h32</code>"
            ]
          },
          "metadata": {}
        },
        {
          "output_type": "display_data",
          "data": {
            "text/plain": [
              "<IPython.core.display.HTML object>"
            ],
            "text/html": [
              "Syncing run <strong><a href='https://wandb.ai/rene-geist/wandb_cluster_neuralode/runs/384r7h32' target=\"_blank\">dry-sweep-3</a></strong> to <a href='https://wandb.ai/rene-geist/wandb_cluster_neuralode' target=\"_blank\">Weights & Biases</a> (<a href='https://wandb.me/run' target=\"_blank\">docs</a>)<br/>Sweep page: <a href='https://wandb.ai/rene-geist/wandb_cluster_neuralode/sweeps/us3tn8wt' target=\"_blank\">https://wandb.ai/rene-geist/wandb_cluster_neuralode/sweeps/us3tn8wt</a>"
            ]
          },
          "metadata": {}
        },
        {
          "output_type": "display_data",
          "data": {
            "text/plain": [
              "<IPython.core.display.HTML object>"
            ],
            "text/html": [
              " View project at <a href='https://wandb.ai/rene-geist/wandb_cluster_neuralode' target=\"_blank\">https://wandb.ai/rene-geist/wandb_cluster_neuralode</a>"
            ]
          },
          "metadata": {}
        },
        {
          "output_type": "display_data",
          "data": {
            "text/plain": [
              "<IPython.core.display.HTML object>"
            ],
            "text/html": [
              " View sweep at <a href='https://wandb.ai/rene-geist/wandb_cluster_neuralode/sweeps/us3tn8wt' target=\"_blank\">https://wandb.ai/rene-geist/wandb_cluster_neuralode/sweeps/us3tn8wt</a>"
            ]
          },
          "metadata": {}
        },
        {
          "output_type": "display_data",
          "data": {
            "text/plain": [
              "<IPython.core.display.HTML object>"
            ],
            "text/html": [
              " View run at <a href='https://wandb.ai/rene-geist/wandb_cluster_neuralode/runs/384r7h32' target=\"_blank\">https://wandb.ai/rene-geist/wandb_cluster_neuralode/runs/384r7h32</a>"
            ]
          },
          "metadata": {}
        },
        {
          "output_type": "stream",
          "name": "stderr",
          "text": [
            "\u001b[34m\u001b[1mwandb\u001b[0m:   1 of 1 files downloaded.  \n"
          ]
        },
        {
          "output_type": "stream",
          "name": "stdout",
          "text": [
            "Step: 0, Loss: 0.059469472616910934, Computation time: 11.45964527130127\n",
            "Step: 100, Loss: 0.010909945704042912, Computation time: 0.0043408870697021484\n",
            "Step: 200, Loss: 0.006555596832185984, Computation time: 0.004612922668457031\n",
            "Step: 300, Loss: 0.0019303553272038698, Computation time: 0.004456281661987305\n",
            "Step: 400, Loss: 0.0011630762601271272, Computation time: 0.005420207977294922\n",
            "Step: 499, Loss: 0.0012586781522259116, Computation time: 0.008536577224731445\n",
            "Step: 0, Loss: 0.03719727322459221, Computation time: 11.532605648040771\n",
            "Step: 100, Loss: 0.010364141315221786, Computation time: 0.03394365310668945\n",
            "Step: 200, Loss: 0.006951243616640568, Computation time: 0.03400063514709473\n",
            "Step: 300, Loss: 0.008381043560802937, Computation time: 0.03309345245361328\n",
            "Step: 400, Loss: 0.0034200826194137335, Computation time: 0.033284664154052734\n",
            "Step: 499, Loss: 0.006466153543442488, Computation time: 0.037371158599853516\n"
          ]
        },
        {
          "output_type": "display_data",
          "data": {
            "text/plain": [
              "<IPython.core.display.HTML object>"
            ],
            "text/html": [
              "Waiting for W&B process to finish... <strong style=\"color:green\">(success).</strong>"
            ]
          },
          "metadata": {}
        },
        {
          "output_type": "display_data",
          "data": {
            "text/plain": [
              "VBox(children=(Label(value='0.001 MB of 0.001 MB uploaded (0.000 MB deduped)\\r'), FloatProgress(value=1.0, max…"
            ],
            "application/vnd.jupyter.widget-view+json": {
              "version_major": 2,
              "version_minor": 0,
              "model_id": "6036ff9bf8544e83a8f6d7380f05e9f1"
            }
          },
          "metadata": {}
        },
        {
          "output_type": "display_data",
          "data": {
            "text/plain": [
              "<IPython.core.display.HTML object>"
            ],
            "text/html": [
              "<style>\n",
              "    table.wandb td:nth-child(1) { padding: 0 10px; text-align: left ; width: auto;} td:nth-child(2) {text-align: left ; width: 100%}\n",
              "    .wandb-row { display: flex; flex-direction: row; flex-wrap: wrap; justify-content: flex-start; width: 100% }\n",
              "    .wandb-col { display: flex; flex-direction: column; flex-basis: 100%; flex: 1; padding: 10px; }\n",
              "    </style>\n",
              "<div class=\"wandb-row\"><div class=\"wandb-col\"><h3>Run history:</h3><br/><table class=\"wandb\"><tr><td>computation time</td><td>█▁▁▁▁▁█▁▁▁▁▁</td></tr><tr><td>loss_test</td><td>█▁▁▁▁▁▁▁▁▁▁▁</td></tr><tr><td>loss_train</td><td>█▂▂▁▁▁▅▂▂▂▁▂</td></tr><tr><td>step</td><td>▁▂▄▅▇█▁▂▄▅▇█</td></tr></table><br/></div><div class=\"wandb-col\"><h3>Run summary:</h3><br/><table class=\"wandb\"><tr><td>computation time</td><td>0.03737</td></tr><tr><td>loss_test</td><td>0.00298</td></tr><tr><td>loss_train</td><td>0.00647</td></tr><tr><td>step</td><td>499</td></tr></table><br/></div></div>"
            ]
          },
          "metadata": {}
        },
        {
          "output_type": "display_data",
          "data": {
            "text/plain": [
              "<IPython.core.display.HTML object>"
            ],
            "text/html": [
              " View run <strong style=\"color:#cdcd00\">dry-sweep-3</strong> at: <a href='https://wandb.ai/rene-geist/wandb_cluster_neuralode/runs/384r7h32' target=\"_blank\">https://wandb.ai/rene-geist/wandb_cluster_neuralode/runs/384r7h32</a><br/>Synced 5 W&B file(s), 0 media file(s), 0 artifact file(s) and 0 other file(s)"
            ]
          },
          "metadata": {}
        },
        {
          "output_type": "display_data",
          "data": {
            "text/plain": [
              "<IPython.core.display.HTML object>"
            ],
            "text/html": [
              "Find logs at: <code>./wandb/run-20230322_163712-384r7h32/logs</code>"
            ]
          },
          "metadata": {}
        },
        {
          "output_type": "stream",
          "name": "stderr",
          "text": [
            "\u001b[34m\u001b[1mwandb\u001b[0m: Agent Starting Run: noc11mp6 with config:\n",
            "\u001b[34m\u001b[1mwandb\u001b[0m: \tbatch_size: 32\n",
            "\u001b[34m\u001b[1mwandb\u001b[0m: \tdepth: 1\n",
            "\u001b[34m\u001b[1mwandb\u001b[0m: \tlength_strategy: [0.1, 1]\n",
            "\u001b[34m\u001b[1mwandb\u001b[0m: \tlr_strategy: [0.003, 0.003]\n",
            "\u001b[34m\u001b[1mwandb\u001b[0m: \tprint_every: 100\n",
            "\u001b[34m\u001b[1mwandb\u001b[0m: \tseed: 42\n",
            "\u001b[34m\u001b[1mwandb\u001b[0m: \tsteps_strategy: [500, 500]\n",
            "\u001b[34m\u001b[1mwandb\u001b[0m: \twidth_size: 150\n",
            "\u001b[34m\u001b[1mwandb\u001b[0m: \u001b[33mWARNING\u001b[0m Ignored wandb.init() arg project when running a sweep.\n"
          ]
        },
        {
          "output_type": "display_data",
          "data": {
            "text/plain": [
              "<IPython.core.display.HTML object>"
            ],
            "text/html": [
              "Tracking run with wandb version 0.14.0"
            ]
          },
          "metadata": {}
        },
        {
          "output_type": "display_data",
          "data": {
            "text/plain": [
              "<IPython.core.display.HTML object>"
            ],
            "text/html": [
              "Run data is saved locally in <code>/content/wandb/run-20230322_163816-noc11mp6</code>"
            ]
          },
          "metadata": {}
        },
        {
          "output_type": "display_data",
          "data": {
            "text/plain": [
              "<IPython.core.display.HTML object>"
            ],
            "text/html": [
              "Syncing run <strong><a href='https://wandb.ai/rene-geist/wandb_cluster_neuralode/runs/noc11mp6' target=\"_blank\">olive-sweep-4</a></strong> to <a href='https://wandb.ai/rene-geist/wandb_cluster_neuralode' target=\"_blank\">Weights & Biases</a> (<a href='https://wandb.me/run' target=\"_blank\">docs</a>)<br/>Sweep page: <a href='https://wandb.ai/rene-geist/wandb_cluster_neuralode/sweeps/us3tn8wt' target=\"_blank\">https://wandb.ai/rene-geist/wandb_cluster_neuralode/sweeps/us3tn8wt</a>"
            ]
          },
          "metadata": {}
        },
        {
          "output_type": "display_data",
          "data": {
            "text/plain": [
              "<IPython.core.display.HTML object>"
            ],
            "text/html": [
              " View project at <a href='https://wandb.ai/rene-geist/wandb_cluster_neuralode' target=\"_blank\">https://wandb.ai/rene-geist/wandb_cluster_neuralode</a>"
            ]
          },
          "metadata": {}
        },
        {
          "output_type": "display_data",
          "data": {
            "text/plain": [
              "<IPython.core.display.HTML object>"
            ],
            "text/html": [
              " View sweep at <a href='https://wandb.ai/rene-geist/wandb_cluster_neuralode/sweeps/us3tn8wt' target=\"_blank\">https://wandb.ai/rene-geist/wandb_cluster_neuralode/sweeps/us3tn8wt</a>"
            ]
          },
          "metadata": {}
        },
        {
          "output_type": "display_data",
          "data": {
            "text/plain": [
              "<IPython.core.display.HTML object>"
            ],
            "text/html": [
              " View run at <a href='https://wandb.ai/rene-geist/wandb_cluster_neuralode/runs/noc11mp6' target=\"_blank\">https://wandb.ai/rene-geist/wandb_cluster_neuralode/runs/noc11mp6</a>"
            ]
          },
          "metadata": {}
        },
        {
          "output_type": "stream",
          "name": "stderr",
          "text": [
            "\u001b[34m\u001b[1mwandb\u001b[0m:   1 of 1 files downloaded.  \n"
          ]
        },
        {
          "output_type": "stream",
          "name": "stdout",
          "text": [
            "Step: 0, Loss: 0.10406722128391266, Computation time: 17.677746057510376\n",
            "Step: 100, Loss: 0.014937231317162514, Computation time: 0.003751993179321289\n",
            "Step: 200, Loss: 0.011628729291260242, Computation time: 0.0037336349487304688\n",
            "Step: 300, Loss: 0.004836494103074074, Computation time: 0.003786325454711914\n",
            "Step: 400, Loss: 0.002841165056452155, Computation time: 0.0038938522338867188\n",
            "Step: 499, Loss: 0.0041902936063706875, Computation time: 0.004709959030151367\n",
            "Step: 0, Loss: 0.024687549099326134, Computation time: 17.067394733428955\n",
            "Step: 100, Loss: 0.03232789412140846, Computation time: 0.04089474678039551\n",
            "Step: 200, Loss: 0.01704997941851616, Computation time: 0.028095483779907227\n",
            "Step: 300, Loss: 0.01393081620335579, Computation time: 0.028810739517211914\n",
            "Step: 400, Loss: 0.021362867206335068, Computation time: 0.029102087020874023\n",
            "Step: 499, Loss: 0.016379041597247124, Computation time: 0.04916501045227051\n"
          ]
        },
        {
          "output_type": "display_data",
          "data": {
            "text/plain": [
              "<IPython.core.display.HTML object>"
            ],
            "text/html": [
              "Waiting for W&B process to finish... <strong style=\"color:green\">(success).</strong>"
            ]
          },
          "metadata": {}
        },
        {
          "output_type": "display_data",
          "data": {
            "text/plain": [
              "<IPython.core.display.HTML object>"
            ],
            "text/html": [
              "<style>\n",
              "    table.wandb td:nth-child(1) { padding: 0 10px; text-align: left ; width: auto;} td:nth-child(2) {text-align: left ; width: 100%}\n",
              "    .wandb-row { display: flex; flex-direction: row; flex-wrap: wrap; justify-content: flex-start; width: 100% }\n",
              "    .wandb-col { display: flex; flex-direction: column; flex-basis: 100%; flex: 1; padding: 10px; }\n",
              "    </style>\n",
              "<div class=\"wandb-row\"><div class=\"wandb-col\"><h3>Run history:</h3><br/><table class=\"wandb\"><tr><td>computation time</td><td>█▁▁▁▁▁█▁▁▁▁▁</td></tr><tr><td>loss_test</td><td>█▁▁▁▁▁▄▁▁▁▁▁</td></tr><tr><td>loss_train</td><td>█▂▂▁▁▁▃▃▂▂▂▂</td></tr><tr><td>step</td><td>▁▂▄▅▇█▁▂▄▅▇█</td></tr></table><br/></div><div class=\"wandb-col\"><h3>Run summary:</h3><br/><table class=\"wandb\"><tr><td>computation time</td><td>0.04917</td></tr><tr><td>loss_test</td><td>0.01306</td></tr><tr><td>loss_train</td><td>0.01638</td></tr><tr><td>step</td><td>499</td></tr></table><br/></div></div>"
            ]
          },
          "metadata": {}
        },
        {
          "output_type": "display_data",
          "data": {
            "text/plain": [
              "<IPython.core.display.HTML object>"
            ],
            "text/html": [
              " View run <strong style=\"color:#cdcd00\">olive-sweep-4</strong> at: <a href='https://wandb.ai/rene-geist/wandb_cluster_neuralode/runs/noc11mp6' target=\"_blank\">https://wandb.ai/rene-geist/wandb_cluster_neuralode/runs/noc11mp6</a><br/>Synced 5 W&B file(s), 0 media file(s), 0 artifact file(s) and 0 other file(s)"
            ]
          },
          "metadata": {}
        },
        {
          "output_type": "display_data",
          "data": {
            "text/plain": [
              "<IPython.core.display.HTML object>"
            ],
            "text/html": [
              "Find logs at: <code>./wandb/run-20230322_163816-noc11mp6/logs</code>"
            ]
          },
          "metadata": {}
        },
        {
          "output_type": "stream",
          "name": "stderr",
          "text": [
            "\u001b[34m\u001b[1mwandb\u001b[0m: Sweep Agent: Waiting for job.\n",
            "\u001b[34m\u001b[1mwandb\u001b[0m: Job received.\n",
            "\u001b[34m\u001b[1mwandb\u001b[0m: Agent Starting Run: jxisy4zn with config:\n",
            "\u001b[34m\u001b[1mwandb\u001b[0m: \tbatch_size: 32\n",
            "\u001b[34m\u001b[1mwandb\u001b[0m: \tdepth: 1\n",
            "\u001b[34m\u001b[1mwandb\u001b[0m: \tlength_strategy: [0.1, 1]\n",
            "\u001b[34m\u001b[1mwandb\u001b[0m: \tlr_strategy: [0.003, 0.003]\n",
            "\u001b[34m\u001b[1mwandb\u001b[0m: \tprint_every: 100\n",
            "\u001b[34m\u001b[1mwandb\u001b[0m: \tseed: 42\n",
            "\u001b[34m\u001b[1mwandb\u001b[0m: \tsteps_strategy: [500, 500]\n",
            "\u001b[34m\u001b[1mwandb\u001b[0m: \twidth_size: 20\n",
            "\u001b[34m\u001b[1mwandb\u001b[0m: \u001b[33mWARNING\u001b[0m Ignored wandb.init() arg project when running a sweep.\n"
          ]
        },
        {
          "output_type": "display_data",
          "data": {
            "text/plain": [
              "<IPython.core.display.HTML object>"
            ],
            "text/html": [
              "Tracking run with wandb version 0.14.0"
            ]
          },
          "metadata": {}
        },
        {
          "output_type": "display_data",
          "data": {
            "text/plain": [
              "<IPython.core.display.HTML object>"
            ],
            "text/html": [
              "Run data is saved locally in <code>/content/wandb/run-20230322_163954-jxisy4zn</code>"
            ]
          },
          "metadata": {}
        },
        {
          "output_type": "display_data",
          "data": {
            "text/plain": [
              "<IPython.core.display.HTML object>"
            ],
            "text/html": [
              "Syncing run <strong><a href='https://wandb.ai/rene-geist/wandb_cluster_neuralode/runs/jxisy4zn' target=\"_blank\">stilted-sweep-5</a></strong> to <a href='https://wandb.ai/rene-geist/wandb_cluster_neuralode' target=\"_blank\">Weights & Biases</a> (<a href='https://wandb.me/run' target=\"_blank\">docs</a>)<br/>Sweep page: <a href='https://wandb.ai/rene-geist/wandb_cluster_neuralode/sweeps/us3tn8wt' target=\"_blank\">https://wandb.ai/rene-geist/wandb_cluster_neuralode/sweeps/us3tn8wt</a>"
            ]
          },
          "metadata": {}
        },
        {
          "output_type": "display_data",
          "data": {
            "text/plain": [
              "<IPython.core.display.HTML object>"
            ],
            "text/html": [
              " View project at <a href='https://wandb.ai/rene-geist/wandb_cluster_neuralode' target=\"_blank\">https://wandb.ai/rene-geist/wandb_cluster_neuralode</a>"
            ]
          },
          "metadata": {}
        },
        {
          "output_type": "display_data",
          "data": {
            "text/plain": [
              "<IPython.core.display.HTML object>"
            ],
            "text/html": [
              " View sweep at <a href='https://wandb.ai/rene-geist/wandb_cluster_neuralode/sweeps/us3tn8wt' target=\"_blank\">https://wandb.ai/rene-geist/wandb_cluster_neuralode/sweeps/us3tn8wt</a>"
            ]
          },
          "metadata": {}
        },
        {
          "output_type": "display_data",
          "data": {
            "text/plain": [
              "<IPython.core.display.HTML object>"
            ],
            "text/html": [
              " View run at <a href='https://wandb.ai/rene-geist/wandb_cluster_neuralode/runs/jxisy4zn' target=\"_blank\">https://wandb.ai/rene-geist/wandb_cluster_neuralode/runs/jxisy4zn</a>"
            ]
          },
          "metadata": {}
        },
        {
          "output_type": "stream",
          "name": "stderr",
          "text": [
            "\u001b[34m\u001b[1mwandb\u001b[0m:   1 of 1 files downloaded.  \n"
          ]
        },
        {
          "output_type": "stream",
          "name": "stdout",
          "text": [
            "Step: 0, Loss: 0.08794393390417099, Computation time: 17.028018712997437\n",
            "Step: 100, Loss: 0.015755670145154, Computation time: 0.0017540454864501953\n",
            "Step: 200, Loss: 0.01255581434816122, Computation time: 0.0017879009246826172\n",
            "Step: 300, Loss: 0.005584015045315027, Computation time: 0.0018165111541748047\n",
            "Step: 400, Loss: 0.0037837866693735123, Computation time: 0.0017547607421875\n",
            "Step: 499, Loss: 0.0050829811953008175, Computation time: 0.001760721206665039\n",
            "Step: 0, Loss: 0.04585922136902809, Computation time: 15.682780504226685\n",
            "Step: 100, Loss: 0.022741448134183884, Computation time: 0.01436924934387207\n",
            "Step: 200, Loss: 0.01646026037633419, Computation time: 0.024793148040771484\n",
            "Step: 300, Loss: 0.010066828690469265, Computation time: 0.01489710807800293\n",
            "Step: 400, Loss: 0.010081266984343529, Computation time: 0.014748573303222656\n",
            "Step: 499, Loss: 0.01246845256537199, Computation time: 0.015107870101928711\n"
          ]
        },
        {
          "output_type": "display_data",
          "data": {
            "text/plain": [
              "<IPython.core.display.HTML object>"
            ],
            "text/html": [
              "Waiting for W&B process to finish... <strong style=\"color:green\">(success).</strong>"
            ]
          },
          "metadata": {}
        },
        {
          "output_type": "display_data",
          "data": {
            "text/plain": [
              "<IPython.core.display.HTML object>"
            ],
            "text/html": [
              "<style>\n",
              "    table.wandb td:nth-child(1) { padding: 0 10px; text-align: left ; width: auto;} td:nth-child(2) {text-align: left ; width: 100%}\n",
              "    .wandb-row { display: flex; flex-direction: row; flex-wrap: wrap; justify-content: flex-start; width: 100% }\n",
              "    .wandb-col { display: flex; flex-direction: column; flex-basis: 100%; flex: 1; padding: 10px; }\n",
              "    </style>\n",
              "<div class=\"wandb-row\"><div class=\"wandb-col\"><h3>Run history:</h3><br/><table class=\"wandb\"><tr><td>computation time</td><td>█▁▁▁▁▁▇▁▁▁▁▁</td></tr><tr><td>loss_test</td><td>█▁▁▁▁▁▁▁▁▁▁▁</td></tr><tr><td>loss_train</td><td>█▂▂▁▁▁▄▃▂▂▂▂</td></tr><tr><td>step</td><td>▁▂▄▅▇█▁▂▄▅▇█</td></tr></table><br/></div><div class=\"wandb-col\"><h3>Run summary:</h3><br/><table class=\"wandb\"><tr><td>computation time</td><td>0.01511</td></tr><tr><td>loss_test</td><td>0.01035</td></tr><tr><td>loss_train</td><td>0.01247</td></tr><tr><td>step</td><td>499</td></tr></table><br/></div></div>"
            ]
          },
          "metadata": {}
        },
        {
          "output_type": "display_data",
          "data": {
            "text/plain": [
              "<IPython.core.display.HTML object>"
            ],
            "text/html": [
              " View run <strong style=\"color:#cdcd00\">stilted-sweep-5</strong> at: <a href='https://wandb.ai/rene-geist/wandb_cluster_neuralode/runs/jxisy4zn' target=\"_blank\">https://wandb.ai/rene-geist/wandb_cluster_neuralode/runs/jxisy4zn</a><br/>Synced 5 W&B file(s), 0 media file(s), 0 artifact file(s) and 0 other file(s)"
            ]
          },
          "metadata": {}
        },
        {
          "output_type": "display_data",
          "data": {
            "text/plain": [
              "<IPython.core.display.HTML object>"
            ],
            "text/html": [
              "Find logs at: <code>./wandb/run-20230322_163954-jxisy4zn/logs</code>"
            ]
          },
          "metadata": {}
        },
        {
          "output_type": "stream",
          "name": "stderr",
          "text": [
            "\u001b[34m\u001b[1mwandb\u001b[0m: Agent Starting Run: 6w4tdm04 with config:\n",
            "\u001b[34m\u001b[1mwandb\u001b[0m: \tbatch_size: 32\n",
            "\u001b[34m\u001b[1mwandb\u001b[0m: \tdepth: 2\n",
            "\u001b[34m\u001b[1mwandb\u001b[0m: \tlength_strategy: [0.1, 1]\n",
            "\u001b[34m\u001b[1mwandb\u001b[0m: \tlr_strategy: [0.003, 0.003]\n",
            "\u001b[34m\u001b[1mwandb\u001b[0m: \tprint_every: 100\n",
            "\u001b[34m\u001b[1mwandb\u001b[0m: \tseed: 42\n",
            "\u001b[34m\u001b[1mwandb\u001b[0m: \tsteps_strategy: [500, 500]\n",
            "\u001b[34m\u001b[1mwandb\u001b[0m: \twidth_size: 150\n",
            "\u001b[34m\u001b[1mwandb\u001b[0m: \u001b[33mWARNING\u001b[0m Ignored wandb.init() arg project when running a sweep.\n"
          ]
        },
        {
          "output_type": "display_data",
          "data": {
            "text/plain": [
              "<IPython.core.display.HTML object>"
            ],
            "text/html": [
              "Tracking run with wandb version 0.14.0"
            ]
          },
          "metadata": {}
        },
        {
          "output_type": "display_data",
          "data": {
            "text/plain": [
              "<IPython.core.display.HTML object>"
            ],
            "text/html": [
              "Run data is saved locally in <code>/content/wandb/run-20230322_164110-6w4tdm04</code>"
            ]
          },
          "metadata": {}
        },
        {
          "output_type": "display_data",
          "data": {
            "text/plain": [
              "<IPython.core.display.HTML object>"
            ],
            "text/html": [
              "Syncing run <strong><a href='https://wandb.ai/rene-geist/wandb_cluster_neuralode/runs/6w4tdm04' target=\"_blank\">lilac-sweep-6</a></strong> to <a href='https://wandb.ai/rene-geist/wandb_cluster_neuralode' target=\"_blank\">Weights & Biases</a> (<a href='https://wandb.me/run' target=\"_blank\">docs</a>)<br/>Sweep page: <a href='https://wandb.ai/rene-geist/wandb_cluster_neuralode/sweeps/us3tn8wt' target=\"_blank\">https://wandb.ai/rene-geist/wandb_cluster_neuralode/sweeps/us3tn8wt</a>"
            ]
          },
          "metadata": {}
        },
        {
          "output_type": "display_data",
          "data": {
            "text/plain": [
              "<IPython.core.display.HTML object>"
            ],
            "text/html": [
              " View project at <a href='https://wandb.ai/rene-geist/wandb_cluster_neuralode' target=\"_blank\">https://wandb.ai/rene-geist/wandb_cluster_neuralode</a>"
            ]
          },
          "metadata": {}
        },
        {
          "output_type": "display_data",
          "data": {
            "text/plain": [
              "<IPython.core.display.HTML object>"
            ],
            "text/html": [
              " View sweep at <a href='https://wandb.ai/rene-geist/wandb_cluster_neuralode/sweeps/us3tn8wt' target=\"_blank\">https://wandb.ai/rene-geist/wandb_cluster_neuralode/sweeps/us3tn8wt</a>"
            ]
          },
          "metadata": {}
        },
        {
          "output_type": "display_data",
          "data": {
            "text/plain": [
              "<IPython.core.display.HTML object>"
            ],
            "text/html": [
              " View run at <a href='https://wandb.ai/rene-geist/wandb_cluster_neuralode/runs/6w4tdm04' target=\"_blank\">https://wandb.ai/rene-geist/wandb_cluster_neuralode/runs/6w4tdm04</a>"
            ]
          },
          "metadata": {}
        },
        {
          "output_type": "stream",
          "name": "stderr",
          "text": [
            "\u001b[34m\u001b[1mwandb\u001b[0m:   1 of 1 files downloaded.  \n"
          ]
        },
        {
          "output_type": "stream",
          "name": "stdout",
          "text": [
            "Step: 0, Loss: 0.06524918228387833, Computation time: 12.831528186798096\n",
            "Step: 100, Loss: 0.011897136457264423, Computation time: 0.01277017593383789\n",
            "Step: 200, Loss: 0.006140392739325762, Computation time: 0.01655292510986328\n",
            "Step: 300, Loss: 0.0009008643100969493, Computation time: 0.02743077278137207\n",
            "Step: 400, Loss: 0.0006347507005557418, Computation time: 0.016727924346923828\n",
            "Step: 499, Loss: 0.0005457533989101648, Computation time: 0.016835689544677734\n",
            "Step: 0, Loss: 0.025462059304118156, Computation time: 12.298889636993408\n",
            "Step: 100, Loss: 0.003907904494553804, Computation time: 0.09573197364807129\n",
            "Step: 200, Loss: 0.005904551595449448, Computation time: 0.16304850578308105\n",
            "Step: 300, Loss: 0.004640038590878248, Computation time: 0.17379283905029297\n",
            "Step: 400, Loss: 0.0004905553068965673, Computation time: 0.1780834197998047\n",
            "Step: 499, Loss: 0.0007294952520169318, Computation time: 0.16985321044921875\n"
          ]
        },
        {
          "output_type": "display_data",
          "data": {
            "text/plain": [
              "<IPython.core.display.HTML object>"
            ],
            "text/html": [
              "Waiting for W&B process to finish... <strong style=\"color:green\">(success).</strong>"
            ]
          },
          "metadata": {}
        },
        {
          "output_type": "display_data",
          "data": {
            "text/plain": [
              "VBox(children=(Label(value='0.001 MB of 0.001 MB uploaded (0.000 MB deduped)\\r'), FloatProgress(value=1.0, max…"
            ],
            "application/vnd.jupyter.widget-view+json": {
              "version_major": 2,
              "version_minor": 0,
              "model_id": "6de5037a6daf4b748c44e28aa2f99c41"
            }
          },
          "metadata": {}
        },
        {
          "output_type": "display_data",
          "data": {
            "text/plain": [
              "<IPython.core.display.HTML object>"
            ],
            "text/html": [
              "<style>\n",
              "    table.wandb td:nth-child(1) { padding: 0 10px; text-align: left ; width: auto;} td:nth-child(2) {text-align: left ; width: 100%}\n",
              "    .wandb-row { display: flex; flex-direction: row; flex-wrap: wrap; justify-content: flex-start; width: 100% }\n",
              "    .wandb-col { display: flex; flex-direction: column; flex-basis: 100%; flex: 1; padding: 10px; }\n",
              "    </style>\n",
              "<div class=\"wandb-row\"><div class=\"wandb-col\"><h3>Run history:</h3><br/><table class=\"wandb\"><tr><td>computation time</td><td>█▁▁▁▁▁█▁▁▁▁▁</td></tr><tr><td>loss_test</td><td>█▁▁▁▁▁▁▁▁▁▁▁</td></tr><tr><td>loss_train</td><td>█▂▂▁▁▁▄▁▂▁▁▁</td></tr><tr><td>step</td><td>▁▂▄▅▇█▁▂▄▅▇█</td></tr></table><br/></div><div class=\"wandb-col\"><h3>Run summary:</h3><br/><table class=\"wandb\"><tr><td>computation time</td><td>0.16985</td></tr><tr><td>loss_test</td><td>0.00118</td></tr><tr><td>loss_train</td><td>0.00073</td></tr><tr><td>step</td><td>499</td></tr></table><br/></div></div>"
            ]
          },
          "metadata": {}
        },
        {
          "output_type": "display_data",
          "data": {
            "text/plain": [
              "<IPython.core.display.HTML object>"
            ],
            "text/html": [
              " View run <strong style=\"color:#cdcd00\">lilac-sweep-6</strong> at: <a href='https://wandb.ai/rene-geist/wandb_cluster_neuralode/runs/6w4tdm04' target=\"_blank\">https://wandb.ai/rene-geist/wandb_cluster_neuralode/runs/6w4tdm04</a><br/>Synced 5 W&B file(s), 0 media file(s), 0 artifact file(s) and 0 other file(s)"
            ]
          },
          "metadata": {}
        },
        {
          "output_type": "display_data",
          "data": {
            "text/plain": [
              "<IPython.core.display.HTML object>"
            ],
            "text/html": [
              "Find logs at: <code>./wandb/run-20230322_164110-6w4tdm04/logs</code>"
            ]
          },
          "metadata": {}
        },
        {
          "output_type": "stream",
          "name": "stderr",
          "text": [
            "\u001b[34m\u001b[1mwandb\u001b[0m: Agent Starting Run: 1tjwdz06 with config:\n",
            "\u001b[34m\u001b[1mwandb\u001b[0m: \tbatch_size: 32\n",
            "\u001b[34m\u001b[1mwandb\u001b[0m: \tdepth: 2\n",
            "\u001b[34m\u001b[1mwandb\u001b[0m: \tlength_strategy: [0.1, 1]\n",
            "\u001b[34m\u001b[1mwandb\u001b[0m: \tlr_strategy: [0.003, 0.003]\n",
            "\u001b[34m\u001b[1mwandb\u001b[0m: \tprint_every: 100\n",
            "\u001b[34m\u001b[1mwandb\u001b[0m: \tseed: 42\n",
            "\u001b[34m\u001b[1mwandb\u001b[0m: \tsteps_strategy: [500, 500]\n",
            "\u001b[34m\u001b[1mwandb\u001b[0m: \twidth_size: 150\n",
            "\u001b[34m\u001b[1mwandb\u001b[0m: \u001b[33mWARNING\u001b[0m Ignored wandb.init() arg project when running a sweep.\n"
          ]
        },
        {
          "output_type": "display_data",
          "data": {
            "text/plain": [
              "<IPython.core.display.HTML object>"
            ],
            "text/html": [
              "Tracking run with wandb version 0.14.0"
            ]
          },
          "metadata": {}
        },
        {
          "output_type": "display_data",
          "data": {
            "text/plain": [
              "<IPython.core.display.HTML object>"
            ],
            "text/html": [
              "Run data is saved locally in <code>/content/wandb/run-20230322_164307-1tjwdz06</code>"
            ]
          },
          "metadata": {}
        },
        {
          "output_type": "display_data",
          "data": {
            "text/plain": [
              "<IPython.core.display.HTML object>"
            ],
            "text/html": [
              "Syncing run <strong><a href='https://wandb.ai/rene-geist/wandb_cluster_neuralode/runs/1tjwdz06' target=\"_blank\">noble-sweep-7</a></strong> to <a href='https://wandb.ai/rene-geist/wandb_cluster_neuralode' target=\"_blank\">Weights & Biases</a> (<a href='https://wandb.me/run' target=\"_blank\">docs</a>)<br/>Sweep page: <a href='https://wandb.ai/rene-geist/wandb_cluster_neuralode/sweeps/us3tn8wt' target=\"_blank\">https://wandb.ai/rene-geist/wandb_cluster_neuralode/sweeps/us3tn8wt</a>"
            ]
          },
          "metadata": {}
        },
        {
          "output_type": "display_data",
          "data": {
            "text/plain": [
              "<IPython.core.display.HTML object>"
            ],
            "text/html": [
              " View project at <a href='https://wandb.ai/rene-geist/wandb_cluster_neuralode' target=\"_blank\">https://wandb.ai/rene-geist/wandb_cluster_neuralode</a>"
            ]
          },
          "metadata": {}
        },
        {
          "output_type": "display_data",
          "data": {
            "text/plain": [
              "<IPython.core.display.HTML object>"
            ],
            "text/html": [
              " View sweep at <a href='https://wandb.ai/rene-geist/wandb_cluster_neuralode/sweeps/us3tn8wt' target=\"_blank\">https://wandb.ai/rene-geist/wandb_cluster_neuralode/sweeps/us3tn8wt</a>"
            ]
          },
          "metadata": {}
        },
        {
          "output_type": "display_data",
          "data": {
            "text/plain": [
              "<IPython.core.display.HTML object>"
            ],
            "text/html": [
              " View run at <a href='https://wandb.ai/rene-geist/wandb_cluster_neuralode/runs/1tjwdz06' target=\"_blank\">https://wandb.ai/rene-geist/wandb_cluster_neuralode/runs/1tjwdz06</a>"
            ]
          },
          "metadata": {}
        },
        {
          "output_type": "stream",
          "name": "stderr",
          "text": [
            "\u001b[34m\u001b[1mwandb\u001b[0m:   1 of 1 files downloaded.  \n"
          ]
        },
        {
          "output_type": "stream",
          "name": "stdout",
          "text": [
            "Step: 0, Loss: 0.06524918228387833, Computation time: 12.615247249603271\n",
            "Step: 100, Loss: 0.011897136457264423, Computation time: 0.01354217529296875\n",
            "Step: 200, Loss: 0.006140392739325762, Computation time: 0.017592191696166992\n",
            "Step: 300, Loss: 0.0009008643100969493, Computation time: 0.016311168670654297\n",
            "Step: 400, Loss: 0.0006347507005557418, Computation time: 0.016498565673828125\n",
            "Step: 499, Loss: 0.0005457533989101648, Computation time: 0.01659679412841797\n",
            "Step: 0, Loss: 0.025462059304118156, Computation time: 12.184600830078125\n",
            "Step: 100, Loss: 0.003907904494553804, Computation time: 0.12304902076721191\n",
            "Step: 200, Loss: 0.005904551595449448, Computation time: 0.10210776329040527\n",
            "Step: 300, Loss: 0.004640038590878248, Computation time: 0.10882139205932617\n",
            "Step: 400, Loss: 0.0004905553068965673, Computation time: 0.10840916633605957\n",
            "Step: 499, Loss: 0.0007294952520169318, Computation time: 0.10710859298706055\n"
          ]
        },
        {
          "output_type": "display_data",
          "data": {
            "text/plain": [
              "<IPython.core.display.HTML object>"
            ],
            "text/html": [
              "Waiting for W&B process to finish... <strong style=\"color:green\">(success).</strong>"
            ]
          },
          "metadata": {}
        },
        {
          "output_type": "display_data",
          "data": {
            "text/plain": [
              "VBox(children=(Label(value='0.001 MB of 0.001 MB uploaded (0.000 MB deduped)\\r'), FloatProgress(value=1.0, max…"
            ],
            "application/vnd.jupyter.widget-view+json": {
              "version_major": 2,
              "version_minor": 0,
              "model_id": "fde42049c1054335ad5db15b80e5cb91"
            }
          },
          "metadata": {}
        },
        {
          "output_type": "display_data",
          "data": {
            "text/plain": [
              "<IPython.core.display.HTML object>"
            ],
            "text/html": [
              "<style>\n",
              "    table.wandb td:nth-child(1) { padding: 0 10px; text-align: left ; width: auto;} td:nth-child(2) {text-align: left ; width: 100%}\n",
              "    .wandb-row { display: flex; flex-direction: row; flex-wrap: wrap; justify-content: flex-start; width: 100% }\n",
              "    .wandb-col { display: flex; flex-direction: column; flex-basis: 100%; flex: 1; padding: 10px; }\n",
              "    </style>\n",
              "<div class=\"wandb-row\"><div class=\"wandb-col\"><h3>Run history:</h3><br/><table class=\"wandb\"><tr><td>computation time</td><td>█▁▁▁▁▁█▁▁▁▁▁</td></tr><tr><td>loss_test</td><td>█▁▁▁▁▁▁▁▁▁▁▁</td></tr><tr><td>loss_train</td><td>█▂▂▁▁▁▄▁▂▁▁▁</td></tr><tr><td>step</td><td>▁▂▄▅▇█▁▂▄▅▇█</td></tr></table><br/></div><div class=\"wandb-col\"><h3>Run summary:</h3><br/><table class=\"wandb\"><tr><td>computation time</td><td>0.10711</td></tr><tr><td>loss_test</td><td>0.00118</td></tr><tr><td>loss_train</td><td>0.00073</td></tr><tr><td>step</td><td>499</td></tr></table><br/></div></div>"
            ]
          },
          "metadata": {}
        },
        {
          "output_type": "display_data",
          "data": {
            "text/plain": [
              "<IPython.core.display.HTML object>"
            ],
            "text/html": [
              " View run <strong style=\"color:#cdcd00\">noble-sweep-7</strong> at: <a href='https://wandb.ai/rene-geist/wandb_cluster_neuralode/runs/1tjwdz06' target=\"_blank\">https://wandb.ai/rene-geist/wandb_cluster_neuralode/runs/1tjwdz06</a><br/>Synced 5 W&B file(s), 0 media file(s), 0 artifact file(s) and 0 other file(s)"
            ]
          },
          "metadata": {}
        },
        {
          "output_type": "display_data",
          "data": {
            "text/plain": [
              "<IPython.core.display.HTML object>"
            ],
            "text/html": [
              "Find logs at: <code>./wandb/run-20230322_164307-1tjwdz06/logs</code>"
            ]
          },
          "metadata": {}
        },
        {
          "output_type": "stream",
          "name": "stderr",
          "text": [
            "\u001b[34m\u001b[1mwandb\u001b[0m: Agent Starting Run: nc6mgver with config:\n",
            "\u001b[34m\u001b[1mwandb\u001b[0m: \tbatch_size: 32\n",
            "\u001b[34m\u001b[1mwandb\u001b[0m: \tdepth: 2\n",
            "\u001b[34m\u001b[1mwandb\u001b[0m: \tlength_strategy: [0.1, 1]\n",
            "\u001b[34m\u001b[1mwandb\u001b[0m: \tlr_strategy: [0.003, 0.003]\n",
            "\u001b[34m\u001b[1mwandb\u001b[0m: \tprint_every: 100\n",
            "\u001b[34m\u001b[1mwandb\u001b[0m: \tseed: 42\n",
            "\u001b[34m\u001b[1mwandb\u001b[0m: \tsteps_strategy: [500, 500]\n",
            "\u001b[34m\u001b[1mwandb\u001b[0m: \twidth_size: 150\n",
            "\u001b[34m\u001b[1mwandb\u001b[0m: \u001b[33mWARNING\u001b[0m Ignored wandb.init() arg project when running a sweep.\n"
          ]
        },
        {
          "output_type": "display_data",
          "data": {
            "text/plain": [
              "<IPython.core.display.HTML object>"
            ],
            "text/html": [
              "Tracking run with wandb version 0.14.0"
            ]
          },
          "metadata": {}
        },
        {
          "output_type": "display_data",
          "data": {
            "text/plain": [
              "<IPython.core.display.HTML object>"
            ],
            "text/html": [
              "Run data is saved locally in <code>/content/wandb/run-20230322_164502-nc6mgver</code>"
            ]
          },
          "metadata": {}
        },
        {
          "output_type": "display_data",
          "data": {
            "text/plain": [
              "<IPython.core.display.HTML object>"
            ],
            "text/html": [
              "Syncing run <strong><a href='https://wandb.ai/rene-geist/wandb_cluster_neuralode/runs/nc6mgver' target=\"_blank\">sweepy-sweep-8</a></strong> to <a href='https://wandb.ai/rene-geist/wandb_cluster_neuralode' target=\"_blank\">Weights & Biases</a> (<a href='https://wandb.me/run' target=\"_blank\">docs</a>)<br/>Sweep page: <a href='https://wandb.ai/rene-geist/wandb_cluster_neuralode/sweeps/us3tn8wt' target=\"_blank\">https://wandb.ai/rene-geist/wandb_cluster_neuralode/sweeps/us3tn8wt</a>"
            ]
          },
          "metadata": {}
        },
        {
          "output_type": "display_data",
          "data": {
            "text/plain": [
              "<IPython.core.display.HTML object>"
            ],
            "text/html": [
              " View project at <a href='https://wandb.ai/rene-geist/wandb_cluster_neuralode' target=\"_blank\">https://wandb.ai/rene-geist/wandb_cluster_neuralode</a>"
            ]
          },
          "metadata": {}
        },
        {
          "output_type": "display_data",
          "data": {
            "text/plain": [
              "<IPython.core.display.HTML object>"
            ],
            "text/html": [
              " View sweep at <a href='https://wandb.ai/rene-geist/wandb_cluster_neuralode/sweeps/us3tn8wt' target=\"_blank\">https://wandb.ai/rene-geist/wandb_cluster_neuralode/sweeps/us3tn8wt</a>"
            ]
          },
          "metadata": {}
        },
        {
          "output_type": "display_data",
          "data": {
            "text/plain": [
              "<IPython.core.display.HTML object>"
            ],
            "text/html": [
              " View run at <a href='https://wandb.ai/rene-geist/wandb_cluster_neuralode/runs/nc6mgver' target=\"_blank\">https://wandb.ai/rene-geist/wandb_cluster_neuralode/runs/nc6mgver</a>"
            ]
          },
          "metadata": {}
        },
        {
          "output_type": "stream",
          "name": "stderr",
          "text": [
            "\u001b[34m\u001b[1mwandb\u001b[0m:   1 of 1 files downloaded.  \n"
          ]
        },
        {
          "output_type": "stream",
          "name": "stdout",
          "text": [
            "Step: 0, Loss: 0.06524918228387833, Computation time: 12.56035041809082\n",
            "Step: 100, Loss: 0.011897136457264423, Computation time: 0.013067483901977539\n",
            "Step: 200, Loss: 0.006140392739325762, Computation time: 0.026799917221069336\n",
            "Step: 300, Loss: 0.0009008643100969493, Computation time: 0.01639533042907715\n",
            "Step: 400, Loss: 0.0006347507005557418, Computation time: 0.016874313354492188\n",
            "Step: 499, Loss: 0.0005457533989101648, Computation time: 0.01636528968811035\n",
            "Step: 0, Loss: 0.025462059304118156, Computation time: 12.1502046585083\n",
            "Step: 100, Loss: 0.003907904494553804, Computation time: 0.09461712837219238\n",
            "Step: 200, Loss: 0.005904551595449448, Computation time: 0.10222315788269043\n",
            "Step: 300, Loss: 0.004640038590878248, Computation time: 0.10666632652282715\n",
            "Step: 400, Loss: 0.0004905553068965673, Computation time: 0.1066126823425293\n",
            "Step: 499, Loss: 0.0007294952520169318, Computation time: 0.17625951766967773\n"
          ]
        },
        {
          "output_type": "display_data",
          "data": {
            "text/plain": [
              "<IPython.core.display.HTML object>"
            ],
            "text/html": [
              "Waiting for W&B process to finish... <strong style=\"color:green\">(success).</strong>"
            ]
          },
          "metadata": {}
        },
        {
          "output_type": "display_data",
          "data": {
            "text/plain": [
              "<IPython.core.display.HTML object>"
            ],
            "text/html": [
              "<style>\n",
              "    table.wandb td:nth-child(1) { padding: 0 10px; text-align: left ; width: auto;} td:nth-child(2) {text-align: left ; width: 100%}\n",
              "    .wandb-row { display: flex; flex-direction: row; flex-wrap: wrap; justify-content: flex-start; width: 100% }\n",
              "    .wandb-col { display: flex; flex-direction: column; flex-basis: 100%; flex: 1; padding: 10px; }\n",
              "    </style>\n",
              "<div class=\"wandb-row\"><div class=\"wandb-col\"><h3>Run history:</h3><br/><table class=\"wandb\"><tr><td>computation time</td><td>█▁▁▁▁▁█▁▁▁▁▁</td></tr><tr><td>loss_test</td><td>█▁▁▁▁▁▁▁▁▁▁▁</td></tr><tr><td>loss_train</td><td>█▂▂▁▁▁▄▁▂▁▁▁</td></tr><tr><td>step</td><td>▁▂▄▅▇█▁▂▄▅▇█</td></tr></table><br/></div><div class=\"wandb-col\"><h3>Run summary:</h3><br/><table class=\"wandb\"><tr><td>computation time</td><td>0.17626</td></tr><tr><td>loss_test</td><td>0.00118</td></tr><tr><td>loss_train</td><td>0.00073</td></tr><tr><td>step</td><td>499</td></tr></table><br/></div></div>"
            ]
          },
          "metadata": {}
        },
        {
          "output_type": "display_data",
          "data": {
            "text/plain": [
              "<IPython.core.display.HTML object>"
            ],
            "text/html": [
              " View run <strong style=\"color:#cdcd00\">sweepy-sweep-8</strong> at: <a href='https://wandb.ai/rene-geist/wandb_cluster_neuralode/runs/nc6mgver' target=\"_blank\">https://wandb.ai/rene-geist/wandb_cluster_neuralode/runs/nc6mgver</a><br/>Synced 5 W&B file(s), 0 media file(s), 0 artifact file(s) and 0 other file(s)"
            ]
          },
          "metadata": {}
        },
        {
          "output_type": "display_data",
          "data": {
            "text/plain": [
              "<IPython.core.display.HTML object>"
            ],
            "text/html": [
              "Find logs at: <code>./wandb/run-20230322_164502-nc6mgver/logs</code>"
            ]
          },
          "metadata": {}
        },
        {
          "output_type": "stream",
          "name": "stderr",
          "text": [
            "\u001b[34m\u001b[1mwandb\u001b[0m: Agent Starting Run: kv26na9l with config:\n",
            "\u001b[34m\u001b[1mwandb\u001b[0m: \tbatch_size: 32\n",
            "\u001b[34m\u001b[1mwandb\u001b[0m: \tdepth: 3\n",
            "\u001b[34m\u001b[1mwandb\u001b[0m: \tlength_strategy: [0.1, 1]\n",
            "\u001b[34m\u001b[1mwandb\u001b[0m: \tlr_strategy: [0.003, 0.003]\n",
            "\u001b[34m\u001b[1mwandb\u001b[0m: \tprint_every: 100\n",
            "\u001b[34m\u001b[1mwandb\u001b[0m: \tseed: 42\n",
            "\u001b[34m\u001b[1mwandb\u001b[0m: \tsteps_strategy: [500, 500]\n",
            "\u001b[34m\u001b[1mwandb\u001b[0m: \twidth_size: 64\n",
            "\u001b[34m\u001b[1mwandb\u001b[0m: \u001b[33mWARNING\u001b[0m Ignored wandb.init() arg project when running a sweep.\n"
          ]
        },
        {
          "output_type": "display_data",
          "data": {
            "text/plain": [
              "<IPython.core.display.HTML object>"
            ],
            "text/html": [
              "Tracking run with wandb version 0.14.0"
            ]
          },
          "metadata": {}
        },
        {
          "output_type": "display_data",
          "data": {
            "text/plain": [
              "<IPython.core.display.HTML object>"
            ],
            "text/html": [
              "Run data is saved locally in <code>/content/wandb/run-20230322_164700-kv26na9l</code>"
            ]
          },
          "metadata": {}
        },
        {
          "output_type": "display_data",
          "data": {
            "text/plain": [
              "<IPython.core.display.HTML object>"
            ],
            "text/html": [
              "Syncing run <strong><a href='https://wandb.ai/rene-geist/wandb_cluster_neuralode/runs/kv26na9l' target=\"_blank\">legendary-sweep-9</a></strong> to <a href='https://wandb.ai/rene-geist/wandb_cluster_neuralode' target=\"_blank\">Weights & Biases</a> (<a href='https://wandb.me/run' target=\"_blank\">docs</a>)<br/>Sweep page: <a href='https://wandb.ai/rene-geist/wandb_cluster_neuralode/sweeps/us3tn8wt' target=\"_blank\">https://wandb.ai/rene-geist/wandb_cluster_neuralode/sweeps/us3tn8wt</a>"
            ]
          },
          "metadata": {}
        },
        {
          "output_type": "display_data",
          "data": {
            "text/plain": [
              "<IPython.core.display.HTML object>"
            ],
            "text/html": [
              " View project at <a href='https://wandb.ai/rene-geist/wandb_cluster_neuralode' target=\"_blank\">https://wandb.ai/rene-geist/wandb_cluster_neuralode</a>"
            ]
          },
          "metadata": {}
        },
        {
          "output_type": "display_data",
          "data": {
            "text/plain": [
              "<IPython.core.display.HTML object>"
            ],
            "text/html": [
              " View sweep at <a href='https://wandb.ai/rene-geist/wandb_cluster_neuralode/sweeps/us3tn8wt' target=\"_blank\">https://wandb.ai/rene-geist/wandb_cluster_neuralode/sweeps/us3tn8wt</a>"
            ]
          },
          "metadata": {}
        },
        {
          "output_type": "display_data",
          "data": {
            "text/plain": [
              "<IPython.core.display.HTML object>"
            ],
            "text/html": [
              " View run at <a href='https://wandb.ai/rene-geist/wandb_cluster_neuralode/runs/kv26na9l' target=\"_blank\">https://wandb.ai/rene-geist/wandb_cluster_neuralode/runs/kv26na9l</a>"
            ]
          },
          "metadata": {}
        },
        {
          "output_type": "stream",
          "name": "stderr",
          "text": [
            "\u001b[34m\u001b[1mwandb\u001b[0m:   1 of 1 files downloaded.  \n"
          ]
        },
        {
          "output_type": "stream",
          "name": "stdout",
          "text": [
            "Step: 0, Loss: 0.06317592412233353, Computation time: 16.472474336624146\n",
            "Step: 100, Loss: 0.007824818603694439, Computation time: 0.006460666656494141\n",
            "Step: 200, Loss: 0.003035200061276555, Computation time: 0.012872695922851562\n",
            "Step: 300, Loss: 0.0005349136190488935, Computation time: 0.008085489273071289\n",
            "Step: 400, Loss: 0.00015244490350596607, Computation time: 0.008014440536499023\n",
            "Step: 499, Loss: 0.00046238559298217297, Computation time: 0.008188009262084961\n",
            "Step: 0, Loss: 0.04044495150446892, Computation time: 16.08171558380127\n",
            "Step: 100, Loss: 0.00717288488522172, Computation time: 0.07592296600341797\n",
            "Step: 200, Loss: 0.003122155088931322, Computation time: 0.05110931396484375\n",
            "Step: 300, Loss: 0.006925210822373629, Computation time: 0.09041118621826172\n",
            "Step: 400, Loss: 0.0005940109258517623, Computation time: 0.051848411560058594\n",
            "Step: 499, Loss: 0.0009731792379170656, Computation time: 0.08678650856018066\n"
          ]
        },
        {
          "output_type": "display_data",
          "data": {
            "text/plain": [
              "<IPython.core.display.HTML object>"
            ],
            "text/html": [
              "Waiting for W&B process to finish... <strong style=\"color:green\">(success).</strong>"
            ]
          },
          "metadata": {}
        },
        {
          "output_type": "display_data",
          "data": {
            "text/plain": [
              "<IPython.core.display.HTML object>"
            ],
            "text/html": [
              "<style>\n",
              "    table.wandb td:nth-child(1) { padding: 0 10px; text-align: left ; width: auto;} td:nth-child(2) {text-align: left ; width: 100%}\n",
              "    .wandb-row { display: flex; flex-direction: row; flex-wrap: wrap; justify-content: flex-start; width: 100% }\n",
              "    .wandb-col { display: flex; flex-direction: column; flex-basis: 100%; flex: 1; padding: 10px; }\n",
              "    </style>\n",
              "<div class=\"wandb-row\"><div class=\"wandb-col\"><h3>Run history:</h3><br/><table class=\"wandb\"><tr><td>computation time</td><td>█▁▁▁▁▁█▁▁▁▁▁</td></tr><tr><td>loss_test</td><td>█▁▁▁▁▁▂▁▁▁▁▁</td></tr><tr><td>loss_train</td><td>█▂▁▁▁▁▅▂▁▂▁▁</td></tr><tr><td>step</td><td>▁▂▄▅▇█▁▂▄▅▇█</td></tr></table><br/></div><div class=\"wandb-col\"><h3>Run summary:</h3><br/><table class=\"wandb\"><tr><td>computation time</td><td>0.08679</td></tr><tr><td>loss_test</td><td>0.00205</td></tr><tr><td>loss_train</td><td>0.00097</td></tr><tr><td>step</td><td>499</td></tr></table><br/></div></div>"
            ]
          },
          "metadata": {}
        },
        {
          "output_type": "display_data",
          "data": {
            "text/plain": [
              "<IPython.core.display.HTML object>"
            ],
            "text/html": [
              " View run <strong style=\"color:#cdcd00\">legendary-sweep-9</strong> at: <a href='https://wandb.ai/rene-geist/wandb_cluster_neuralode/runs/kv26na9l' target=\"_blank\">https://wandb.ai/rene-geist/wandb_cluster_neuralode/runs/kv26na9l</a><br/>Synced 5 W&B file(s), 0 media file(s), 0 artifact file(s) and 0 other file(s)"
            ]
          },
          "metadata": {}
        },
        {
          "output_type": "display_data",
          "data": {
            "text/plain": [
              "<IPython.core.display.HTML object>"
            ],
            "text/html": [
              "Find logs at: <code>./wandb/run-20230322_164700-kv26na9l/logs</code>"
            ]
          },
          "metadata": {}
        },
        {
          "output_type": "stream",
          "name": "stderr",
          "text": [
            "\u001b[34m\u001b[1mwandb\u001b[0m: Agent Starting Run: ck0f9atq with config:\n",
            "\u001b[34m\u001b[1mwandb\u001b[0m: \tbatch_size: 32\n",
            "\u001b[34m\u001b[1mwandb\u001b[0m: \tdepth: 2\n",
            "\u001b[34m\u001b[1mwandb\u001b[0m: \tlength_strategy: [0.1, 1]\n",
            "\u001b[34m\u001b[1mwandb\u001b[0m: \tlr_strategy: [0.003, 0.003]\n",
            "\u001b[34m\u001b[1mwandb\u001b[0m: \tprint_every: 100\n",
            "\u001b[34m\u001b[1mwandb\u001b[0m: \tseed: 42\n",
            "\u001b[34m\u001b[1mwandb\u001b[0m: \tsteps_strategy: [500, 500]\n",
            "\u001b[34m\u001b[1mwandb\u001b[0m: \twidth_size: 20\n",
            "\u001b[34m\u001b[1mwandb\u001b[0m: \u001b[33mWARNING\u001b[0m Ignored wandb.init() arg project when running a sweep.\n"
          ]
        },
        {
          "output_type": "display_data",
          "data": {
            "text/plain": [
              "<IPython.core.display.HTML object>"
            ],
            "text/html": [
              "Tracking run with wandb version 0.14.0"
            ]
          },
          "metadata": {}
        },
        {
          "output_type": "display_data",
          "data": {
            "text/plain": [
              "<IPython.core.display.HTML object>"
            ],
            "text/html": [
              "Run data is saved locally in <code>/content/wandb/run-20230322_164843-ck0f9atq</code>"
            ]
          },
          "metadata": {}
        },
        {
          "output_type": "display_data",
          "data": {
            "text/plain": [
              "<IPython.core.display.HTML object>"
            ],
            "text/html": [
              "Syncing run <strong><a href='https://wandb.ai/rene-geist/wandb_cluster_neuralode/runs/ck0f9atq' target=\"_blank\">morning-sweep-10</a></strong> to <a href='https://wandb.ai/rene-geist/wandb_cluster_neuralode' target=\"_blank\">Weights & Biases</a> (<a href='https://wandb.me/run' target=\"_blank\">docs</a>)<br/>Sweep page: <a href='https://wandb.ai/rene-geist/wandb_cluster_neuralode/sweeps/us3tn8wt' target=\"_blank\">https://wandb.ai/rene-geist/wandb_cluster_neuralode/sweeps/us3tn8wt</a>"
            ]
          },
          "metadata": {}
        },
        {
          "output_type": "display_data",
          "data": {
            "text/plain": [
              "<IPython.core.display.HTML object>"
            ],
            "text/html": [
              " View project at <a href='https://wandb.ai/rene-geist/wandb_cluster_neuralode' target=\"_blank\">https://wandb.ai/rene-geist/wandb_cluster_neuralode</a>"
            ]
          },
          "metadata": {}
        },
        {
          "output_type": "display_data",
          "data": {
            "text/plain": [
              "<IPython.core.display.HTML object>"
            ],
            "text/html": [
              " View sweep at <a href='https://wandb.ai/rene-geist/wandb_cluster_neuralode/sweeps/us3tn8wt' target=\"_blank\">https://wandb.ai/rene-geist/wandb_cluster_neuralode/sweeps/us3tn8wt</a>"
            ]
          },
          "metadata": {}
        },
        {
          "output_type": "display_data",
          "data": {
            "text/plain": [
              "<IPython.core.display.HTML object>"
            ],
            "text/html": [
              " View run at <a href='https://wandb.ai/rene-geist/wandb_cluster_neuralode/runs/ck0f9atq' target=\"_blank\">https://wandb.ai/rene-geist/wandb_cluster_neuralode/runs/ck0f9atq</a>"
            ]
          },
          "metadata": {}
        },
        {
          "output_type": "stream",
          "name": "stderr",
          "text": [
            "\u001b[34m\u001b[1mwandb\u001b[0m:   1 of 1 files downloaded.  \n"
          ]
        },
        {
          "output_type": "stream",
          "name": "stdout",
          "text": [
            "Step: 0, Loss: 0.15245793759822845, Computation time: 19.079686880111694\n",
            "Step: 100, Loss: 0.01665269397199154, Computation time: 0.0030117034912109375\n",
            "Step: 200, Loss: 0.007385714445263147, Computation time: 0.0023856163024902344\n",
            "Step: 300, Loss: 0.0017961787525564432, Computation time: 0.002489805221557617\n",
            "Step: 400, Loss: 0.0008132901857607067, Computation time: 0.003305673599243164\n",
            "Step: 499, Loss: 0.0010794280096888542, Computation time: 0.0028791427612304688\n",
            "Step: 0, Loss: 0.01662066951394081, Computation time: 16.153714418411255\n",
            "Step: 100, Loss: 0.010402476415038109, Computation time: 0.020516633987426758\n",
            "Step: 200, Loss: 0.005784120410680771, Computation time: 0.02380084991455078\n",
            "Step: 300, Loss: 0.002810853300616145, Computation time: 0.02010798454284668\n",
            "Step: 400, Loss: 0.002062638755887747, Computation time: 0.021400928497314453\n",
            "Step: 499, Loss: 0.002252595964819193, Computation time: 0.03543734550476074\n"
          ]
        },
        {
          "output_type": "display_data",
          "data": {
            "text/plain": [
              "<IPython.core.display.HTML object>"
            ],
            "text/html": [
              "Waiting for W&B process to finish... <strong style=\"color:green\">(success).</strong>"
            ]
          },
          "metadata": {}
        },
        {
          "output_type": "display_data",
          "data": {
            "text/plain": [
              "<IPython.core.display.HTML object>"
            ],
            "text/html": [
              "<style>\n",
              "    table.wandb td:nth-child(1) { padding: 0 10px; text-align: left ; width: auto;} td:nth-child(2) {text-align: left ; width: 100%}\n",
              "    .wandb-row { display: flex; flex-direction: row; flex-wrap: wrap; justify-content: flex-start; width: 100% }\n",
              "    .wandb-col { display: flex; flex-direction: column; flex-basis: 100%; flex: 1; padding: 10px; }\n",
              "    </style>\n",
              "<div class=\"wandb-row\"><div class=\"wandb-col\"><h3>Run history:</h3><br/><table class=\"wandb\"><tr><td>computation time</td><td>█▁▁▁▁▁▇▁▁▁▁▁</td></tr><tr><td>loss_test</td><td>█▁▁▁▁▁▁▁▁▁▁▁</td></tr><tr><td>loss_train</td><td>█▂▁▁▁▁▂▁▁▁▁▁</td></tr><tr><td>step</td><td>▁▂▄▅▇█▁▂▄▅▇█</td></tr></table><br/></div><div class=\"wandb-col\"><h3>Run summary:</h3><br/><table class=\"wandb\"><tr><td>computation time</td><td>0.03544</td></tr><tr><td>loss_test</td><td>0.00196</td></tr><tr><td>loss_train</td><td>0.00225</td></tr><tr><td>step</td><td>499</td></tr></table><br/></div></div>"
            ]
          },
          "metadata": {}
        },
        {
          "output_type": "display_data",
          "data": {
            "text/plain": [
              "<IPython.core.display.HTML object>"
            ],
            "text/html": [
              " View run <strong style=\"color:#cdcd00\">morning-sweep-10</strong> at: <a href='https://wandb.ai/rene-geist/wandb_cluster_neuralode/runs/ck0f9atq' target=\"_blank\">https://wandb.ai/rene-geist/wandb_cluster_neuralode/runs/ck0f9atq</a><br/>Synced 5 W&B file(s), 0 media file(s), 0 artifact file(s) and 0 other file(s)"
            ]
          },
          "metadata": {}
        },
        {
          "output_type": "display_data",
          "data": {
            "text/plain": [
              "<IPython.core.display.HTML object>"
            ],
            "text/html": [
              "Find logs at: <code>./wandb/run-20230322_164843-ck0f9atq/logs</code>"
            ]
          },
          "metadata": {}
        }
      ]
    }
  ],
  "metadata": {
    "kernelspec": {
      "display_name": "Python 3",
      "language": "python",
      "name": "python3"
    },
    "language_info": {
      "codemirror_mode": {
        "name": "ipython",
        "version": 2
      },
      "file_extension": ".py",
      "mimetype": "text/x-python",
      "name": "python",
      "nbconvert_exporter": "python",
      "pygments_lexer": "ipython2",
      "version": "2.7.6"
    },
    "colab": {
      "provenance": []
    },
    "accelerator": "GPU",
    "gpuClass": "standard",
    "widgets": {
      "application/vnd.jupyter.widget-state+json": {
        "1fcf798c1cbf4d018faa06c575117b13": {
          "model_module": "@jupyter-widgets/controls",
          "model_name": "VBoxModel",
          "model_module_version": "1.5.0",
          "state": {
            "_dom_classes": [],
            "_model_module": "@jupyter-widgets/controls",
            "_model_module_version": "1.5.0",
            "_model_name": "VBoxModel",
            "_view_count": null,
            "_view_module": "@jupyter-widgets/controls",
            "_view_module_version": "1.5.0",
            "_view_name": "VBoxView",
            "box_style": "",
            "children": [
              "IPY_MODEL_c630da4488cb4ea9aebf49b77397983f",
              "IPY_MODEL_827675d968ce49b1a44aa0e8844e5a55"
            ],
            "layout": "IPY_MODEL_685a3d3f5fb04eaea201432fe2d157b4"
          }
        },
        "c630da4488cb4ea9aebf49b77397983f": {
          "model_module": "@jupyter-widgets/controls",
          "model_name": "LabelModel",
          "model_module_version": "1.5.0",
          "state": {
            "_dom_classes": [],
            "_model_module": "@jupyter-widgets/controls",
            "_model_module_version": "1.5.0",
            "_model_name": "LabelModel",
            "_view_count": null,
            "_view_module": "@jupyter-widgets/controls",
            "_view_module_version": "1.5.0",
            "_view_name": "LabelView",
            "description": "",
            "description_tooltip": null,
            "layout": "IPY_MODEL_81befd49caff4859b1b65e73a09d1047",
            "placeholder": "​",
            "style": "IPY_MODEL_b64ebca804a449b887a5e3930dd805b0",
            "value": "0.001 MB of 0.009 MB uploaded (0.000 MB deduped)\r"
          }
        },
        "827675d968ce49b1a44aa0e8844e5a55": {
          "model_module": "@jupyter-widgets/controls",
          "model_name": "FloatProgressModel",
          "model_module_version": "1.5.0",
          "state": {
            "_dom_classes": [],
            "_model_module": "@jupyter-widgets/controls",
            "_model_module_version": "1.5.0",
            "_model_name": "FloatProgressModel",
            "_view_count": null,
            "_view_module": "@jupyter-widgets/controls",
            "_view_module_version": "1.5.0",
            "_view_name": "ProgressView",
            "bar_style": "",
            "description": "",
            "description_tooltip": null,
            "layout": "IPY_MODEL_882d109669f148faa0487876856b46fd",
            "max": 1,
            "min": 0,
            "orientation": "horizontal",
            "style": "IPY_MODEL_55ce2d48a5ac4a13985921819e9413b5",
            "value": 0.10844109561144487
          }
        },
        "685a3d3f5fb04eaea201432fe2d157b4": {
          "model_module": "@jupyter-widgets/base",
          "model_name": "LayoutModel",
          "model_module_version": "1.2.0",
          "state": {
            "_model_module": "@jupyter-widgets/base",
            "_model_module_version": "1.2.0",
            "_model_name": "LayoutModel",
            "_view_count": null,
            "_view_module": "@jupyter-widgets/base",
            "_view_module_version": "1.2.0",
            "_view_name": "LayoutView",
            "align_content": null,
            "align_items": null,
            "align_self": null,
            "border": null,
            "bottom": null,
            "display": null,
            "flex": null,
            "flex_flow": null,
            "grid_area": null,
            "grid_auto_columns": null,
            "grid_auto_flow": null,
            "grid_auto_rows": null,
            "grid_column": null,
            "grid_gap": null,
            "grid_row": null,
            "grid_template_areas": null,
            "grid_template_columns": null,
            "grid_template_rows": null,
            "height": null,
            "justify_content": null,
            "justify_items": null,
            "left": null,
            "margin": null,
            "max_height": null,
            "max_width": null,
            "min_height": null,
            "min_width": null,
            "object_fit": null,
            "object_position": null,
            "order": null,
            "overflow": null,
            "overflow_x": null,
            "overflow_y": null,
            "padding": null,
            "right": null,
            "top": null,
            "visibility": null,
            "width": null
          }
        },
        "81befd49caff4859b1b65e73a09d1047": {
          "model_module": "@jupyter-widgets/base",
          "model_name": "LayoutModel",
          "model_module_version": "1.2.0",
          "state": {
            "_model_module": "@jupyter-widgets/base",
            "_model_module_version": "1.2.0",
            "_model_name": "LayoutModel",
            "_view_count": null,
            "_view_module": "@jupyter-widgets/base",
            "_view_module_version": "1.2.0",
            "_view_name": "LayoutView",
            "align_content": null,
            "align_items": null,
            "align_self": null,
            "border": null,
            "bottom": null,
            "display": null,
            "flex": null,
            "flex_flow": null,
            "grid_area": null,
            "grid_auto_columns": null,
            "grid_auto_flow": null,
            "grid_auto_rows": null,
            "grid_column": null,
            "grid_gap": null,
            "grid_row": null,
            "grid_template_areas": null,
            "grid_template_columns": null,
            "grid_template_rows": null,
            "height": null,
            "justify_content": null,
            "justify_items": null,
            "left": null,
            "margin": null,
            "max_height": null,
            "max_width": null,
            "min_height": null,
            "min_width": null,
            "object_fit": null,
            "object_position": null,
            "order": null,
            "overflow": null,
            "overflow_x": null,
            "overflow_y": null,
            "padding": null,
            "right": null,
            "top": null,
            "visibility": null,
            "width": null
          }
        },
        "b64ebca804a449b887a5e3930dd805b0": {
          "model_module": "@jupyter-widgets/controls",
          "model_name": "DescriptionStyleModel",
          "model_module_version": "1.5.0",
          "state": {
            "_model_module": "@jupyter-widgets/controls",
            "_model_module_version": "1.5.0",
            "_model_name": "DescriptionStyleModel",
            "_view_count": null,
            "_view_module": "@jupyter-widgets/base",
            "_view_module_version": "1.2.0",
            "_view_name": "StyleView",
            "description_width": ""
          }
        },
        "882d109669f148faa0487876856b46fd": {
          "model_module": "@jupyter-widgets/base",
          "model_name": "LayoutModel",
          "model_module_version": "1.2.0",
          "state": {
            "_model_module": "@jupyter-widgets/base",
            "_model_module_version": "1.2.0",
            "_model_name": "LayoutModel",
            "_view_count": null,
            "_view_module": "@jupyter-widgets/base",
            "_view_module_version": "1.2.0",
            "_view_name": "LayoutView",
            "align_content": null,
            "align_items": null,
            "align_self": null,
            "border": null,
            "bottom": null,
            "display": null,
            "flex": null,
            "flex_flow": null,
            "grid_area": null,
            "grid_auto_columns": null,
            "grid_auto_flow": null,
            "grid_auto_rows": null,
            "grid_column": null,
            "grid_gap": null,
            "grid_row": null,
            "grid_template_areas": null,
            "grid_template_columns": null,
            "grid_template_rows": null,
            "height": null,
            "justify_content": null,
            "justify_items": null,
            "left": null,
            "margin": null,
            "max_height": null,
            "max_width": null,
            "min_height": null,
            "min_width": null,
            "object_fit": null,
            "object_position": null,
            "order": null,
            "overflow": null,
            "overflow_x": null,
            "overflow_y": null,
            "padding": null,
            "right": null,
            "top": null,
            "visibility": null,
            "width": null
          }
        },
        "55ce2d48a5ac4a13985921819e9413b5": {
          "model_module": "@jupyter-widgets/controls",
          "model_name": "ProgressStyleModel",
          "model_module_version": "1.5.0",
          "state": {
            "_model_module": "@jupyter-widgets/controls",
            "_model_module_version": "1.5.0",
            "_model_name": "ProgressStyleModel",
            "_view_count": null,
            "_view_module": "@jupyter-widgets/base",
            "_view_module_version": "1.2.0",
            "_view_name": "StyleView",
            "bar_color": null,
            "description_width": ""
          }
        },
        "6036ff9bf8544e83a8f6d7380f05e9f1": {
          "model_module": "@jupyter-widgets/controls",
          "model_name": "VBoxModel",
          "model_module_version": "1.5.0",
          "state": {
            "_dom_classes": [],
            "_model_module": "@jupyter-widgets/controls",
            "_model_module_version": "1.5.0",
            "_model_name": "VBoxModel",
            "_view_count": null,
            "_view_module": "@jupyter-widgets/controls",
            "_view_module_version": "1.5.0",
            "_view_name": "VBoxView",
            "box_style": "",
            "children": [
              "IPY_MODEL_dd18c1fa140345688908d75710d37329",
              "IPY_MODEL_ade76fac5c99403c965a363eae152c97"
            ],
            "layout": "IPY_MODEL_9c120cb151d04db8a0112e9c491afb1e"
          }
        },
        "dd18c1fa140345688908d75710d37329": {
          "model_module": "@jupyter-widgets/controls",
          "model_name": "LabelModel",
          "model_module_version": "1.5.0",
          "state": {
            "_dom_classes": [],
            "_model_module": "@jupyter-widgets/controls",
            "_model_module_version": "1.5.0",
            "_model_name": "LabelModel",
            "_view_count": null,
            "_view_module": "@jupyter-widgets/controls",
            "_view_module_version": "1.5.0",
            "_view_name": "LabelView",
            "description": "",
            "description_tooltip": null,
            "layout": "IPY_MODEL_86cfe1178c504b1590c6d3cdbc4c06ff",
            "placeholder": "​",
            "style": "IPY_MODEL_9c3c4c66b8324f07a5dd8fd547f3e41b",
            "value": "0.001 MB of 0.010 MB uploaded (0.000 MB deduped)\r"
          }
        },
        "ade76fac5c99403c965a363eae152c97": {
          "model_module": "@jupyter-widgets/controls",
          "model_name": "FloatProgressModel",
          "model_module_version": "1.5.0",
          "state": {
            "_dom_classes": [],
            "_model_module": "@jupyter-widgets/controls",
            "_model_module_version": "1.5.0",
            "_model_name": "FloatProgressModel",
            "_view_count": null,
            "_view_module": "@jupyter-widgets/controls",
            "_view_module_version": "1.5.0",
            "_view_name": "ProgressView",
            "bar_style": "",
            "description": "",
            "description_tooltip": null,
            "layout": "IPY_MODEL_bf775e6bf71c4e549273d4282f4777f0",
            "max": 1,
            "min": 0,
            "orientation": "horizontal",
            "style": "IPY_MODEL_ed32d02d7a8c4fa897786766e6d13a0a",
            "value": 0.10119612682741598
          }
        },
        "9c120cb151d04db8a0112e9c491afb1e": {
          "model_module": "@jupyter-widgets/base",
          "model_name": "LayoutModel",
          "model_module_version": "1.2.0",
          "state": {
            "_model_module": "@jupyter-widgets/base",
            "_model_module_version": "1.2.0",
            "_model_name": "LayoutModel",
            "_view_count": null,
            "_view_module": "@jupyter-widgets/base",
            "_view_module_version": "1.2.0",
            "_view_name": "LayoutView",
            "align_content": null,
            "align_items": null,
            "align_self": null,
            "border": null,
            "bottom": null,
            "display": null,
            "flex": null,
            "flex_flow": null,
            "grid_area": null,
            "grid_auto_columns": null,
            "grid_auto_flow": null,
            "grid_auto_rows": null,
            "grid_column": null,
            "grid_gap": null,
            "grid_row": null,
            "grid_template_areas": null,
            "grid_template_columns": null,
            "grid_template_rows": null,
            "height": null,
            "justify_content": null,
            "justify_items": null,
            "left": null,
            "margin": null,
            "max_height": null,
            "max_width": null,
            "min_height": null,
            "min_width": null,
            "object_fit": null,
            "object_position": null,
            "order": null,
            "overflow": null,
            "overflow_x": null,
            "overflow_y": null,
            "padding": null,
            "right": null,
            "top": null,
            "visibility": null,
            "width": null
          }
        },
        "86cfe1178c504b1590c6d3cdbc4c06ff": {
          "model_module": "@jupyter-widgets/base",
          "model_name": "LayoutModel",
          "model_module_version": "1.2.0",
          "state": {
            "_model_module": "@jupyter-widgets/base",
            "_model_module_version": "1.2.0",
            "_model_name": "LayoutModel",
            "_view_count": null,
            "_view_module": "@jupyter-widgets/base",
            "_view_module_version": "1.2.0",
            "_view_name": "LayoutView",
            "align_content": null,
            "align_items": null,
            "align_self": null,
            "border": null,
            "bottom": null,
            "display": null,
            "flex": null,
            "flex_flow": null,
            "grid_area": null,
            "grid_auto_columns": null,
            "grid_auto_flow": null,
            "grid_auto_rows": null,
            "grid_column": null,
            "grid_gap": null,
            "grid_row": null,
            "grid_template_areas": null,
            "grid_template_columns": null,
            "grid_template_rows": null,
            "height": null,
            "justify_content": null,
            "justify_items": null,
            "left": null,
            "margin": null,
            "max_height": null,
            "max_width": null,
            "min_height": null,
            "min_width": null,
            "object_fit": null,
            "object_position": null,
            "order": null,
            "overflow": null,
            "overflow_x": null,
            "overflow_y": null,
            "padding": null,
            "right": null,
            "top": null,
            "visibility": null,
            "width": null
          }
        },
        "9c3c4c66b8324f07a5dd8fd547f3e41b": {
          "model_module": "@jupyter-widgets/controls",
          "model_name": "DescriptionStyleModel",
          "model_module_version": "1.5.0",
          "state": {
            "_model_module": "@jupyter-widgets/controls",
            "_model_module_version": "1.5.0",
            "_model_name": "DescriptionStyleModel",
            "_view_count": null,
            "_view_module": "@jupyter-widgets/base",
            "_view_module_version": "1.2.0",
            "_view_name": "StyleView",
            "description_width": ""
          }
        },
        "bf775e6bf71c4e549273d4282f4777f0": {
          "model_module": "@jupyter-widgets/base",
          "model_name": "LayoutModel",
          "model_module_version": "1.2.0",
          "state": {
            "_model_module": "@jupyter-widgets/base",
            "_model_module_version": "1.2.0",
            "_model_name": "LayoutModel",
            "_view_count": null,
            "_view_module": "@jupyter-widgets/base",
            "_view_module_version": "1.2.0",
            "_view_name": "LayoutView",
            "align_content": null,
            "align_items": null,
            "align_self": null,
            "border": null,
            "bottom": null,
            "display": null,
            "flex": null,
            "flex_flow": null,
            "grid_area": null,
            "grid_auto_columns": null,
            "grid_auto_flow": null,
            "grid_auto_rows": null,
            "grid_column": null,
            "grid_gap": null,
            "grid_row": null,
            "grid_template_areas": null,
            "grid_template_columns": null,
            "grid_template_rows": null,
            "height": null,
            "justify_content": null,
            "justify_items": null,
            "left": null,
            "margin": null,
            "max_height": null,
            "max_width": null,
            "min_height": null,
            "min_width": null,
            "object_fit": null,
            "object_position": null,
            "order": null,
            "overflow": null,
            "overflow_x": null,
            "overflow_y": null,
            "padding": null,
            "right": null,
            "top": null,
            "visibility": null,
            "width": null
          }
        },
        "ed32d02d7a8c4fa897786766e6d13a0a": {
          "model_module": "@jupyter-widgets/controls",
          "model_name": "ProgressStyleModel",
          "model_module_version": "1.5.0",
          "state": {
            "_model_module": "@jupyter-widgets/controls",
            "_model_module_version": "1.5.0",
            "_model_name": "ProgressStyleModel",
            "_view_count": null,
            "_view_module": "@jupyter-widgets/base",
            "_view_module_version": "1.2.0",
            "_view_name": "StyleView",
            "bar_color": null,
            "description_width": ""
          }
        },
        "6de5037a6daf4b748c44e28aa2f99c41": {
          "model_module": "@jupyter-widgets/controls",
          "model_name": "VBoxModel",
          "model_module_version": "1.5.0",
          "state": {
            "_dom_classes": [],
            "_model_module": "@jupyter-widgets/controls",
            "_model_module_version": "1.5.0",
            "_model_name": "VBoxModel",
            "_view_count": null,
            "_view_module": "@jupyter-widgets/controls",
            "_view_module_version": "1.5.0",
            "_view_name": "VBoxView",
            "box_style": "",
            "children": [
              "IPY_MODEL_1d57cc007a6347e3a11fc0a071d10c16",
              "IPY_MODEL_13181d15759d47dc9817b4693bdc8daa"
            ],
            "layout": "IPY_MODEL_f1c46a4c291a46eab5eae0338d59be9e"
          }
        },
        "1d57cc007a6347e3a11fc0a071d10c16": {
          "model_module": "@jupyter-widgets/controls",
          "model_name": "LabelModel",
          "model_module_version": "1.5.0",
          "state": {
            "_dom_classes": [],
            "_model_module": "@jupyter-widgets/controls",
            "_model_module_version": "1.5.0",
            "_model_name": "LabelModel",
            "_view_count": null,
            "_view_module": "@jupyter-widgets/controls",
            "_view_module_version": "1.5.0",
            "_view_name": "LabelView",
            "description": "",
            "description_tooltip": null,
            "layout": "IPY_MODEL_b29baa15e97a4567ab30c95754bdfea7",
            "placeholder": "​",
            "style": "IPY_MODEL_6b9f31d5a1644c81a571e15c4ea00a90",
            "value": "0.001 MB of 0.008 MB uploaded (0.000 MB deduped)\r"
          }
        },
        "13181d15759d47dc9817b4693bdc8daa": {
          "model_module": "@jupyter-widgets/controls",
          "model_name": "FloatProgressModel",
          "model_module_version": "1.5.0",
          "state": {
            "_dom_classes": [],
            "_model_module": "@jupyter-widgets/controls",
            "_model_module_version": "1.5.0",
            "_model_name": "FloatProgressModel",
            "_view_count": null,
            "_view_module": "@jupyter-widgets/controls",
            "_view_module_version": "1.5.0",
            "_view_name": "ProgressView",
            "bar_style": "",
            "description": "",
            "description_tooltip": null,
            "layout": "IPY_MODEL_15e4a40bb48944759e2b14b422e7c389",
            "max": 1,
            "min": 0,
            "orientation": "horizontal",
            "style": "IPY_MODEL_357de92b0d564c1db36663f1d4683f76",
            "value": 0.12047920433996383
          }
        },
        "f1c46a4c291a46eab5eae0338d59be9e": {
          "model_module": "@jupyter-widgets/base",
          "model_name": "LayoutModel",
          "model_module_version": "1.2.0",
          "state": {
            "_model_module": "@jupyter-widgets/base",
            "_model_module_version": "1.2.0",
            "_model_name": "LayoutModel",
            "_view_count": null,
            "_view_module": "@jupyter-widgets/base",
            "_view_module_version": "1.2.0",
            "_view_name": "LayoutView",
            "align_content": null,
            "align_items": null,
            "align_self": null,
            "border": null,
            "bottom": null,
            "display": null,
            "flex": null,
            "flex_flow": null,
            "grid_area": null,
            "grid_auto_columns": null,
            "grid_auto_flow": null,
            "grid_auto_rows": null,
            "grid_column": null,
            "grid_gap": null,
            "grid_row": null,
            "grid_template_areas": null,
            "grid_template_columns": null,
            "grid_template_rows": null,
            "height": null,
            "justify_content": null,
            "justify_items": null,
            "left": null,
            "margin": null,
            "max_height": null,
            "max_width": null,
            "min_height": null,
            "min_width": null,
            "object_fit": null,
            "object_position": null,
            "order": null,
            "overflow": null,
            "overflow_x": null,
            "overflow_y": null,
            "padding": null,
            "right": null,
            "top": null,
            "visibility": null,
            "width": null
          }
        },
        "b29baa15e97a4567ab30c95754bdfea7": {
          "model_module": "@jupyter-widgets/base",
          "model_name": "LayoutModel",
          "model_module_version": "1.2.0",
          "state": {
            "_model_module": "@jupyter-widgets/base",
            "_model_module_version": "1.2.0",
            "_model_name": "LayoutModel",
            "_view_count": null,
            "_view_module": "@jupyter-widgets/base",
            "_view_module_version": "1.2.0",
            "_view_name": "LayoutView",
            "align_content": null,
            "align_items": null,
            "align_self": null,
            "border": null,
            "bottom": null,
            "display": null,
            "flex": null,
            "flex_flow": null,
            "grid_area": null,
            "grid_auto_columns": null,
            "grid_auto_flow": null,
            "grid_auto_rows": null,
            "grid_column": null,
            "grid_gap": null,
            "grid_row": null,
            "grid_template_areas": null,
            "grid_template_columns": null,
            "grid_template_rows": null,
            "height": null,
            "justify_content": null,
            "justify_items": null,
            "left": null,
            "margin": null,
            "max_height": null,
            "max_width": null,
            "min_height": null,
            "min_width": null,
            "object_fit": null,
            "object_position": null,
            "order": null,
            "overflow": null,
            "overflow_x": null,
            "overflow_y": null,
            "padding": null,
            "right": null,
            "top": null,
            "visibility": null,
            "width": null
          }
        },
        "6b9f31d5a1644c81a571e15c4ea00a90": {
          "model_module": "@jupyter-widgets/controls",
          "model_name": "DescriptionStyleModel",
          "model_module_version": "1.5.0",
          "state": {
            "_model_module": "@jupyter-widgets/controls",
            "_model_module_version": "1.5.0",
            "_model_name": "DescriptionStyleModel",
            "_view_count": null,
            "_view_module": "@jupyter-widgets/base",
            "_view_module_version": "1.2.0",
            "_view_name": "StyleView",
            "description_width": ""
          }
        },
        "15e4a40bb48944759e2b14b422e7c389": {
          "model_module": "@jupyter-widgets/base",
          "model_name": "LayoutModel",
          "model_module_version": "1.2.0",
          "state": {
            "_model_module": "@jupyter-widgets/base",
            "_model_module_version": "1.2.0",
            "_model_name": "LayoutModel",
            "_view_count": null,
            "_view_module": "@jupyter-widgets/base",
            "_view_module_version": "1.2.0",
            "_view_name": "LayoutView",
            "align_content": null,
            "align_items": null,
            "align_self": null,
            "border": null,
            "bottom": null,
            "display": null,
            "flex": null,
            "flex_flow": null,
            "grid_area": null,
            "grid_auto_columns": null,
            "grid_auto_flow": null,
            "grid_auto_rows": null,
            "grid_column": null,
            "grid_gap": null,
            "grid_row": null,
            "grid_template_areas": null,
            "grid_template_columns": null,
            "grid_template_rows": null,
            "height": null,
            "justify_content": null,
            "justify_items": null,
            "left": null,
            "margin": null,
            "max_height": null,
            "max_width": null,
            "min_height": null,
            "min_width": null,
            "object_fit": null,
            "object_position": null,
            "order": null,
            "overflow": null,
            "overflow_x": null,
            "overflow_y": null,
            "padding": null,
            "right": null,
            "top": null,
            "visibility": null,
            "width": null
          }
        },
        "357de92b0d564c1db36663f1d4683f76": {
          "model_module": "@jupyter-widgets/controls",
          "model_name": "ProgressStyleModel",
          "model_module_version": "1.5.0",
          "state": {
            "_model_module": "@jupyter-widgets/controls",
            "_model_module_version": "1.5.0",
            "_model_name": "ProgressStyleModel",
            "_view_count": null,
            "_view_module": "@jupyter-widgets/base",
            "_view_module_version": "1.2.0",
            "_view_name": "StyleView",
            "bar_color": null,
            "description_width": ""
          }
        },
        "fde42049c1054335ad5db15b80e5cb91": {
          "model_module": "@jupyter-widgets/controls",
          "model_name": "VBoxModel",
          "model_module_version": "1.5.0",
          "state": {
            "_dom_classes": [],
            "_model_module": "@jupyter-widgets/controls",
            "_model_module_version": "1.5.0",
            "_model_name": "VBoxModel",
            "_view_count": null,
            "_view_module": "@jupyter-widgets/controls",
            "_view_module_version": "1.5.0",
            "_view_name": "VBoxView",
            "box_style": "",
            "children": [
              "IPY_MODEL_92eace6baa474ef1bc04543f2ee178e8",
              "IPY_MODEL_9634eb1e18074798a7112eb841a5e394"
            ],
            "layout": "IPY_MODEL_b2d01a8eeaca453d834de69810b9e071"
          }
        },
        "92eace6baa474ef1bc04543f2ee178e8": {
          "model_module": "@jupyter-widgets/controls",
          "model_name": "LabelModel",
          "model_module_version": "1.5.0",
          "state": {
            "_dom_classes": [],
            "_model_module": "@jupyter-widgets/controls",
            "_model_module_version": "1.5.0",
            "_model_name": "LabelModel",
            "_view_count": null,
            "_view_module": "@jupyter-widgets/controls",
            "_view_module_version": "1.5.0",
            "_view_name": "LabelView",
            "description": "",
            "description_tooltip": null,
            "layout": "IPY_MODEL_71a3bead98554879ac6a10a5f7c2fefa",
            "placeholder": "​",
            "style": "IPY_MODEL_7a5f708985b7490fbf6af52664a26a07",
            "value": "0.001 MB of 0.010 MB uploaded (0.000 MB deduped)\r"
          }
        },
        "9634eb1e18074798a7112eb841a5e394": {
          "model_module": "@jupyter-widgets/controls",
          "model_name": "FloatProgressModel",
          "model_module_version": "1.5.0",
          "state": {
            "_dom_classes": [],
            "_model_module": "@jupyter-widgets/controls",
            "_model_module_version": "1.5.0",
            "_model_name": "FloatProgressModel",
            "_view_count": null,
            "_view_module": "@jupyter-widgets/controls",
            "_view_module_version": "1.5.0",
            "_view_name": "ProgressView",
            "bar_style": "",
            "description": "",
            "description_tooltip": null,
            "layout": "IPY_MODEL_1fbef2a6cc994ef4986ad46c802a6964",
            "max": 1,
            "min": 0,
            "orientation": "horizontal",
            "style": "IPY_MODEL_c59b2337834a490f861ecba9ea7bcb27",
            "value": 0.10119612682741598
          }
        },
        "b2d01a8eeaca453d834de69810b9e071": {
          "model_module": "@jupyter-widgets/base",
          "model_name": "LayoutModel",
          "model_module_version": "1.2.0",
          "state": {
            "_model_module": "@jupyter-widgets/base",
            "_model_module_version": "1.2.0",
            "_model_name": "LayoutModel",
            "_view_count": null,
            "_view_module": "@jupyter-widgets/base",
            "_view_module_version": "1.2.0",
            "_view_name": "LayoutView",
            "align_content": null,
            "align_items": null,
            "align_self": null,
            "border": null,
            "bottom": null,
            "display": null,
            "flex": null,
            "flex_flow": null,
            "grid_area": null,
            "grid_auto_columns": null,
            "grid_auto_flow": null,
            "grid_auto_rows": null,
            "grid_column": null,
            "grid_gap": null,
            "grid_row": null,
            "grid_template_areas": null,
            "grid_template_columns": null,
            "grid_template_rows": null,
            "height": null,
            "justify_content": null,
            "justify_items": null,
            "left": null,
            "margin": null,
            "max_height": null,
            "max_width": null,
            "min_height": null,
            "min_width": null,
            "object_fit": null,
            "object_position": null,
            "order": null,
            "overflow": null,
            "overflow_x": null,
            "overflow_y": null,
            "padding": null,
            "right": null,
            "top": null,
            "visibility": null,
            "width": null
          }
        },
        "71a3bead98554879ac6a10a5f7c2fefa": {
          "model_module": "@jupyter-widgets/base",
          "model_name": "LayoutModel",
          "model_module_version": "1.2.0",
          "state": {
            "_model_module": "@jupyter-widgets/base",
            "_model_module_version": "1.2.0",
            "_model_name": "LayoutModel",
            "_view_count": null,
            "_view_module": "@jupyter-widgets/base",
            "_view_module_version": "1.2.0",
            "_view_name": "LayoutView",
            "align_content": null,
            "align_items": null,
            "align_self": null,
            "border": null,
            "bottom": null,
            "display": null,
            "flex": null,
            "flex_flow": null,
            "grid_area": null,
            "grid_auto_columns": null,
            "grid_auto_flow": null,
            "grid_auto_rows": null,
            "grid_column": null,
            "grid_gap": null,
            "grid_row": null,
            "grid_template_areas": null,
            "grid_template_columns": null,
            "grid_template_rows": null,
            "height": null,
            "justify_content": null,
            "justify_items": null,
            "left": null,
            "margin": null,
            "max_height": null,
            "max_width": null,
            "min_height": null,
            "min_width": null,
            "object_fit": null,
            "object_position": null,
            "order": null,
            "overflow": null,
            "overflow_x": null,
            "overflow_y": null,
            "padding": null,
            "right": null,
            "top": null,
            "visibility": null,
            "width": null
          }
        },
        "7a5f708985b7490fbf6af52664a26a07": {
          "model_module": "@jupyter-widgets/controls",
          "model_name": "DescriptionStyleModel",
          "model_module_version": "1.5.0",
          "state": {
            "_model_module": "@jupyter-widgets/controls",
            "_model_module_version": "1.5.0",
            "_model_name": "DescriptionStyleModel",
            "_view_count": null,
            "_view_module": "@jupyter-widgets/base",
            "_view_module_version": "1.2.0",
            "_view_name": "StyleView",
            "description_width": ""
          }
        },
        "1fbef2a6cc994ef4986ad46c802a6964": {
          "model_module": "@jupyter-widgets/base",
          "model_name": "LayoutModel",
          "model_module_version": "1.2.0",
          "state": {
            "_model_module": "@jupyter-widgets/base",
            "_model_module_version": "1.2.0",
            "_model_name": "LayoutModel",
            "_view_count": null,
            "_view_module": "@jupyter-widgets/base",
            "_view_module_version": "1.2.0",
            "_view_name": "LayoutView",
            "align_content": null,
            "align_items": null,
            "align_self": null,
            "border": null,
            "bottom": null,
            "display": null,
            "flex": null,
            "flex_flow": null,
            "grid_area": null,
            "grid_auto_columns": null,
            "grid_auto_flow": null,
            "grid_auto_rows": null,
            "grid_column": null,
            "grid_gap": null,
            "grid_row": null,
            "grid_template_areas": null,
            "grid_template_columns": null,
            "grid_template_rows": null,
            "height": null,
            "justify_content": null,
            "justify_items": null,
            "left": null,
            "margin": null,
            "max_height": null,
            "max_width": null,
            "min_height": null,
            "min_width": null,
            "object_fit": null,
            "object_position": null,
            "order": null,
            "overflow": null,
            "overflow_x": null,
            "overflow_y": null,
            "padding": null,
            "right": null,
            "top": null,
            "visibility": null,
            "width": null
          }
        },
        "c59b2337834a490f861ecba9ea7bcb27": {
          "model_module": "@jupyter-widgets/controls",
          "model_name": "ProgressStyleModel",
          "model_module_version": "1.5.0",
          "state": {
            "_model_module": "@jupyter-widgets/controls",
            "_model_module_version": "1.5.0",
            "_model_name": "ProgressStyleModel",
            "_view_count": null,
            "_view_module": "@jupyter-widgets/base",
            "_view_module_version": "1.2.0",
            "_view_name": "StyleView",
            "bar_color": null,
            "description_width": ""
          }
        }
      }
    }
  },
  "nbformat": 4,
  "nbformat_minor": 0
}